{
 "cells": [
  {
   "cell_type": "markdown",
   "id": "6a47ef9f",
   "metadata": {},
   "source": [
    "## Attention\n",
    "\n",
    "An order might have multiple items.\n",
    "\n",
    "Each item might be fulfiled by a distinct seller"
   ]
  },
  {
   "cell_type": "code",
   "execution_count": 1,
   "id": "8e412424",
   "metadata": {},
   "outputs": [],
   "source": [
    "#Import required libraries\n",
    "import numpy as np\n",
    "import pandas as pd\n",
    "import seaborn as sb\n",
    "import matplotlib.pyplot as plt\n",
    "# import streamlit as st\n",
    "# import plotly"
   ]
  },
  {
   "cell_type": "code",
   "execution_count": null,
   "id": "b9194ea1",
   "metadata": {},
   "outputs": [],
   "source": []
  },
  {
   "cell_type": "code",
   "execution_count": 2,
   "id": "e5d0dbc5",
   "metadata": {},
   "outputs": [],
   "source": [
    "# The datasets were combined into one Excel file with multiple sheets\n",
    "#Load workbook\n",
    "xl = pd.ExcelFile('olist_store_dataset.xlsx', engine='openpyxl')"
   ]
  },
  {
   "cell_type": "code",
   "execution_count": 3,
   "id": "2c816114",
   "metadata": {},
   "outputs": [
    {
     "data": {
      "text/plain": [
       "['customers_data',\n",
       " 'geolocation_data',\n",
       " 'order_items_data',\n",
       " 'order_payments_data',\n",
       " 'order_reviews_data',\n",
       " 'orders_data',\n",
       " 'products_data',\n",
       " 'sellers_data',\n",
       " 'product_categories_data']"
      ]
     },
     "execution_count": 3,
     "metadata": {},
     "output_type": "execute_result"
    }
   ],
   "source": [
    "# list of sheets containing the datasets\n",
    "xl.sheet_names"
   ]
  },
  {
   "cell_type": "markdown",
   "id": "ebcdcdf7",
   "metadata": {},
   "source": [
    "### Load the tables from Excel worksheet to a pandas dataframe"
   ]
  },
  {
   "cell_type": "code",
   "execution_count": 4,
   "id": "f0718a51",
   "metadata": {},
   "outputs": [
    {
     "data": {
      "text/html": [
       "<div>\n",
       "<style scoped>\n",
       "    .dataframe tbody tr th:only-of-type {\n",
       "        vertical-align: middle;\n",
       "    }\n",
       "\n",
       "    .dataframe tbody tr th {\n",
       "        vertical-align: top;\n",
       "    }\n",
       "\n",
       "    .dataframe thead th {\n",
       "        text-align: right;\n",
       "    }\n",
       "</style>\n",
       "<table border=\"1\" class=\"dataframe\">\n",
       "  <thead>\n",
       "    <tr style=\"text-align: right;\">\n",
       "      <th></th>\n",
       "      <th>customer_id</th>\n",
       "      <th>customer_unique_id</th>\n",
       "      <th>customer_zip_code_prefix</th>\n",
       "      <th>customer_city</th>\n",
       "      <th>customer_state</th>\n",
       "    </tr>\n",
       "  </thead>\n",
       "  <tbody>\n",
       "    <tr>\n",
       "      <th>0</th>\n",
       "      <td>06b8999e2fba1a1fbc88172c00ba8bc7</td>\n",
       "      <td>861eff4711a542e4b93843c6dd7febb0</td>\n",
       "      <td>14409</td>\n",
       "      <td>franca</td>\n",
       "      <td>SP</td>\n",
       "    </tr>\n",
       "    <tr>\n",
       "      <th>1</th>\n",
       "      <td>18955e83d337fd6b2def6b18a428ac77</td>\n",
       "      <td>290c77bc529b7ac935b93aa66c333dc3</td>\n",
       "      <td>9790</td>\n",
       "      <td>sao bernardo do campo</td>\n",
       "      <td>SP</td>\n",
       "    </tr>\n",
       "  </tbody>\n",
       "</table>\n",
       "</div>"
      ],
      "text/plain": [
       "                        customer_id                customer_unique_id  \\\n",
       "0  06b8999e2fba1a1fbc88172c00ba8bc7  861eff4711a542e4b93843c6dd7febb0   \n",
       "1  18955e83d337fd6b2def6b18a428ac77  290c77bc529b7ac935b93aa66c333dc3   \n",
       "\n",
       "   customer_zip_code_prefix          customer_city customer_state  \n",
       "0                     14409                 franca             SP  \n",
       "1                      9790  sao bernardo do campo             SP  "
      ]
     },
     "execution_count": 4,
     "metadata": {},
     "output_type": "execute_result"
    }
   ],
   "source": [
    "# Customers data sheet\n",
    "customers_df = pd.read_excel(xl, sheet_name='customers_data')\n",
    "customers_df.head(2)"
   ]
  },
  {
   "cell_type": "code",
   "execution_count": 5,
   "id": "9dd247f1",
   "metadata": {},
   "outputs": [
    {
     "name": "stdout",
     "output_type": "stream",
     "text": [
      "<class 'pandas.core.frame.DataFrame'>\n",
      "RangeIndex: 99441 entries, 0 to 99440\n",
      "Data columns (total 5 columns):\n",
      " #   Column                    Non-Null Count  Dtype \n",
      "---  ------                    --------------  ----- \n",
      " 0   customer_id               99441 non-null  object\n",
      " 1   customer_unique_id        99441 non-null  object\n",
      " 2   customer_zip_code_prefix  99441 non-null  int64 \n",
      " 3   customer_city             99441 non-null  object\n",
      " 4   customer_state            99441 non-null  object\n",
      "dtypes: int64(1), object(4)\n",
      "memory usage: 3.8+ MB\n"
     ]
    }
   ],
   "source": [
    "customers_df.info()"
   ]
  },
  {
   "cell_type": "code",
   "execution_count": 6,
   "id": "13ab0369",
   "metadata": {},
   "outputs": [
    {
     "name": "stdout",
     "output_type": "stream",
     "text": [
      "<class 'pandas.core.frame.DataFrame'>\n",
      "RangeIndex: 99441 entries, 0 to 99440\n",
      "Data columns (total 5 columns):\n",
      " #   Column                    Non-Null Count  Dtype   \n",
      "---  ------                    --------------  -----   \n",
      " 0   customer_id               99441 non-null  object  \n",
      " 1   customer_unique_id        99441 non-null  object  \n",
      " 2   customer_zip_code_prefix  99441 non-null  object  \n",
      " 3   customer_city             99441 non-null  category\n",
      " 4   customer_state            99441 non-null  category\n",
      "dtypes: category(2), object(3)\n",
      "memory usage: 2.7+ MB\n"
     ]
    }
   ],
   "source": [
    "# change column datatypes\n",
    "convert_dict = {\n",
    "    'customer_zip_code_prefix': str,\n",
    "    'customer_city': 'category',\n",
    "    'customer_state': 'category',\n",
    "}\n",
    "\n",
    "customers_df = customers_df.astype(convert_dict)\n",
    "customers_df.info()"
   ]
  },
  {
   "cell_type": "code",
   "execution_count": 7,
   "id": "180eccaa",
   "metadata": {},
   "outputs": [
    {
     "data": {
      "text/html": [
       "<div>\n",
       "<style scoped>\n",
       "    .dataframe tbody tr th:only-of-type {\n",
       "        vertical-align: middle;\n",
       "    }\n",
       "\n",
       "    .dataframe tbody tr th {\n",
       "        vertical-align: top;\n",
       "    }\n",
       "\n",
       "    .dataframe thead th {\n",
       "        text-align: right;\n",
       "    }\n",
       "</style>\n",
       "<table border=\"1\" class=\"dataframe\">\n",
       "  <thead>\n",
       "    <tr style=\"text-align: right;\">\n",
       "      <th></th>\n",
       "      <th>geolocation_zip_code_prefix</th>\n",
       "      <th>geolocation_lat</th>\n",
       "      <th>geolocation_lng</th>\n",
       "      <th>geolocation_city</th>\n",
       "      <th>geolocation_state</th>\n",
       "    </tr>\n",
       "  </thead>\n",
       "  <tbody>\n",
       "    <tr>\n",
       "      <th>0</th>\n",
       "      <td>1037</td>\n",
       "      <td>-23.545621</td>\n",
       "      <td>-46.639292</td>\n",
       "      <td>sao paulo</td>\n",
       "      <td>SP</td>\n",
       "    </tr>\n",
       "    <tr>\n",
       "      <th>1</th>\n",
       "      <td>1046</td>\n",
       "      <td>-23.546081</td>\n",
       "      <td>-46.644820</td>\n",
       "      <td>sao paulo</td>\n",
       "      <td>SP</td>\n",
       "    </tr>\n",
       "  </tbody>\n",
       "</table>\n",
       "</div>"
      ],
      "text/plain": [
       "   geolocation_zip_code_prefix  geolocation_lat  geolocation_lng  \\\n",
       "0                         1037       -23.545621       -46.639292   \n",
       "1                         1046       -23.546081       -46.644820   \n",
       "\n",
       "  geolocation_city geolocation_state  \n",
       "0        sao paulo                SP  \n",
       "1        sao paulo                SP  "
      ]
     },
     "execution_count": 7,
     "metadata": {},
     "output_type": "execute_result"
    }
   ],
   "source": [
    "# geolocation data sheet\n",
    "geolocation_df = pd.read_excel(xl, sheet_name='geolocation_data')\n",
    "geolocation_df.head(2)"
   ]
  },
  {
   "cell_type": "code",
   "execution_count": 8,
   "id": "a74358df",
   "metadata": {},
   "outputs": [
    {
     "name": "stdout",
     "output_type": "stream",
     "text": [
      "<class 'pandas.core.frame.DataFrame'>\n",
      "RangeIndex: 1000163 entries, 0 to 1000162\n",
      "Data columns (total 5 columns):\n",
      " #   Column                       Non-Null Count    Dtype  \n",
      "---  ------                       --------------    -----  \n",
      " 0   geolocation_zip_code_prefix  1000163 non-null  int64  \n",
      " 1   geolocation_lat              1000163 non-null  float64\n",
      " 2   geolocation_lng              1000163 non-null  float64\n",
      " 3   geolocation_city             1000163 non-null  object \n",
      " 4   geolocation_state            1000163 non-null  object \n",
      "dtypes: float64(2), int64(1), object(2)\n",
      "memory usage: 38.2+ MB\n"
     ]
    }
   ],
   "source": [
    "geolocation_df.info()"
   ]
  },
  {
   "cell_type": "markdown",
   "id": "c052da30",
   "metadata": {},
   "source": [
    "- change datatype for some columns\n",
    "- rename geolocation_zip_code_prefix to seller_zip_code_prefix to merge with sellers_df"
   ]
  },
  {
   "cell_type": "code",
   "execution_count": 9,
   "id": "7db447c3",
   "metadata": {},
   "outputs": [],
   "source": [
    "convert_dict = {\n",
    "    'geolocation_zip_code_prefix' : str,\n",
    "    'geolocation_city': 'category',\n",
    "    'geolocation_state': 'category',\n",
    "}\n",
    "geolocation_df = geolocation_df.astype(convert_dict)\n",
    "\n",
    "# rename geolocation_zip_code_prefix to seller_zip_code_prefix to merge with sellers_df\n",
    "# Due to cache or other errors related to the large file, I had to do this in two steps as shown below\n",
    "\n",
    "geolocation_df['seller_zip_code_prefix'] = geolocation_df.geolocation_zip_code_prefix\n",
    "geolocation_df = geolocation_df.drop(columns=['geolocation_zip_code_prefix'])"
   ]
  },
  {
   "cell_type": "code",
   "execution_count": 10,
   "id": "1f46dacd",
   "metadata": {
    "scrolled": true
   },
   "outputs": [
    {
     "name": "stdout",
     "output_type": "stream",
     "text": [
      "<class 'pandas.core.frame.DataFrame'>\n",
      "RangeIndex: 1000163 entries, 0 to 1000162\n",
      "Data columns (total 5 columns):\n",
      " #   Column                  Non-Null Count    Dtype   \n",
      "---  ------                  --------------    -----   \n",
      " 0   geolocation_lat         1000163 non-null  float64 \n",
      " 1   geolocation_lng         1000163 non-null  float64 \n",
      " 2   geolocation_city        1000163 non-null  category\n",
      " 3   geolocation_state       1000163 non-null  category\n",
      " 4   seller_zip_code_prefix  1000163 non-null  object  \n",
      "dtypes: category(2), float64(2), object(1)\n",
      "memory usage: 26.1+ MB\n"
     ]
    }
   ],
   "source": [
    "geolocation_df.info()"
   ]
  },
  {
   "cell_type": "code",
   "execution_count": 11,
   "id": "24ba7ed7",
   "metadata": {},
   "outputs": [
    {
     "data": {
      "text/html": [
       "<div>\n",
       "<style scoped>\n",
       "    .dataframe tbody tr th:only-of-type {\n",
       "        vertical-align: middle;\n",
       "    }\n",
       "\n",
       "    .dataframe tbody tr th {\n",
       "        vertical-align: top;\n",
       "    }\n",
       "\n",
       "    .dataframe thead th {\n",
       "        text-align: right;\n",
       "    }\n",
       "</style>\n",
       "<table border=\"1\" class=\"dataframe\">\n",
       "  <thead>\n",
       "    <tr style=\"text-align: right;\">\n",
       "      <th></th>\n",
       "      <th>order_id</th>\n",
       "      <th>order_item_id</th>\n",
       "      <th>product_id</th>\n",
       "      <th>seller_id</th>\n",
       "      <th>shipping_limit_date</th>\n",
       "      <th>price</th>\n",
       "      <th>freight_value</th>\n",
       "    </tr>\n",
       "  </thead>\n",
       "  <tbody>\n",
       "    <tr>\n",
       "      <th>0</th>\n",
       "      <td>00010242fe8c5a6d1ba2dd792cb16214</td>\n",
       "      <td>1</td>\n",
       "      <td>4244733e06e7ecb4970a6e2683c13e61</td>\n",
       "      <td>48436dade18ac8b2bce089ec2a041202</td>\n",
       "      <td>2017-09-19 09:45:35</td>\n",
       "      <td>58.9</td>\n",
       "      <td>13.29</td>\n",
       "    </tr>\n",
       "    <tr>\n",
       "      <th>1</th>\n",
       "      <td>00018f77f2f0320c557190d7a144bdd3</td>\n",
       "      <td>1</td>\n",
       "      <td>e5f2d52b802189ee658865ca93d83a8f</td>\n",
       "      <td>dd7ddc04e1b6c2c614352b383efe2d36</td>\n",
       "      <td>2017-05-03 11:05:13</td>\n",
       "      <td>239.9</td>\n",
       "      <td>19.93</td>\n",
       "    </tr>\n",
       "  </tbody>\n",
       "</table>\n",
       "</div>"
      ],
      "text/plain": [
       "                           order_id  order_item_id  \\\n",
       "0  00010242fe8c5a6d1ba2dd792cb16214              1   \n",
       "1  00018f77f2f0320c557190d7a144bdd3              1   \n",
       "\n",
       "                         product_id                         seller_id  \\\n",
       "0  4244733e06e7ecb4970a6e2683c13e61  48436dade18ac8b2bce089ec2a041202   \n",
       "1  e5f2d52b802189ee658865ca93d83a8f  dd7ddc04e1b6c2c614352b383efe2d36   \n",
       "\n",
       "  shipping_limit_date  price  freight_value  \n",
       "0 2017-09-19 09:45:35   58.9          13.29  \n",
       "1 2017-05-03 11:05:13  239.9          19.93  "
      ]
     },
     "execution_count": 11,
     "metadata": {},
     "output_type": "execute_result"
    }
   ],
   "source": [
    "# order_items data sheet\n",
    "order_items_df = pd.read_excel(xl, sheet_name='order_items_data')\n",
    "order_items_df.head(2)"
   ]
  },
  {
   "cell_type": "code",
   "execution_count": 12,
   "id": "0a2fd87e",
   "metadata": {},
   "outputs": [
    {
     "name": "stdout",
     "output_type": "stream",
     "text": [
      "<class 'pandas.core.frame.DataFrame'>\n",
      "RangeIndex: 112650 entries, 0 to 112649\n",
      "Data columns (total 7 columns):\n",
      " #   Column               Non-Null Count   Dtype         \n",
      "---  ------               --------------   -----         \n",
      " 0   order_id             112650 non-null  object        \n",
      " 1   order_item_id        112650 non-null  int64         \n",
      " 2   product_id           112650 non-null  object        \n",
      " 3   seller_id            112650 non-null  object        \n",
      " 4   shipping_limit_date  112650 non-null  datetime64[ns]\n",
      " 5   price                112650 non-null  float64       \n",
      " 6   freight_value        112650 non-null  float64       \n",
      "dtypes: datetime64[ns](1), float64(2), int64(1), object(3)\n",
      "memory usage: 6.0+ MB\n"
     ]
    }
   ],
   "source": [
    "order_items_df.info()"
   ]
  },
  {
   "cell_type": "markdown",
   "id": "fe208aa0",
   "metadata": {},
   "source": [
    "- Change datatypes for some columns\n",
    "- Drop the shipping_limit_date column"
   ]
  },
  {
   "cell_type": "code",
   "execution_count": 13,
   "id": "37cb67b3",
   "metadata": {},
   "outputs": [],
   "source": [
    "convert_dict = {\n",
    "    'order_item_id': str,\n",
    "    'product_id': str,\n",
    "    'seller_id': str,    \n",
    "}\n",
    "\n",
    "order_items_df = order_items_df.astype(convert_dict)\n",
    "order_items_df = order_items_df.drop(columns=['shipping_limit_date'])"
   ]
  },
  {
   "cell_type": "code",
   "execution_count": 14,
   "id": "68b82855",
   "metadata": {},
   "outputs": [
    {
     "name": "stdout",
     "output_type": "stream",
     "text": [
      "<class 'pandas.core.frame.DataFrame'>\n",
      "RangeIndex: 112650 entries, 0 to 112649\n",
      "Data columns (total 6 columns):\n",
      " #   Column         Non-Null Count   Dtype  \n",
      "---  ------         --------------   -----  \n",
      " 0   order_id       112650 non-null  object \n",
      " 1   order_item_id  112650 non-null  object \n",
      " 2   product_id     112650 non-null  object \n",
      " 3   seller_id      112650 non-null  object \n",
      " 4   price          112650 non-null  float64\n",
      " 5   freight_value  112650 non-null  float64\n",
      "dtypes: float64(2), object(4)\n",
      "memory usage: 5.2+ MB\n"
     ]
    }
   ],
   "source": [
    "order_items_df.info()"
   ]
  },
  {
   "cell_type": "code",
   "execution_count": 15,
   "id": "aeba12fc",
   "metadata": {},
   "outputs": [
    {
     "data": {
      "text/html": [
       "<div>\n",
       "<style scoped>\n",
       "    .dataframe tbody tr th:only-of-type {\n",
       "        vertical-align: middle;\n",
       "    }\n",
       "\n",
       "    .dataframe tbody tr th {\n",
       "        vertical-align: top;\n",
       "    }\n",
       "\n",
       "    .dataframe thead th {\n",
       "        text-align: right;\n",
       "    }\n",
       "</style>\n",
       "<table border=\"1\" class=\"dataframe\">\n",
       "  <thead>\n",
       "    <tr style=\"text-align: right;\">\n",
       "      <th></th>\n",
       "      <th>order_id</th>\n",
       "      <th>payment_sequential</th>\n",
       "      <th>payment_type</th>\n",
       "      <th>payment_installments</th>\n",
       "      <th>payment_value</th>\n",
       "    </tr>\n",
       "  </thead>\n",
       "  <tbody>\n",
       "    <tr>\n",
       "      <th>0</th>\n",
       "      <td>b81ef226f3fe1789b1e8b2acac839d17</td>\n",
       "      <td>1</td>\n",
       "      <td>credit_card</td>\n",
       "      <td>8</td>\n",
       "      <td>99.33</td>\n",
       "    </tr>\n",
       "    <tr>\n",
       "      <th>1</th>\n",
       "      <td>a9810da82917af2d9aefd1278f1dcfa0</td>\n",
       "      <td>1</td>\n",
       "      <td>credit_card</td>\n",
       "      <td>1</td>\n",
       "      <td>24.39</td>\n",
       "    </tr>\n",
       "  </tbody>\n",
       "</table>\n",
       "</div>"
      ],
      "text/plain": [
       "                           order_id  payment_sequential payment_type  \\\n",
       "0  b81ef226f3fe1789b1e8b2acac839d17                   1  credit_card   \n",
       "1  a9810da82917af2d9aefd1278f1dcfa0                   1  credit_card   \n",
       "\n",
       "   payment_installments  payment_value  \n",
       "0                     8          99.33  \n",
       "1                     1          24.39  "
      ]
     },
     "execution_count": 15,
     "metadata": {},
     "output_type": "execute_result"
    }
   ],
   "source": [
    "# order_payments data sheet\n",
    "order_payments_df = pd.read_excel(xl, sheet_name='order_payments_data')\n",
    "order_payments_df.head(2)"
   ]
  },
  {
   "cell_type": "code",
   "execution_count": 16,
   "id": "cd0b4ddf",
   "metadata": {},
   "outputs": [
    {
     "name": "stdout",
     "output_type": "stream",
     "text": [
      "<class 'pandas.core.frame.DataFrame'>\n",
      "RangeIndex: 103886 entries, 0 to 103885\n",
      "Data columns (total 5 columns):\n",
      " #   Column                Non-Null Count   Dtype  \n",
      "---  ------                --------------   -----  \n",
      " 0   order_id              103886 non-null  object \n",
      " 1   payment_sequential    103886 non-null  int64  \n",
      " 2   payment_type          103886 non-null  object \n",
      " 3   payment_installments  103886 non-null  int64  \n",
      " 4   payment_value         103886 non-null  float64\n",
      "dtypes: float64(1), int64(2), object(2)\n",
      "memory usage: 4.0+ MB\n"
     ]
    }
   ],
   "source": [
    "order_payments_df.info()"
   ]
  },
  {
   "cell_type": "code",
   "execution_count": 17,
   "id": "f6402db0",
   "metadata": {},
   "outputs": [
    {
     "name": "stdout",
     "output_type": "stream",
     "text": [
      "<class 'pandas.core.frame.DataFrame'>\n",
      "RangeIndex: 103886 entries, 0 to 103885\n",
      "Data columns (total 3 columns):\n",
      " #   Column         Non-Null Count   Dtype   \n",
      "---  ------         --------------   -----   \n",
      " 0   order_id       103886 non-null  object  \n",
      " 1   payment_type   103886 non-null  category\n",
      " 2   payment_value  103886 non-null  float64 \n",
      "dtypes: category(1), float64(1), object(1)\n",
      "memory usage: 1.7+ MB\n"
     ]
    }
   ],
   "source": [
    "# Change datatype\n",
    "convert_dict = {\n",
    "    'order_id': str,\n",
    "    'payment_type': 'category', \n",
    "}\n",
    "order_payments_df = order_payments_df.astype(convert_dict)\n",
    "\n",
    "# drop irrelevant columns\n",
    "order_payments_df = order_payments_df.drop(columns=['payment_sequential', 'payment_installments'])\n",
    "order_payments_df.info()"
   ]
  },
  {
   "cell_type": "code",
   "execution_count": null,
   "id": "df885d02",
   "metadata": {},
   "outputs": [],
   "source": []
  },
  {
   "cell_type": "code",
   "execution_count": 18,
   "id": "b6f636bf",
   "metadata": {},
   "outputs": [
    {
     "data": {
      "text/html": [
       "<div>\n",
       "<style scoped>\n",
       "    .dataframe tbody tr th:only-of-type {\n",
       "        vertical-align: middle;\n",
       "    }\n",
       "\n",
       "    .dataframe tbody tr th {\n",
       "        vertical-align: top;\n",
       "    }\n",
       "\n",
       "    .dataframe thead th {\n",
       "        text-align: right;\n",
       "    }\n",
       "</style>\n",
       "<table border=\"1\" class=\"dataframe\">\n",
       "  <thead>\n",
       "    <tr style=\"text-align: right;\">\n",
       "      <th></th>\n",
       "      <th>review_id</th>\n",
       "      <th>order_id</th>\n",
       "      <th>review_score</th>\n",
       "      <th>review_comment_title</th>\n",
       "      <th>review_comment_message</th>\n",
       "      <th>review_creation_date</th>\n",
       "      <th>review_answer_timestamp</th>\n",
       "    </tr>\n",
       "  </thead>\n",
       "  <tbody>\n",
       "    <tr>\n",
       "      <th>0</th>\n",
       "      <td>7bc2406110b926393aa56f80a40eba40</td>\n",
       "      <td>73fc7af87114b39712e6da79b0a377eb</td>\n",
       "      <td>4</td>\n",
       "      <td>NaN</td>\n",
       "      <td>NaN</td>\n",
       "      <td>2018-01-18</td>\n",
       "      <td>2018-01-18 21:46:59</td>\n",
       "    </tr>\n",
       "    <tr>\n",
       "      <th>1</th>\n",
       "      <td>80e641a11e56f04c1ad469d5645fdfde</td>\n",
       "      <td>a548910a1c6147796b98fdf73dbeba33</td>\n",
       "      <td>5</td>\n",
       "      <td>NaN</td>\n",
       "      <td>NaN</td>\n",
       "      <td>2018-03-10</td>\n",
       "      <td>2018-03-11 03:05:13</td>\n",
       "    </tr>\n",
       "  </tbody>\n",
       "</table>\n",
       "</div>"
      ],
      "text/plain": [
       "                          review_id                          order_id  \\\n",
       "0  7bc2406110b926393aa56f80a40eba40  73fc7af87114b39712e6da79b0a377eb   \n",
       "1  80e641a11e56f04c1ad469d5645fdfde  a548910a1c6147796b98fdf73dbeba33   \n",
       "\n",
       "   review_score review_comment_title review_comment_message  \\\n",
       "0             4                  NaN                    NaN   \n",
       "1             5                  NaN                    NaN   \n",
       "\n",
       "  review_creation_date review_answer_timestamp  \n",
       "0           2018-01-18     2018-01-18 21:46:59  \n",
       "1           2018-03-10     2018-03-11 03:05:13  "
      ]
     },
     "execution_count": 18,
     "metadata": {},
     "output_type": "execute_result"
    }
   ],
   "source": [
    "# order_reviews data sheet\n",
    "order_reviews_df = pd.read_excel(xl, sheet_name='order_reviews_data')\n",
    "order_reviews_df.head(2)"
   ]
  },
  {
   "cell_type": "code",
   "execution_count": 19,
   "id": "84f908f9",
   "metadata": {},
   "outputs": [
    {
     "name": "stdout",
     "output_type": "stream",
     "text": [
      "<class 'pandas.core.frame.DataFrame'>\n",
      "RangeIndex: 99224 entries, 0 to 99223\n",
      "Data columns (total 7 columns):\n",
      " #   Column                   Non-Null Count  Dtype         \n",
      "---  ------                   --------------  -----         \n",
      " 0   review_id                99224 non-null  object        \n",
      " 1   order_id                 99224 non-null  object        \n",
      " 2   review_score             99224 non-null  int64         \n",
      " 3   review_comment_title     11567 non-null  object        \n",
      " 4   review_comment_message   40974 non-null  object        \n",
      " 5   review_creation_date     99224 non-null  datetime64[ns]\n",
      " 6   review_answer_timestamp  99224 non-null  datetime64[ns]\n",
      "dtypes: datetime64[ns](2), int64(1), object(4)\n",
      "memory usage: 5.3+ MB\n"
     ]
    }
   ],
   "source": [
    "order_reviews_df.info()"
   ]
  },
  {
   "cell_type": "code",
   "execution_count": 20,
   "id": "7b6019c7",
   "metadata": {
    "scrolled": true
   },
   "outputs": [
    {
     "name": "stdout",
     "output_type": "stream",
     "text": [
      "<class 'pandas.core.frame.DataFrame'>\n",
      "RangeIndex: 99224 entries, 0 to 99223\n",
      "Data columns (total 3 columns):\n",
      " #   Column        Non-Null Count  Dtype   \n",
      "---  ------        --------------  -----   \n",
      " 0   review_id     99224 non-null  object  \n",
      " 1   order_id      99224 non-null  object  \n",
      " 2   review_score  99224 non-null  category\n",
      "dtypes: category(1), object(2)\n",
      "memory usage: 1.6+ MB\n"
     ]
    }
   ],
   "source": [
    "# change dtype\n",
    "convert_dict = {\n",
    "    'review_score': 'category',\n",
    "}\n",
    "order_reviews_df = order_reviews_df.astype(convert_dict)\n",
    "\n",
    "# drop irrelevant columns\n",
    "order_reviews_df = order_reviews_df.drop(columns=['review_creation_date','review_comment_message',\n",
    "                                                  'review_comment_title','review_answer_timestamp',\n",
    "                                                 ])\n",
    "order_reviews_df.info()"
   ]
  },
  {
   "cell_type": "code",
   "execution_count": 21,
   "id": "03589eb5",
   "metadata": {},
   "outputs": [
    {
     "data": {
      "text/html": [
       "<div>\n",
       "<style scoped>\n",
       "    .dataframe tbody tr th:only-of-type {\n",
       "        vertical-align: middle;\n",
       "    }\n",
       "\n",
       "    .dataframe tbody tr th {\n",
       "        vertical-align: top;\n",
       "    }\n",
       "\n",
       "    .dataframe thead th {\n",
       "        text-align: right;\n",
       "    }\n",
       "</style>\n",
       "<table border=\"1\" class=\"dataframe\">\n",
       "  <thead>\n",
       "    <tr style=\"text-align: right;\">\n",
       "      <th></th>\n",
       "      <th>order_id</th>\n",
       "      <th>customer_id</th>\n",
       "      <th>order_status</th>\n",
       "      <th>order_purchase_timestamp</th>\n",
       "      <th>order_approved_at</th>\n",
       "      <th>order_delivered_carrier_date</th>\n",
       "      <th>order_delivered_customer_date</th>\n",
       "      <th>order_estimated_delivery_date</th>\n",
       "    </tr>\n",
       "  </thead>\n",
       "  <tbody>\n",
       "    <tr>\n",
       "      <th>0</th>\n",
       "      <td>e481f51cbdc54678b7cc49136f2d6af7</td>\n",
       "      <td>9ef432eb6251297304e76186b10a928d</td>\n",
       "      <td>delivered</td>\n",
       "      <td>2017-10-02 10:56:33</td>\n",
       "      <td>2017-10-02 11:07:15</td>\n",
       "      <td>2017-10-04 19:55:00</td>\n",
       "      <td>2017-10-10 21:25:13</td>\n",
       "      <td>2017-10-18</td>\n",
       "    </tr>\n",
       "    <tr>\n",
       "      <th>1</th>\n",
       "      <td>53cdb2fc8bc7dce0b6741e2150273451</td>\n",
       "      <td>b0830fb4747a6c6d20dea0b8c802d7ef</td>\n",
       "      <td>delivered</td>\n",
       "      <td>2018-07-24 20:41:37</td>\n",
       "      <td>2018-07-26 03:24:27</td>\n",
       "      <td>2018-07-26 14:31:00</td>\n",
       "      <td>2018-08-07 15:27:45</td>\n",
       "      <td>2018-08-13</td>\n",
       "    </tr>\n",
       "  </tbody>\n",
       "</table>\n",
       "</div>"
      ],
      "text/plain": [
       "                           order_id                       customer_id  \\\n",
       "0  e481f51cbdc54678b7cc49136f2d6af7  9ef432eb6251297304e76186b10a928d   \n",
       "1  53cdb2fc8bc7dce0b6741e2150273451  b0830fb4747a6c6d20dea0b8c802d7ef   \n",
       "\n",
       "  order_status order_purchase_timestamp   order_approved_at  \\\n",
       "0    delivered      2017-10-02 10:56:33 2017-10-02 11:07:15   \n",
       "1    delivered      2018-07-24 20:41:37 2018-07-26 03:24:27   \n",
       "\n",
       "  order_delivered_carrier_date order_delivered_customer_date  \\\n",
       "0          2017-10-04 19:55:00           2017-10-10 21:25:13   \n",
       "1          2018-07-26 14:31:00           2018-08-07 15:27:45   \n",
       "\n",
       "  order_estimated_delivery_date  \n",
       "0                    2017-10-18  \n",
       "1                    2018-08-13  "
      ]
     },
     "execution_count": 21,
     "metadata": {},
     "output_type": "execute_result"
    }
   ],
   "source": [
    "# orders data sheet\n",
    "orders_df = pd.read_excel(xl, sheet_name='orders_data')\n",
    "orders_df.head(2)"
   ]
  },
  {
   "cell_type": "code",
   "execution_count": 22,
   "id": "96eaa1c7",
   "metadata": {},
   "outputs": [
    {
     "name": "stdout",
     "output_type": "stream",
     "text": [
      "<class 'pandas.core.frame.DataFrame'>\n",
      "RangeIndex: 99441 entries, 0 to 99440\n",
      "Data columns (total 8 columns):\n",
      " #   Column                         Non-Null Count  Dtype         \n",
      "---  ------                         --------------  -----         \n",
      " 0   order_id                       99441 non-null  object        \n",
      " 1   customer_id                    99441 non-null  object        \n",
      " 2   order_status                   99441 non-null  object        \n",
      " 3   order_purchase_timestamp       99441 non-null  datetime64[ns]\n",
      " 4   order_approved_at              99281 non-null  datetime64[ns]\n",
      " 5   order_delivered_carrier_date   97658 non-null  datetime64[ns]\n",
      " 6   order_delivered_customer_date  96476 non-null  datetime64[ns]\n",
      " 7   order_estimated_delivery_date  99441 non-null  datetime64[ns]\n",
      "dtypes: datetime64[ns](5), object(3)\n",
      "memory usage: 6.1+ MB\n"
     ]
    }
   ],
   "source": [
    "orders_df.info()"
   ]
  },
  {
   "cell_type": "code",
   "execution_count": 23,
   "id": "dbe206e6",
   "metadata": {},
   "outputs": [
    {
     "name": "stdout",
     "output_type": "stream",
     "text": [
      "<class 'pandas.core.frame.DataFrame'>\n",
      "RangeIndex: 99441 entries, 0 to 99440\n",
      "Data columns (total 5 columns):\n",
      " #   Column                         Non-Null Count  Dtype         \n",
      "---  ------                         --------------  -----         \n",
      " 0   order_id                       99441 non-null  object        \n",
      " 1   customer_id                    99441 non-null  object        \n",
      " 2   order_status                   99441 non-null  category      \n",
      " 3   order_approved_at              99281 non-null  datetime64[ns]\n",
      " 4   order_delivered_customer_date  96476 non-null  datetime64[ns]\n",
      "dtypes: category(1), datetime64[ns](2), object(2)\n",
      "memory usage: 3.1+ MB\n"
     ]
    }
   ],
   "source": [
    "# change dtype\n",
    "orders_df.order_status = orders_df.order_status.astype('category')\n",
    "\n",
    "# drop irrelevant columns\n",
    "orders_df = orders_df.drop(columns = ['order_purchase_timestamp','order_delivered_carrier_date', \n",
    "                                      'order_estimated_delivery_date'\n",
    "                                     ])\n",
    "orders_df.info()"
   ]
  },
  {
   "cell_type": "code",
   "execution_count": 24,
   "id": "8ae3b5fc",
   "metadata": {},
   "outputs": [
    {
     "data": {
      "text/html": [
       "<div>\n",
       "<style scoped>\n",
       "    .dataframe tbody tr th:only-of-type {\n",
       "        vertical-align: middle;\n",
       "    }\n",
       "\n",
       "    .dataframe tbody tr th {\n",
       "        vertical-align: top;\n",
       "    }\n",
       "\n",
       "    .dataframe thead th {\n",
       "        text-align: right;\n",
       "    }\n",
       "</style>\n",
       "<table border=\"1\" class=\"dataframe\">\n",
       "  <thead>\n",
       "    <tr style=\"text-align: right;\">\n",
       "      <th></th>\n",
       "      <th>product_id</th>\n",
       "      <th>product_category_name</th>\n",
       "      <th>product_name_lenght</th>\n",
       "      <th>product_description_lenght</th>\n",
       "      <th>product_photos_qty</th>\n",
       "      <th>product_weight_g</th>\n",
       "      <th>product_length_cm</th>\n",
       "      <th>product_height_cm</th>\n",
       "      <th>product_width_cm</th>\n",
       "    </tr>\n",
       "  </thead>\n",
       "  <tbody>\n",
       "    <tr>\n",
       "      <th>0</th>\n",
       "      <td>1e9e8ef04dbcff4541ed26657ea517e5</td>\n",
       "      <td>perfumaria</td>\n",
       "      <td>40.0</td>\n",
       "      <td>287.0</td>\n",
       "      <td>1.0</td>\n",
       "      <td>225.0</td>\n",
       "      <td>16.0</td>\n",
       "      <td>10.0</td>\n",
       "      <td>14.0</td>\n",
       "    </tr>\n",
       "    <tr>\n",
       "      <th>1</th>\n",
       "      <td>3aa071139cb16b67ca9e5dea641aaa2f</td>\n",
       "      <td>artes</td>\n",
       "      <td>44.0</td>\n",
       "      <td>276.0</td>\n",
       "      <td>1.0</td>\n",
       "      <td>1000.0</td>\n",
       "      <td>30.0</td>\n",
       "      <td>18.0</td>\n",
       "      <td>20.0</td>\n",
       "    </tr>\n",
       "  </tbody>\n",
       "</table>\n",
       "</div>"
      ],
      "text/plain": [
       "                         product_id product_category_name  \\\n",
       "0  1e9e8ef04dbcff4541ed26657ea517e5            perfumaria   \n",
       "1  3aa071139cb16b67ca9e5dea641aaa2f                 artes   \n",
       "\n",
       "   product_name_lenght  product_description_lenght  product_photos_qty  \\\n",
       "0                 40.0                       287.0                 1.0   \n",
       "1                 44.0                       276.0                 1.0   \n",
       "\n",
       "   product_weight_g  product_length_cm  product_height_cm  product_width_cm  \n",
       "0             225.0               16.0               10.0              14.0  \n",
       "1            1000.0               30.0               18.0              20.0  "
      ]
     },
     "execution_count": 24,
     "metadata": {},
     "output_type": "execute_result"
    }
   ],
   "source": [
    "# products data sheet\n",
    "products_df = pd.read_excel(xl, sheet_name='products_data')\n",
    "products_df.head(2)"
   ]
  },
  {
   "cell_type": "code",
   "execution_count": 25,
   "id": "834b065e",
   "metadata": {},
   "outputs": [
    {
     "name": "stdout",
     "output_type": "stream",
     "text": [
      "<class 'pandas.core.frame.DataFrame'>\n",
      "RangeIndex: 32951 entries, 0 to 32950\n",
      "Data columns (total 9 columns):\n",
      " #   Column                      Non-Null Count  Dtype  \n",
      "---  ------                      --------------  -----  \n",
      " 0   product_id                  32951 non-null  object \n",
      " 1   product_category_name       32341 non-null  object \n",
      " 2   product_name_lenght         32341 non-null  float64\n",
      " 3   product_description_lenght  32341 non-null  float64\n",
      " 4   product_photos_qty          32341 non-null  float64\n",
      " 5   product_weight_g            32949 non-null  float64\n",
      " 6   product_length_cm           32949 non-null  float64\n",
      " 7   product_height_cm           32949 non-null  float64\n",
      " 8   product_width_cm            32949 non-null  float64\n",
      "dtypes: float64(7), object(2)\n",
      "memory usage: 2.3+ MB\n"
     ]
    }
   ],
   "source": [
    "products_df.info()"
   ]
  },
  {
   "cell_type": "code",
   "execution_count": 26,
   "id": "34204981",
   "metadata": {},
   "outputs": [
    {
     "name": "stdout",
     "output_type": "stream",
     "text": [
      "<class 'pandas.core.frame.DataFrame'>\n",
      "RangeIndex: 32951 entries, 0 to 32950\n",
      "Data columns (total 2 columns):\n",
      " #   Column                 Non-Null Count  Dtype \n",
      "---  ------                 --------------  ----- \n",
      " 0   product_id             32951 non-null  object\n",
      " 1   product_category_name  32341 non-null  object\n",
      "dtypes: object(2)\n",
      "memory usage: 515.0+ KB\n"
     ]
    }
   ],
   "source": [
    "# drop irrelevant columns\n",
    "products_df = products_df.drop(columns=['product_name_lenght',\n",
    "       'product_description_lenght', 'product_photos_qty', 'product_weight_g',\n",
    "       'product_length_cm', 'product_height_cm', 'product_width_cm'])\n",
    "products_df.info()"
   ]
  },
  {
   "cell_type": "code",
   "execution_count": 27,
   "id": "94900d57",
   "metadata": {},
   "outputs": [
    {
     "data": {
      "text/html": [
       "<div>\n",
       "<style scoped>\n",
       "    .dataframe tbody tr th:only-of-type {\n",
       "        vertical-align: middle;\n",
       "    }\n",
       "\n",
       "    .dataframe tbody tr th {\n",
       "        vertical-align: top;\n",
       "    }\n",
       "\n",
       "    .dataframe thead th {\n",
       "        text-align: right;\n",
       "    }\n",
       "</style>\n",
       "<table border=\"1\" class=\"dataframe\">\n",
       "  <thead>\n",
       "    <tr style=\"text-align: right;\">\n",
       "      <th></th>\n",
       "      <th>seller_id</th>\n",
       "      <th>seller_zip_code_prefix</th>\n",
       "      <th>seller_city</th>\n",
       "      <th>seller_state</th>\n",
       "    </tr>\n",
       "  </thead>\n",
       "  <tbody>\n",
       "    <tr>\n",
       "      <th>0</th>\n",
       "      <td>3442f8959a84dea7ee197c632cb2df15</td>\n",
       "      <td>13023</td>\n",
       "      <td>campinas</td>\n",
       "      <td>SP</td>\n",
       "    </tr>\n",
       "    <tr>\n",
       "      <th>1</th>\n",
       "      <td>d1b65fc7debc3361ea86b5f14c68d2e2</td>\n",
       "      <td>13844</td>\n",
       "      <td>mogi guacu</td>\n",
       "      <td>SP</td>\n",
       "    </tr>\n",
       "  </tbody>\n",
       "</table>\n",
       "</div>"
      ],
      "text/plain": [
       "                          seller_id  seller_zip_code_prefix seller_city  \\\n",
       "0  3442f8959a84dea7ee197c632cb2df15                   13023    campinas   \n",
       "1  d1b65fc7debc3361ea86b5f14c68d2e2                   13844  mogi guacu   \n",
       "\n",
       "  seller_state  \n",
       "0           SP  \n",
       "1           SP  "
      ]
     },
     "execution_count": 27,
     "metadata": {},
     "output_type": "execute_result"
    }
   ],
   "source": [
    "# sellers data sheet\n",
    "sellers_df = pd.read_excel(xl, sheet_name='sellers_data')\n",
    "sellers_df.head(2)"
   ]
  },
  {
   "cell_type": "code",
   "execution_count": 28,
   "id": "b5e4025a",
   "metadata": {},
   "outputs": [
    {
     "name": "stdout",
     "output_type": "stream",
     "text": [
      "<class 'pandas.core.frame.DataFrame'>\n",
      "RangeIndex: 3095 entries, 0 to 3094\n",
      "Data columns (total 4 columns):\n",
      " #   Column                  Non-Null Count  Dtype \n",
      "---  ------                  --------------  ----- \n",
      " 0   seller_id               3095 non-null   object\n",
      " 1   seller_zip_code_prefix  3095 non-null   int64 \n",
      " 2   seller_city             3095 non-null   object\n",
      " 3   seller_state            3095 non-null   object\n",
      "dtypes: int64(1), object(3)\n",
      "memory usage: 96.8+ KB\n"
     ]
    }
   ],
   "source": [
    "sellers_df.info()"
   ]
  },
  {
   "cell_type": "code",
   "execution_count": 29,
   "id": "632af1ae",
   "metadata": {},
   "outputs": [
    {
     "name": "stdout",
     "output_type": "stream",
     "text": [
      "<class 'pandas.core.frame.DataFrame'>\n",
      "RangeIndex: 3095 entries, 0 to 3094\n",
      "Data columns (total 4 columns):\n",
      " #   Column                  Non-Null Count  Dtype   \n",
      "---  ------                  --------------  -----   \n",
      " 0   seller_id               3095 non-null   object  \n",
      " 1   seller_zip_code_prefix  3095 non-null   object  \n",
      " 2   seller_city             3095 non-null   category\n",
      " 3   seller_state            3095 non-null   category\n",
      "dtypes: category(2), object(2)\n",
      "memory usage: 79.2+ KB\n"
     ]
    }
   ],
   "source": [
    "# change datatypes of columns\n",
    "convert_dict = {\n",
    "    'seller_zip_code_prefix': str,\n",
    "    'seller_id': str,\n",
    "    'seller_city': 'category',\n",
    "    'seller_state': 'category',\n",
    "}\n",
    "sellers_df = sellers_df.astype(convert_dict)\n",
    "sellers_df.info()"
   ]
  },
  {
   "cell_type": "code",
   "execution_count": 30,
   "id": "296780f6",
   "metadata": {},
   "outputs": [
    {
     "name": "stdout",
     "output_type": "stream",
     "text": [
      "<class 'pandas.core.frame.DataFrame'>\n",
      "RangeIndex: 71 entries, 0 to 70\n",
      "Data columns (total 2 columns):\n",
      " #   Column                         Non-Null Count  Dtype \n",
      "---  ------                         --------------  ----- \n",
      " 0   product_category_name          71 non-null     object\n",
      " 1   product_category_name_english  71 non-null     object\n",
      "dtypes: object(2)\n",
      "memory usage: 1.2+ KB\n"
     ]
    }
   ],
   "source": [
    "# product_categories data sheet\n",
    "product_categories_df = pd.read_excel(xl, sheet_name='product_categories_data')\n",
    "product_categories_df.info()"
   ]
  },
  {
   "cell_type": "markdown",
   "id": "869b605e",
   "metadata": {},
   "source": [
    "## Using the schema below, let's merge the tables.\n",
    "\n",
    ">1.\tAn order might have multiple items.\n",
    "2.\tEach item might be fulfilled by a distinct seller.\n",
    "3.\tAll text identifying stores and partners were replaced by the names of Game of Thrones great houses.\n"
   ]
  },
  {
   "cell_type": "markdown",
   "id": "ab374c66",
   "metadata": {},
   "source": [
    "<img src='schema.png' alt='Table schema' width='750px'>"
   ]
  },
  {
   "cell_type": "code",
   "execution_count": null,
   "id": "cd627234",
   "metadata": {},
   "outputs": [],
   "source": []
  },
  {
   "cell_type": "code",
   "execution_count": 31,
   "id": "995ac156",
   "metadata": {},
   "outputs": [
    {
     "name": "stdout",
     "output_type": "stream",
     "text": [
      "<class 'pandas.core.frame.DataFrame'>\n",
      "Int64Index: 99992 entries, 0 to 99991\n",
      "Data columns (total 7 columns):\n",
      " #   Column                         Non-Null Count  Dtype         \n",
      "---  ------                         --------------  -----         \n",
      " 0   order_id                       99992 non-null  object        \n",
      " 1   customer_id                    99992 non-null  object        \n",
      " 2   order_status                   99992 non-null  category      \n",
      " 3   order_approved_at              99831 non-null  datetime64[ns]\n",
      " 4   order_delivered_customer_date  97005 non-null  datetime64[ns]\n",
      " 5   review_id                      99224 non-null  object        \n",
      " 6   review_score                   99224 non-null  category      \n",
      "dtypes: category(2), datetime64[ns](2), object(3)\n",
      "memory usage: 4.8+ MB\n"
     ]
    }
   ],
   "source": [
    "#  orders_df + order_reviews_df = orders\n",
    "orders = pd.merge(orders_df, order_reviews_df, on='order_id', how='left')\n",
    "orders.info()"
   ]
  },
  {
   "cell_type": "code",
   "execution_count": 32,
   "id": "1deb9373",
   "metadata": {},
   "outputs": [
    {
     "name": "stdout",
     "output_type": "stream",
     "text": [
      "<class 'pandas.core.frame.DataFrame'>\n",
      "Int64Index: 104478 entries, 0 to 104477\n",
      "Data columns (total 9 columns):\n",
      " #   Column                         Non-Null Count   Dtype         \n",
      "---  ------                         --------------   -----         \n",
      " 0   order_id                       104478 non-null  object        \n",
      " 1   customer_id                    104478 non-null  object        \n",
      " 2   order_status                   104478 non-null  category      \n",
      " 3   order_approved_at              104302 non-null  datetime64[ns]\n",
      " 4   order_delivered_customer_date  101324 non-null  datetime64[ns]\n",
      " 5   review_id                      103678 non-null  object        \n",
      " 6   review_score                   103678 non-null  category      \n",
      " 7   payment_type                   104477 non-null  category      \n",
      " 8   payment_value                  104477 non-null  float64       \n",
      "dtypes: category(3), datetime64[ns](2), float64(1), object(3)\n",
      "memory usage: 5.9+ MB\n"
     ]
    }
   ],
   "source": [
    "# orders + order_payments_df = orders\n",
    "orders = pd.merge(orders, order_payments_df, on='order_id', how='left')\n",
    "orders.info()"
   ]
  },
  {
   "cell_type": "code",
   "execution_count": null,
   "id": "3d92ecf9",
   "metadata": {},
   "outputs": [],
   "source": []
  },
  {
   "cell_type": "code",
   "execution_count": 33,
   "id": "4623a435",
   "metadata": {},
   "outputs": [
    {
     "name": "stdout",
     "output_type": "stream",
     "text": [
      "<class 'pandas.core.frame.DataFrame'>\n",
      "Int64Index: 104478 entries, 0 to 104477\n",
      "Data columns (total 13 columns):\n",
      " #   Column                         Non-Null Count   Dtype         \n",
      "---  ------                         --------------   -----         \n",
      " 0   order_id                       104478 non-null  object        \n",
      " 1   customer_id                    104478 non-null  object        \n",
      " 2   order_status                   104478 non-null  category      \n",
      " 3   order_approved_at              104302 non-null  datetime64[ns]\n",
      " 4   order_delivered_customer_date  101324 non-null  datetime64[ns]\n",
      " 5   review_id                      103678 non-null  object        \n",
      " 6   review_score                   103678 non-null  category      \n",
      " 7   payment_type                   104477 non-null  category      \n",
      " 8   payment_value                  104477 non-null  float64       \n",
      " 9   customer_unique_id             104478 non-null  object        \n",
      " 10  customer_zip_code_prefix       104478 non-null  object        \n",
      " 11  customer_city                  104478 non-null  category      \n",
      " 12  customer_state                 104478 non-null  category      \n",
      "dtypes: category(5), datetime64[ns](2), float64(1), object(5)\n",
      "memory usage: 7.9+ MB\n"
     ]
    }
   ],
   "source": [
    "# orders + customers_df = orders\n",
    "orders = pd.merge(orders, customers_df, on='customer_id', how='left')\n",
    "orders.info()"
   ]
  },
  {
   "cell_type": "code",
   "execution_count": 34,
   "id": "f01f427a",
   "metadata": {},
   "outputs": [
    {
     "name": "stdout",
     "output_type": "stream",
     "text": [
      "<class 'pandas.core.frame.DataFrame'>\n",
      "Int64Index: 119143 entries, 0 to 119142\n",
      "Data columns (total 18 columns):\n",
      " #   Column                         Non-Null Count   Dtype         \n",
      "---  ------                         --------------   -----         \n",
      " 0   order_id                       119143 non-null  object        \n",
      " 1   customer_id                    119143 non-null  object        \n",
      " 2   order_status                   119143 non-null  category      \n",
      " 3   order_approved_at              118966 non-null  datetime64[ns]\n",
      " 4   order_delivered_customer_date  115722 non-null  datetime64[ns]\n",
      " 5   review_id                      118146 non-null  object        \n",
      " 6   review_score                   118146 non-null  category      \n",
      " 7   payment_type                   119140 non-null  category      \n",
      " 8   payment_value                  119140 non-null  float64       \n",
      " 9   customer_unique_id             119143 non-null  object        \n",
      " 10  customer_zip_code_prefix       119143 non-null  object        \n",
      " 11  customer_city                  119143 non-null  category      \n",
      " 12  customer_state                 119143 non-null  category      \n",
      " 13  order_item_id                  118310 non-null  object        \n",
      " 14  product_id                     118310 non-null  object        \n",
      " 15  seller_id                      118310 non-null  object        \n",
      " 16  price                          118310 non-null  float64       \n",
      " 17  freight_value                  118310 non-null  float64       \n",
      "dtypes: category(5), datetime64[ns](2), float64(3), object(8)\n",
      "memory usage: 13.6+ MB\n"
     ]
    }
   ],
   "source": [
    "# orders + order_items_df = orders\n",
    "orders = pd.merge(orders, order_items_df, on='order_id', how='left')\n",
    "orders.info()"
   ]
  },
  {
   "cell_type": "code",
   "execution_count": 35,
   "id": "b0017e19",
   "metadata": {},
   "outputs": [
    {
     "name": "stdout",
     "output_type": "stream",
     "text": [
      "<class 'pandas.core.frame.DataFrame'>\n",
      "Int64Index: 119143 entries, 0 to 119142\n",
      "Data columns (total 19 columns):\n",
      " #   Column                         Non-Null Count   Dtype         \n",
      "---  ------                         --------------   -----         \n",
      " 0   order_id                       119143 non-null  object        \n",
      " 1   customer_id                    119143 non-null  object        \n",
      " 2   order_status                   119143 non-null  category      \n",
      " 3   order_approved_at              118966 non-null  datetime64[ns]\n",
      " 4   order_delivered_customer_date  115722 non-null  datetime64[ns]\n",
      " 5   review_id                      118146 non-null  object        \n",
      " 6   review_score                   118146 non-null  category      \n",
      " 7   payment_type                   119140 non-null  category      \n",
      " 8   payment_value                  119140 non-null  float64       \n",
      " 9   customer_unique_id             119143 non-null  object        \n",
      " 10  customer_zip_code_prefix       119143 non-null  object        \n",
      " 11  customer_city                  119143 non-null  category      \n",
      " 12  customer_state                 119143 non-null  category      \n",
      " 13  order_item_id                  118310 non-null  object        \n",
      " 14  product_id                     118310 non-null  object        \n",
      " 15  seller_id                      118310 non-null  object        \n",
      " 16  price                          118310 non-null  float64       \n",
      " 17  freight_value                  118310 non-null  float64       \n",
      " 18  product_category_name          116601 non-null  object        \n",
      "dtypes: category(5), datetime64[ns](2), float64(3), object(9)\n",
      "memory usage: 14.5+ MB\n"
     ]
    }
   ],
   "source": [
    "# orders + products_df = orders\n",
    "orders = pd.merge(orders, products_df, on='product_id', how='left')\n",
    "orders.info()"
   ]
  },
  {
   "cell_type": "code",
   "execution_count": 36,
   "id": "e6ba5b76",
   "metadata": {},
   "outputs": [
    {
     "name": "stdout",
     "output_type": "stream",
     "text": [
      "<class 'pandas.core.frame.DataFrame'>\n",
      "Int64Index: 119143 entries, 0 to 119142\n",
      "Data columns (total 22 columns):\n",
      " #   Column                         Non-Null Count   Dtype         \n",
      "---  ------                         --------------   -----         \n",
      " 0   order_id                       119143 non-null  object        \n",
      " 1   customer_id                    119143 non-null  object        \n",
      " 2   order_status                   119143 non-null  category      \n",
      " 3   order_approved_at              118966 non-null  datetime64[ns]\n",
      " 4   order_delivered_customer_date  115722 non-null  datetime64[ns]\n",
      " 5   review_id                      118146 non-null  object        \n",
      " 6   review_score                   118146 non-null  category      \n",
      " 7   payment_type                   119140 non-null  category      \n",
      " 8   payment_value                  119140 non-null  float64       \n",
      " 9   customer_unique_id             119143 non-null  object        \n",
      " 10  customer_zip_code_prefix       119143 non-null  object        \n",
      " 11  customer_city                  119143 non-null  category      \n",
      " 12  customer_state                 119143 non-null  category      \n",
      " 13  order_item_id                  118310 non-null  object        \n",
      " 14  product_id                     118310 non-null  object        \n",
      " 15  seller_id                      118310 non-null  object        \n",
      " 16  price                          118310 non-null  float64       \n",
      " 17  freight_value                  118310 non-null  float64       \n",
      " 18  product_category_name          116601 non-null  object        \n",
      " 19  seller_zip_code_prefix         118310 non-null  object        \n",
      " 20  seller_city                    118310 non-null  category      \n",
      " 21  seller_state                   118310 non-null  category      \n",
      "dtypes: category(7), datetime64[ns](2), float64(3), object(10)\n",
      "memory usage: 15.7+ MB\n"
     ]
    }
   ],
   "source": [
    "# orders + sellers_df = orders\n",
    "orders = pd.merge(orders, sellers_df, on='seller_id', how='left')\n",
    "orders.info()"
   ]
  },
  {
   "cell_type": "markdown",
   "id": "fda7a923",
   "metadata": {},
   "source": [
    "# Copy orders df b4 merging with geo"
   ]
  },
  {
   "cell_type": "code",
   "execution_count": 37,
   "id": "28b15499",
   "metadata": {},
   "outputs": [],
   "source": [
    "orders_copy = orders.copy()\n",
    "geolocation_df_copy = geolocation_df.copy()"
   ]
  },
  {
   "cell_type": "code",
   "execution_count": 38,
   "id": "d73504b5",
   "metadata": {},
   "outputs": [
    {
     "name": "stdout",
     "output_type": "stream",
     "text": [
      "<class 'pandas.core.frame.DataFrame'>\n",
      "RangeIndex: 1000163 entries, 0 to 1000162\n",
      "Data columns (total 5 columns):\n",
      " #   Column                  Non-Null Count    Dtype   \n",
      "---  ------                  --------------    -----   \n",
      " 0   geolocation_lat         1000163 non-null  float64 \n",
      " 1   geolocation_lng         1000163 non-null  float64 \n",
      " 2   geolocation_city        1000163 non-null  category\n",
      " 3   geolocation_state       1000163 non-null  category\n",
      " 4   seller_zip_code_prefix  1000163 non-null  object  \n",
      "dtypes: category(2), float64(2), object(1)\n",
      "memory usage: 26.1+ MB\n"
     ]
    }
   ],
   "source": [
    "# orders_copy + geolocation_df = orders_copy\n",
    "geolocation_df_copy.info()"
   ]
  },
  {
   "cell_type": "code",
   "execution_count": 39,
   "id": "bdbdb4f3",
   "metadata": {},
   "outputs": [
    {
     "data": {
      "text/plain": [
       "(1000163, 5)"
      ]
     },
     "execution_count": 39,
     "metadata": {},
     "output_type": "execute_result"
    }
   ],
   "source": [
    "geolocation_df_copy.shape"
   ]
  },
  {
   "cell_type": "code",
   "execution_count": 40,
   "id": "64826f10",
   "metadata": {},
   "outputs": [
    {
     "data": {
      "text/plain": [
       "753463    64220\n",
       "363084    16400\n",
       "430420    21545\n",
       "144133     5887\n",
       "68568      3923\n",
       "800800    74805\n",
       "699455    47700\n",
       "380550    18056\n",
       "581331    34006\n",
       "704634    49046\n",
       "617795    36555\n",
       "338803    14711\n",
       "221151     9195\n",
       "919001    88810\n",
       "810470    76230\n",
       "Name: seller_zip_code_prefix, dtype: object"
      ]
     },
     "execution_count": 40,
     "metadata": {},
     "output_type": "execute_result"
    }
   ],
   "source": [
    "geolocation_df_copy.seller_zip_code_prefix.sample(15)"
   ]
  },
  {
   "cell_type": "code",
   "execution_count": 41,
   "id": "b531908b",
   "metadata": {},
   "outputs": [],
   "source": [
    "# Sometimes, the zipcode lenght is 4 digits, other times, 5 digits\n",
    "# Let's fix this before merging with the zipcode in the orders table\n",
    "geolocation_df_copy.seller_zip_code_prefix = geolocation_df_copy.seller_zip_code_prefix.str.zfill(5)"
   ]
  },
  {
   "cell_type": "code",
   "execution_count": 42,
   "id": "75f9a624",
   "metadata": {},
   "outputs": [
    {
     "data": {
      "text/plain": [
       "394188    18605\n",
       "858495    82940\n",
       "962628    94920\n",
       "229830    09420\n",
       "417590    20756\n",
       "623471    37062\n",
       "94350     04517\n",
       "950859    91770\n",
       "559548    31080\n",
       "180442    07025\n",
       "77094     04194\n",
       "548091    30380\n",
       "447056    22441\n",
       "971929    95702\n",
       "334879    14415\n",
       "Name: seller_zip_code_prefix, dtype: object"
      ]
     },
     "execution_count": 42,
     "metadata": {},
     "output_type": "execute_result"
    }
   ],
   "source": [
    "geolocation_df_copy.seller_zip_code_prefix.sample(15)"
   ]
  },
  {
   "cell_type": "code",
   "execution_count": 43,
   "id": "67e1aa4c",
   "metadata": {},
   "outputs": [
    {
     "data": {
      "text/plain": [
       "114925    18048\n",
       "117770    14090\n",
       "41622     99500\n",
       "118221    12327\n",
       "102690     4248\n",
       "63239      3204\n",
       "78750     31160\n",
       "4855       8250\n",
       "99769     31030\n",
       "101110    15025\n",
       "29143     13165\n",
       "92314     80310\n",
       "89522      3702\n",
       "40448      2215\n",
       "7127       6144\n",
       "65874      2804\n",
       "69294     80330\n",
       "66070      3035\n",
       "69795      3976\n",
       "110912     4438\n",
       "113026    13186\n",
       "8965      14940\n",
       "76429      5588\n",
       "43124      9780\n",
       "36897     80215\n",
       "Name: seller_zip_code_prefix, dtype: object"
      ]
     },
     "execution_count": 43,
     "metadata": {},
     "output_type": "execute_result"
    }
   ],
   "source": [
    "orders_copy.seller_zip_code_prefix.sample(25)"
   ]
  },
  {
   "cell_type": "code",
   "execution_count": 44,
   "id": "298a6c03",
   "metadata": {},
   "outputs": [
    {
     "data": {
      "text/plain": [
       "14801     80610\n",
       "29016     87230\n",
       "104845    14840\n",
       "115827    88352\n",
       "10445     03471\n",
       "38724     01212\n",
       "104038    04403\n",
       "66090     89023\n",
       "103078    14085\n",
       "18286     09190\n",
       "13331     02150\n",
       "35277     13419\n",
       "54329     03804\n",
       "54825     11900\n",
       "93063     11701\n",
       "29747     09571\n",
       "83173     02407\n",
       "21236     03561\n",
       "58637     03573\n",
       "87409     15025\n",
       "34409     05849\n",
       "117173    09270\n",
       "69139     13481\n",
       "7509      14940\n",
       "75702     03504\n",
       "Name: seller_zip_code_prefix, dtype: object"
      ]
     },
     "execution_count": 44,
     "metadata": {},
     "output_type": "execute_result"
    }
   ],
   "source": [
    "# Also, apply zfill to the seller_zpi_code_prefix of the orders table to rhyme with that of the geolocation table\n",
    "orders_copy.seller_zip_code_prefix = orders_copy.seller_zip_code_prefix.str.zfill(5)\n",
    "orders_copy.seller_zip_code_prefix.sample(25)"
   ]
  },
  {
   "cell_type": "code",
   "execution_count": 45,
   "id": "87bf9963",
   "metadata": {},
   "outputs": [],
   "source": [
    "# Demo dfs\n",
    "orders_zipcode = pd.DataFrame(data=orders_copy.seller_zip_code_prefix,)\n",
    "geo_zipcode = pd.DataFrame(data=geolocation_df_copy.seller_zip_code_prefix,)"
   ]
  },
  {
   "cell_type": "code",
   "execution_count": 46,
   "id": "18682f0a",
   "metadata": {},
   "outputs": [
    {
     "data": {
      "text/html": [
       "<div>\n",
       "<style scoped>\n",
       "    .dataframe tbody tr th:only-of-type {\n",
       "        vertical-align: middle;\n",
       "    }\n",
       "\n",
       "    .dataframe tbody tr th {\n",
       "        vertical-align: top;\n",
       "    }\n",
       "\n",
       "    .dataframe thead th {\n",
       "        text-align: right;\n",
       "    }\n",
       "</style>\n",
       "<table border=\"1\" class=\"dataframe\">\n",
       "  <thead>\n",
       "    <tr style=\"text-align: right;\">\n",
       "      <th></th>\n",
       "      <th>seller_zip_code_prefix</th>\n",
       "    </tr>\n",
       "  </thead>\n",
       "  <tbody>\n",
       "    <tr>\n",
       "      <th>0</th>\n",
       "      <td>09350</td>\n",
       "    </tr>\n",
       "    <tr>\n",
       "      <th>1</th>\n",
       "      <td>09350</td>\n",
       "    </tr>\n",
       "    <tr>\n",
       "      <th>2</th>\n",
       "      <td>09350</td>\n",
       "    </tr>\n",
       "    <tr>\n",
       "      <th>3</th>\n",
       "      <td>31570</td>\n",
       "    </tr>\n",
       "    <tr>\n",
       "      <th>4</th>\n",
       "      <td>14840</td>\n",
       "    </tr>\n",
       "    <tr>\n",
       "      <th>...</th>\n",
       "      <td>...</td>\n",
       "    </tr>\n",
       "    <tr>\n",
       "      <th>119138</th>\n",
       "      <td>17602</td>\n",
       "    </tr>\n",
       "    <tr>\n",
       "      <th>119139</th>\n",
       "      <td>08290</td>\n",
       "    </tr>\n",
       "    <tr>\n",
       "      <th>119140</th>\n",
       "      <td>37175</td>\n",
       "    </tr>\n",
       "    <tr>\n",
       "      <th>119141</th>\n",
       "      <td>37175</td>\n",
       "    </tr>\n",
       "    <tr>\n",
       "      <th>119142</th>\n",
       "      <td>14407</td>\n",
       "    </tr>\n",
       "  </tbody>\n",
       "</table>\n",
       "<p>119143 rows × 1 columns</p>\n",
       "</div>"
      ],
      "text/plain": [
       "       seller_zip_code_prefix\n",
       "0                       09350\n",
       "1                       09350\n",
       "2                       09350\n",
       "3                       31570\n",
       "4                       14840\n",
       "...                       ...\n",
       "119138                  17602\n",
       "119139                  08290\n",
       "119140                  37175\n",
       "119141                  37175\n",
       "119142                  14407\n",
       "\n",
       "[119143 rows x 1 columns]"
      ]
     },
     "execution_count": 46,
     "metadata": {},
     "output_type": "execute_result"
    }
   ],
   "source": [
    "orders_zipcode"
   ]
  },
  {
   "cell_type": "code",
   "execution_count": 47,
   "id": "6fa5d6a8",
   "metadata": {},
   "outputs": [
    {
     "data": {
      "text/html": [
       "<div>\n",
       "<style scoped>\n",
       "    .dataframe tbody tr th:only-of-type {\n",
       "        vertical-align: middle;\n",
       "    }\n",
       "\n",
       "    .dataframe tbody tr th {\n",
       "        vertical-align: top;\n",
       "    }\n",
       "\n",
       "    .dataframe thead th {\n",
       "        text-align: right;\n",
       "    }\n",
       "</style>\n",
       "<table border=\"1\" class=\"dataframe\">\n",
       "  <thead>\n",
       "    <tr style=\"text-align: right;\">\n",
       "      <th></th>\n",
       "      <th>seller_zip_code_prefix</th>\n",
       "    </tr>\n",
       "  </thead>\n",
       "  <tbody>\n",
       "    <tr>\n",
       "      <th>0</th>\n",
       "      <td>01037</td>\n",
       "    </tr>\n",
       "    <tr>\n",
       "      <th>1</th>\n",
       "      <td>01046</td>\n",
       "    </tr>\n",
       "    <tr>\n",
       "      <th>2</th>\n",
       "      <td>01046</td>\n",
       "    </tr>\n",
       "    <tr>\n",
       "      <th>3</th>\n",
       "      <td>01041</td>\n",
       "    </tr>\n",
       "    <tr>\n",
       "      <th>4</th>\n",
       "      <td>01035</td>\n",
       "    </tr>\n",
       "    <tr>\n",
       "      <th>...</th>\n",
       "      <td>...</td>\n",
       "    </tr>\n",
       "    <tr>\n",
       "      <th>1000158</th>\n",
       "      <td>99950</td>\n",
       "    </tr>\n",
       "    <tr>\n",
       "      <th>1000159</th>\n",
       "      <td>99900</td>\n",
       "    </tr>\n",
       "    <tr>\n",
       "      <th>1000160</th>\n",
       "      <td>99950</td>\n",
       "    </tr>\n",
       "    <tr>\n",
       "      <th>1000161</th>\n",
       "      <td>99980</td>\n",
       "    </tr>\n",
       "    <tr>\n",
       "      <th>1000162</th>\n",
       "      <td>99950</td>\n",
       "    </tr>\n",
       "  </tbody>\n",
       "</table>\n",
       "<p>1000163 rows × 1 columns</p>\n",
       "</div>"
      ],
      "text/plain": [
       "        seller_zip_code_prefix\n",
       "0                        01037\n",
       "1                        01046\n",
       "2                        01046\n",
       "3                        01041\n",
       "4                        01035\n",
       "...                        ...\n",
       "1000158                  99950\n",
       "1000159                  99900\n",
       "1000160                  99950\n",
       "1000161                  99980\n",
       "1000162                  99950\n",
       "\n",
       "[1000163 rows x 1 columns]"
      ]
     },
     "execution_count": 47,
     "metadata": {},
     "output_type": "execute_result"
    }
   ],
   "source": [
    "geo_zipcode"
   ]
  },
  {
   "cell_type": "code",
   "execution_count": 52,
   "id": "83e86bb6",
   "metadata": {},
   "outputs": [
    {
     "data": {
      "text/plain": [
       "981148"
      ]
     },
     "execution_count": 52,
     "metadata": {},
     "output_type": "execute_result"
    }
   ],
   "source": [
    "geo_zipcode.duplicated().sum()"
   ]
  },
  {
   "cell_type": "code",
   "execution_count": 50,
   "id": "38f186e4",
   "metadata": {},
   "outputs": [
    {
     "data": {
      "text/html": [
       "<div>\n",
       "<style scoped>\n",
       "    .dataframe tbody tr th:only-of-type {\n",
       "        vertical-align: middle;\n",
       "    }\n",
       "\n",
       "    .dataframe tbody tr th {\n",
       "        vertical-align: top;\n",
       "    }\n",
       "\n",
       "    .dataframe thead th {\n",
       "        text-align: right;\n",
       "    }\n",
       "</style>\n",
       "<table border=\"1\" class=\"dataframe\">\n",
       "  <thead>\n",
       "    <tr style=\"text-align: right;\">\n",
       "      <th></th>\n",
       "      <th>seller_zip_code_prefix</th>\n",
       "    </tr>\n",
       "  </thead>\n",
       "  <tbody>\n",
       "    <tr>\n",
       "      <th>0</th>\n",
       "      <td>09350</td>\n",
       "    </tr>\n",
       "    <tr>\n",
       "      <th>1</th>\n",
       "      <td>09350</td>\n",
       "    </tr>\n",
       "    <tr>\n",
       "      <th>2</th>\n",
       "      <td>09350</td>\n",
       "    </tr>\n",
       "    <tr>\n",
       "      <th>3</th>\n",
       "      <td>09350</td>\n",
       "    </tr>\n",
       "    <tr>\n",
       "      <th>4</th>\n",
       "      <td>09350</td>\n",
       "    </tr>\n",
       "    <tr>\n",
       "      <th>...</th>\n",
       "      <td>...</td>\n",
       "    </tr>\n",
       "    <tr>\n",
       "      <th>17825683</th>\n",
       "      <td>99920</td>\n",
       "    </tr>\n",
       "    <tr>\n",
       "      <th>17825684</th>\n",
       "      <td>99920</td>\n",
       "    </tr>\n",
       "    <tr>\n",
       "      <th>17825685</th>\n",
       "      <td>99920</td>\n",
       "    </tr>\n",
       "    <tr>\n",
       "      <th>17825686</th>\n",
       "      <td>99952</td>\n",
       "    </tr>\n",
       "    <tr>\n",
       "      <th>17825687</th>\n",
       "      <td>99952</td>\n",
       "    </tr>\n",
       "  </tbody>\n",
       "</table>\n",
       "<p>17825688 rows × 1 columns</p>\n",
       "</div>"
      ],
      "text/plain": [
       "         seller_zip_code_prefix\n",
       "0                         09350\n",
       "1                         09350\n",
       "2                         09350\n",
       "3                         09350\n",
       "4                         09350\n",
       "...                         ...\n",
       "17825683                  99920\n",
       "17825684                  99920\n",
       "17825685                  99920\n",
       "17825686                  99952\n",
       "17825687                  99952\n",
       "\n",
       "[17825688 rows x 1 columns]"
      ]
     },
     "execution_count": 50,
     "metadata": {},
     "output_type": "execute_result"
    }
   ],
   "source": [
    "fk_merge = pd.merge(orders_zipcode, geo_zipcode, how='outer')\n",
    "fk_merge"
   ]
  },
  {
   "cell_type": "markdown",
   "id": "14825113",
   "metadata": {},
   "source": [
    "### Data Quality Issues\n",
    "- wrong datatype: review_score, payment_sequential, payment_installments, payment_type, customer_unique_id, geolocation_zip_code_prefix, geolocation_state, geolocation_city,\n",
    "- Inconsistent customer zipcode prefix format. 4 digits sometimes, 5 digits other times\n",
    "- non-ascii characters: geolocation city\n",
    "- Inconsistent spelling formats. e.g 'sÃ£o paulo', 'sao paulo'; getÃºlio vargas, getulio vargas; etc.\n",
    "- Certain columns are of type float instead of int\n",
    "- wrong datatype: order_item_id\n",
    "- Wrong datatype: payment_type,  payment_sequential, payment_installments\n",
    "- wrong datatype: customer_city, customer_state, customer_zip_code_prefix\n",
    "- Inconsistent customer zipcode prefix format. 4 digits sometimes, 5 digits other times\n",
    "- City name in lower case\n",
    "- "
   ]
  },
  {
   "cell_type": "markdown",
   "id": "5f73b19c",
   "metadata": {},
   "source": [
    "## Now, let's clean up the combined dataset"
   ]
  },
  {
   "cell_type": "code",
   "execution_count": 82,
   "id": "b8e22647",
   "metadata": {},
   "outputs": [
    {
     "data": {
      "text/plain": [
       "(17094341, 43)"
      ]
     },
     "execution_count": 82,
     "metadata": {},
     "output_type": "execute_result"
    }
   ],
   "source": [
    "orders.shape"
   ]
  },
  {
   "cell_type": "code",
   "execution_count": 24,
   "id": "c6d52fd1",
   "metadata": {},
   "outputs": [
    {
     "data": {
      "text/plain": [
       "Index(['customer_id', 'customer_unique_id', 'customer_zip_code_prefix',\n",
       "       'customer_city', 'customer_state'],\n",
       "      dtype='object')"
      ]
     },
     "execution_count": 24,
     "metadata": {},
     "output_type": "execute_result"
    }
   ],
   "source": [
    "customers_df.columns"
   ]
  },
  {
   "cell_type": "code",
   "execution_count": 25,
   "id": "a8c50145",
   "metadata": {},
   "outputs": [
    {
     "data": {
      "text/plain": [
       "14994"
      ]
     },
     "execution_count": 25,
     "metadata": {},
     "output_type": "execute_result"
    }
   ],
   "source": [
    "customers_df.customer_zip_code_prefix.nunique()"
   ]
  },
  {
   "cell_type": "code",
   "execution_count": 26,
   "id": "7193fc08",
   "metadata": {},
   "outputs": [
    {
     "data": {
      "text/plain": [
       "19015"
      ]
     },
     "execution_count": 26,
     "metadata": {},
     "output_type": "execute_result"
    }
   ],
   "source": [
    "geolocation_df.geolocation_zip_code_prefix.nunique()"
   ]
  },
  {
   "cell_type": "code",
   "execution_count": 27,
   "id": "4acbbce0",
   "metadata": {},
   "outputs": [
    {
     "ename": "NameError",
     "evalue": "name 'seller_clean' is not defined",
     "output_type": "error",
     "traceback": [
      "\u001b[1;31m---------------------------------------------------------------------------\u001b[0m",
      "\u001b[1;31mNameError\u001b[0m                                 Traceback (most recent call last)",
      "Input \u001b[1;32mIn [27]\u001b[0m, in \u001b[0;36m<cell line: 1>\u001b[1;34m()\u001b[0m\n\u001b[1;32m----> 1\u001b[0m \u001b[43mseller_clean\u001b[49m\u001b[38;5;241m.\u001b[39mzip_code_prefix\u001b[38;5;241m.\u001b[39mastype(\u001b[38;5;124m'\u001b[39m\u001b[38;5;124mstr\u001b[39m\u001b[38;5;124m'\u001b[39m)\n",
      "\u001b[1;31mNameError\u001b[0m: name 'seller_clean' is not defined"
     ]
    }
   ],
   "source": [
    "seller_clean.zip_code_prefix.astype('str')"
   ]
  },
  {
   "cell_type": "code",
   "execution_count": null,
   "id": "235a82a4",
   "metadata": {},
   "outputs": [],
   "source": [
    "# def change_col_type(df, col, dtype):\n",
    "#     df[col] = df[col].astype(str(dtype))\n",
    "\n",
    "def normalize_char_lenght(df, col, to_lenght):\n",
    "    '''Method to set the objects in a series to a fixed number of characters'''\n",
    "    \n",
    "    #get the original datatype of the column\n",
    "    dtype = df[col].dtype\n",
    "    \n",
    "    #convert to string to apply zfill function\n",
    "    df[col] = df[col].astype('str')\n",
    "    \n",
    "    error_log = []\n",
    "    for i in df[col]:\n",
    "        if len(i) == to_lenght:\n",
    "            pass\n",
    "        elif len(i) > to_lenght:\n",
    "            error_log.append('{} is more than desired number of characters. modify manually'.format(i))\n",
    "        else:\n",
    "            i = str(i).zfill(to_lenght)\n",
    "            \n",
    "        #convert series back to original datatype\n",
    "        df[col] = df[col].astype(dtype)\n",
    "        return df[col]\n",
    "        "
   ]
  },
  {
   "cell_type": "code",
   "execution_count": null,
   "id": "7605ada1",
   "metadata": {},
   "outputs": [],
   "source": [
    "normalize_char_lenght(seller_clean, 'zip_code_prefix', 5)"
   ]
  },
  {
   "cell_type": "code",
   "execution_count": null,
   "id": "19dc0da9",
   "metadata": {},
   "outputs": [],
   "source": [
    "seller_clean.zip_code_prefix"
   ]
  },
  {
   "cell_type": "code",
   "execution_count": null,
   "id": "ceb6a157",
   "metadata": {},
   "outputs": [],
   "source": [
    "xyz = '354'\n",
    "# print(xyz.zfill(5))\n",
    "\n",
    "if len(xyz) == 5:\n",
    "        pass\n",
    "elif len(xyz) > 5:\n",
    "        print('xyz is more than desired digits')\n",
    "else:\n",
    "    xyz = xyz.zfill(5)\n",
    "    print(xyz)"
   ]
  },
  {
   "cell_type": "code",
   "execution_count": null,
   "id": "06620189",
   "metadata": {},
   "outputs": [],
   "source": [
    "# Merge geolocation and seller dataframes\n",
    "# First, rename the zipcode prefix in the two tables to match\n",
    "seller_clean = sellers_df.copy()\n",
    "geolocation_clean = geolocation_df.copy()\n",
    "seller_clean.rename(columns={'seller_zip_code_prefix': 'zip_code_prefix'}, inplace=True)\n",
    "geolocation_clean.rename(columns={'geolocation_zip_code_prefix': 'zip_code_prefix'}, inplace=True)\n",
    "\n",
    "# Ensure that all zip_code prefixes are of equal character lenght:\n",
    "\n",
    "\n",
    "merged = pd.merge(seller_clean, geolocation_clean, on='zip_code_prefix', how='right')\n",
    "merged"
   ]
  },
  {
   "cell_type": "code",
   "execution_count": null,
   "id": "39d87ce2",
   "metadata": {},
   "outputs": [],
   "source": [
    "sellers_df.shape"
   ]
  },
  {
   "cell_type": "code",
   "execution_count": 53,
   "id": "3469e90a",
   "metadata": {},
   "outputs": [],
   "source": [
    "sellers_df_copy = sellers_df.copy()"
   ]
  },
  {
   "cell_type": "code",
   "execution_count": 59,
   "id": "beaedee8",
   "metadata": {},
   "outputs": [],
   "source": [
    "# Merge with geo data first\n",
    "with_geo = pd.merge(sellers_df_copy, geolocation_df_copy, how='left')"
   ]
  },
  {
   "cell_type": "code",
   "execution_count": 60,
   "id": "08934bff",
   "metadata": {},
   "outputs": [
    {
     "data": {
      "text/html": [
       "<div>\n",
       "<style scoped>\n",
       "    .dataframe tbody tr th:only-of-type {\n",
       "        vertical-align: middle;\n",
       "    }\n",
       "\n",
       "    .dataframe tbody tr th {\n",
       "        vertical-align: top;\n",
       "    }\n",
       "\n",
       "    .dataframe thead th {\n",
       "        text-align: right;\n",
       "    }\n",
       "</style>\n",
       "<table border=\"1\" class=\"dataframe\">\n",
       "  <thead>\n",
       "    <tr style=\"text-align: right;\">\n",
       "      <th></th>\n",
       "      <th>seller_id</th>\n",
       "      <th>seller_zip_code_prefix</th>\n",
       "      <th>seller_city</th>\n",
       "      <th>seller_state</th>\n",
       "      <th>geolocation_lat</th>\n",
       "      <th>geolocation_lng</th>\n",
       "      <th>geolocation_city</th>\n",
       "      <th>geolocation_state</th>\n",
       "    </tr>\n",
       "  </thead>\n",
       "  <tbody>\n",
       "    <tr>\n",
       "      <th>0</th>\n",
       "      <td>3442f8959a84dea7ee197c632cb2df15</td>\n",
       "      <td>13023</td>\n",
       "      <td>campinas</td>\n",
       "      <td>SP</td>\n",
       "      <td>-22.898536</td>\n",
       "      <td>-47.063125</td>\n",
       "      <td>campinas</td>\n",
       "      <td>SP</td>\n",
       "    </tr>\n",
       "    <tr>\n",
       "      <th>1</th>\n",
       "      <td>3442f8959a84dea7ee197c632cb2df15</td>\n",
       "      <td>13023</td>\n",
       "      <td>campinas</td>\n",
       "      <td>SP</td>\n",
       "      <td>-22.895499</td>\n",
       "      <td>-47.061944</td>\n",
       "      <td>campinas</td>\n",
       "      <td>SP</td>\n",
       "    </tr>\n",
       "    <tr>\n",
       "      <th>2</th>\n",
       "      <td>3442f8959a84dea7ee197c632cb2df15</td>\n",
       "      <td>13023</td>\n",
       "      <td>campinas</td>\n",
       "      <td>SP</td>\n",
       "      <td>-22.891740</td>\n",
       "      <td>-47.060820</td>\n",
       "      <td>campinas</td>\n",
       "      <td>SP</td>\n",
       "    </tr>\n",
       "    <tr>\n",
       "      <th>3</th>\n",
       "      <td>3442f8959a84dea7ee197c632cb2df15</td>\n",
       "      <td>13023</td>\n",
       "      <td>campinas</td>\n",
       "      <td>SP</td>\n",
       "      <td>-22.895762</td>\n",
       "      <td>-47.066144</td>\n",
       "      <td>campinas</td>\n",
       "      <td>SP</td>\n",
       "    </tr>\n",
       "    <tr>\n",
       "      <th>4</th>\n",
       "      <td>3442f8959a84dea7ee197c632cb2df15</td>\n",
       "      <td>13023</td>\n",
       "      <td>campinas</td>\n",
       "      <td>SP</td>\n",
       "      <td>-22.896154</td>\n",
       "      <td>-47.062431</td>\n",
       "      <td>campinas</td>\n",
       "      <td>SP</td>\n",
       "    </tr>\n",
       "    <tr>\n",
       "      <th>...</th>\n",
       "      <td>...</td>\n",
       "      <td>...</td>\n",
       "      <td>...</td>\n",
       "      <td>...</td>\n",
       "      <td>...</td>\n",
       "      <td>...</td>\n",
       "      <td>...</td>\n",
       "      <td>...</td>\n",
       "    </tr>\n",
       "    <tr>\n",
       "      <th>339972</th>\n",
       "      <td>9e25199f6ef7e7c347120ff175652c3b</td>\n",
       "      <td>12051</td>\n",
       "      <td>taubate</td>\n",
       "      <td>SP</td>\n",
       "      <td>-23.011130</td>\n",
       "      <td>-45.592347</td>\n",
       "      <td>taubate</td>\n",
       "      <td>SP</td>\n",
       "    </tr>\n",
       "    <tr>\n",
       "      <th>339973</th>\n",
       "      <td>9e25199f6ef7e7c347120ff175652c3b</td>\n",
       "      <td>12051</td>\n",
       "      <td>taubate</td>\n",
       "      <td>SP</td>\n",
       "      <td>-23.013452</td>\n",
       "      <td>-45.584299</td>\n",
       "      <td>taubatÃ©</td>\n",
       "      <td>SP</td>\n",
       "    </tr>\n",
       "    <tr>\n",
       "      <th>339974</th>\n",
       "      <td>9e25199f6ef7e7c347120ff175652c3b</td>\n",
       "      <td>12051</td>\n",
       "      <td>taubate</td>\n",
       "      <td>SP</td>\n",
       "      <td>-23.009155</td>\n",
       "      <td>-45.592019</td>\n",
       "      <td>taubate</td>\n",
       "      <td>SP</td>\n",
       "    </tr>\n",
       "    <tr>\n",
       "      <th>339975</th>\n",
       "      <td>9e25199f6ef7e7c347120ff175652c3b</td>\n",
       "      <td>12051</td>\n",
       "      <td>taubate</td>\n",
       "      <td>SP</td>\n",
       "      <td>-23.009019</td>\n",
       "      <td>-45.584925</td>\n",
       "      <td>taubate</td>\n",
       "      <td>SP</td>\n",
       "    </tr>\n",
       "    <tr>\n",
       "      <th>339976</th>\n",
       "      <td>9e25199f6ef7e7c347120ff175652c3b</td>\n",
       "      <td>12051</td>\n",
       "      <td>taubate</td>\n",
       "      <td>SP</td>\n",
       "      <td>-23.010990</td>\n",
       "      <td>-45.586938</td>\n",
       "      <td>taubatÃ©</td>\n",
       "      <td>SP</td>\n",
       "    </tr>\n",
       "  </tbody>\n",
       "</table>\n",
       "<p>339977 rows × 8 columns</p>\n",
       "</div>"
      ],
      "text/plain": [
       "                               seller_id seller_zip_code_prefix seller_city  \\\n",
       "0       3442f8959a84dea7ee197c632cb2df15                  13023    campinas   \n",
       "1       3442f8959a84dea7ee197c632cb2df15                  13023    campinas   \n",
       "2       3442f8959a84dea7ee197c632cb2df15                  13023    campinas   \n",
       "3       3442f8959a84dea7ee197c632cb2df15                  13023    campinas   \n",
       "4       3442f8959a84dea7ee197c632cb2df15                  13023    campinas   \n",
       "...                                  ...                    ...         ...   \n",
       "339972  9e25199f6ef7e7c347120ff175652c3b                  12051     taubate   \n",
       "339973  9e25199f6ef7e7c347120ff175652c3b                  12051     taubate   \n",
       "339974  9e25199f6ef7e7c347120ff175652c3b                  12051     taubate   \n",
       "339975  9e25199f6ef7e7c347120ff175652c3b                  12051     taubate   \n",
       "339976  9e25199f6ef7e7c347120ff175652c3b                  12051     taubate   \n",
       "\n",
       "       seller_state  geolocation_lat  geolocation_lng geolocation_city  \\\n",
       "0                SP       -22.898536       -47.063125         campinas   \n",
       "1                SP       -22.895499       -47.061944         campinas   \n",
       "2                SP       -22.891740       -47.060820         campinas   \n",
       "3                SP       -22.895762       -47.066144         campinas   \n",
       "4                SP       -22.896154       -47.062431         campinas   \n",
       "...             ...              ...              ...              ...   \n",
       "339972           SP       -23.011130       -45.592347          taubate   \n",
       "339973           SP       -23.013452       -45.584299         taubatÃ©   \n",
       "339974           SP       -23.009155       -45.592019          taubate   \n",
       "339975           SP       -23.009019       -45.584925          taubate   \n",
       "339976           SP       -23.010990       -45.586938         taubatÃ©   \n",
       "\n",
       "       geolocation_state  \n",
       "0                     SP  \n",
       "1                     SP  \n",
       "2                     SP  \n",
       "3                     SP  \n",
       "4                     SP  \n",
       "...                  ...  \n",
       "339972                SP  \n",
       "339973                SP  \n",
       "339974                SP  \n",
       "339975                SP  \n",
       "339976                SP  \n",
       "\n",
       "[339977 rows x 8 columns]"
      ]
     },
     "execution_count": 60,
     "metadata": {},
     "output_type": "execute_result"
    }
   ],
   "source": [
    "with_geo"
   ]
  },
  {
   "cell_type": "code",
   "execution_count": 62,
   "id": "1a9dad6f",
   "metadata": {},
   "outputs": [
    {
     "name": "stdout",
     "output_type": "stream",
     "text": [
      "<class 'pandas.core.frame.DataFrame'>\n",
      "RangeIndex: 99441 entries, 0 to 99440\n",
      "Data columns (total 5 columns):\n",
      " #   Column                    Non-Null Count  Dtype   \n",
      "---  ------                    --------------  -----   \n",
      " 0   customer_id               99441 non-null  object  \n",
      " 1   customer_unique_id        99441 non-null  object  \n",
      " 2   customer_zip_code_prefix  99441 non-null  object  \n",
      " 3   customer_city             99441 non-null  category\n",
      " 4   customer_state            99441 non-null  category\n",
      "dtypes: category(2), object(3)\n",
      "memory usage: 2.7+ MB\n"
     ]
    }
   ],
   "source": [
    "customers_copy = customers_df.copy()\n",
    "customers_copy.info()"
   ]
  },
  {
   "cell_type": "code",
   "execution_count": 70,
   "id": "c28915f0",
   "metadata": {},
   "outputs": [
    {
     "data": {
      "text/plain": [
       "45098    17290\n",
       "24998    86870\n",
       "44125    86350\n",
       "51123    29560\n",
       "47106    28621\n",
       "75530    59090\n",
       "81179    36720\n",
       "11218    27150\n",
       "97414    20511\n",
       "94633    13468\n",
       "45590    35702\n",
       "25275    24320\n",
       "2079     13840\n",
       "95249    05448\n",
       "33135    17800\n",
       "Name: customer_zip_code_prefix, dtype: object"
      ]
     },
     "execution_count": 70,
     "metadata": {},
     "output_type": "execute_result"
    }
   ],
   "source": [
    "customers_copy.customer_zip_code_prefix = customers_copy.customer_zip_code_prefix.str.zfill(5)\n",
    "customers_copy.customer_zip_code_prefix.sample(15)"
   ]
  },
  {
   "cell_type": "code",
   "execution_count": 72,
   "id": "bc9e39a4",
   "metadata": {},
   "outputs": [
    {
     "data": {
      "text/html": [
       "<div>\n",
       "<style scoped>\n",
       "    .dataframe tbody tr th:only-of-type {\n",
       "        vertical-align: middle;\n",
       "    }\n",
       "\n",
       "    .dataframe tbody tr th {\n",
       "        vertical-align: top;\n",
       "    }\n",
       "\n",
       "    .dataframe thead th {\n",
       "        text-align: right;\n",
       "    }\n",
       "</style>\n",
       "<table border=\"1\" class=\"dataframe\">\n",
       "  <thead>\n",
       "    <tr style=\"text-align: right;\">\n",
       "      <th></th>\n",
       "      <th>customer_id</th>\n",
       "      <th>customer_unique_id</th>\n",
       "      <th>customer_zip_code_prefix</th>\n",
       "      <th>customer_city</th>\n",
       "      <th>customer_state</th>\n",
       "      <th>geolocation_lat</th>\n",
       "      <th>geolocation_lng</th>\n",
       "      <th>geolocation_city</th>\n",
       "      <th>geolocation_state</th>\n",
       "      <th>seller_zip_code_prefix</th>\n",
       "    </tr>\n",
       "  </thead>\n",
       "  <tbody>\n",
       "    <tr>\n",
       "      <th>0</th>\n",
       "      <td>06b8999e2fba1a1fbc88172c00ba8bc7</td>\n",
       "      <td>861eff4711a542e4b93843c6dd7febb0</td>\n",
       "      <td>14409</td>\n",
       "      <td>franca</td>\n",
       "      <td>SP</td>\n",
       "      <td>-20.509897</td>\n",
       "      <td>-47.397866</td>\n",
       "      <td>franca</td>\n",
       "      <td>SP</td>\n",
       "      <td>14409</td>\n",
       "    </tr>\n",
       "    <tr>\n",
       "      <th>1</th>\n",
       "      <td>06b8999e2fba1a1fbc88172c00ba8bc7</td>\n",
       "      <td>861eff4711a542e4b93843c6dd7febb0</td>\n",
       "      <td>14409</td>\n",
       "      <td>franca</td>\n",
       "      <td>SP</td>\n",
       "      <td>-20.497396</td>\n",
       "      <td>-47.399241</td>\n",
       "      <td>franca</td>\n",
       "      <td>SP</td>\n",
       "      <td>14409</td>\n",
       "    </tr>\n",
       "    <tr>\n",
       "      <th>2</th>\n",
       "      <td>06b8999e2fba1a1fbc88172c00ba8bc7</td>\n",
       "      <td>861eff4711a542e4b93843c6dd7febb0</td>\n",
       "      <td>14409</td>\n",
       "      <td>franca</td>\n",
       "      <td>SP</td>\n",
       "      <td>-20.510459</td>\n",
       "      <td>-47.399553</td>\n",
       "      <td>franca</td>\n",
       "      <td>SP</td>\n",
       "      <td>14409</td>\n",
       "    </tr>\n",
       "    <tr>\n",
       "      <th>3</th>\n",
       "      <td>06b8999e2fba1a1fbc88172c00ba8bc7</td>\n",
       "      <td>861eff4711a542e4b93843c6dd7febb0</td>\n",
       "      <td>14409</td>\n",
       "      <td>franca</td>\n",
       "      <td>SP</td>\n",
       "      <td>-20.480940</td>\n",
       "      <td>-47.394161</td>\n",
       "      <td>franca</td>\n",
       "      <td>SP</td>\n",
       "      <td>14409</td>\n",
       "    </tr>\n",
       "    <tr>\n",
       "      <th>4</th>\n",
       "      <td>06b8999e2fba1a1fbc88172c00ba8bc7</td>\n",
       "      <td>861eff4711a542e4b93843c6dd7febb0</td>\n",
       "      <td>14409</td>\n",
       "      <td>franca</td>\n",
       "      <td>SP</td>\n",
       "      <td>-20.515413</td>\n",
       "      <td>-47.398194</td>\n",
       "      <td>franca</td>\n",
       "      <td>SP</td>\n",
       "      <td>14409</td>\n",
       "    </tr>\n",
       "    <tr>\n",
       "      <th>...</th>\n",
       "      <td>...</td>\n",
       "      <td>...</td>\n",
       "      <td>...</td>\n",
       "      <td>...</td>\n",
       "      <td>...</td>\n",
       "      <td>...</td>\n",
       "      <td>...</td>\n",
       "      <td>...</td>\n",
       "      <td>...</td>\n",
       "      <td>...</td>\n",
       "    </tr>\n",
       "    <tr>\n",
       "      <th>15083728</th>\n",
       "      <td>274fa6071e5e17fe303b9748641082c8</td>\n",
       "      <td>84732c5050c01db9b23e19ba39899398</td>\n",
       "      <td>06703</td>\n",
       "      <td>cotia</td>\n",
       "      <td>SP</td>\n",
       "      <td>-23.599369</td>\n",
       "      <td>-46.905603</td>\n",
       "      <td>cotia</td>\n",
       "      <td>SP</td>\n",
       "      <td>06703</td>\n",
       "    </tr>\n",
       "    <tr>\n",
       "      <th>15083729</th>\n",
       "      <td>274fa6071e5e17fe303b9748641082c8</td>\n",
       "      <td>84732c5050c01db9b23e19ba39899398</td>\n",
       "      <td>06703</td>\n",
       "      <td>cotia</td>\n",
       "      <td>SP</td>\n",
       "      <td>-23.593577</td>\n",
       "      <td>-46.910112</td>\n",
       "      <td>cotia</td>\n",
       "      <td>SP</td>\n",
       "      <td>06703</td>\n",
       "    </tr>\n",
       "    <tr>\n",
       "      <th>15083730</th>\n",
       "      <td>274fa6071e5e17fe303b9748641082c8</td>\n",
       "      <td>84732c5050c01db9b23e19ba39899398</td>\n",
       "      <td>06703</td>\n",
       "      <td>cotia</td>\n",
       "      <td>SP</td>\n",
       "      <td>-23.584425</td>\n",
       "      <td>-46.892014</td>\n",
       "      <td>cotia</td>\n",
       "      <td>SP</td>\n",
       "      <td>06703</td>\n",
       "    </tr>\n",
       "    <tr>\n",
       "      <th>15083731</th>\n",
       "      <td>274fa6071e5e17fe303b9748641082c8</td>\n",
       "      <td>84732c5050c01db9b23e19ba39899398</td>\n",
       "      <td>06703</td>\n",
       "      <td>cotia</td>\n",
       "      <td>SP</td>\n",
       "      <td>-23.595022</td>\n",
       "      <td>-46.918546</td>\n",
       "      <td>cotia</td>\n",
       "      <td>SP</td>\n",
       "      <td>06703</td>\n",
       "    </tr>\n",
       "    <tr>\n",
       "      <th>15083732</th>\n",
       "      <td>274fa6071e5e17fe303b9748641082c8</td>\n",
       "      <td>84732c5050c01db9b23e19ba39899398</td>\n",
       "      <td>06703</td>\n",
       "      <td>cotia</td>\n",
       "      <td>SP</td>\n",
       "      <td>-23.594067</td>\n",
       "      <td>-46.909609</td>\n",
       "      <td>cotia</td>\n",
       "      <td>SP</td>\n",
       "      <td>06703</td>\n",
       "    </tr>\n",
       "  </tbody>\n",
       "</table>\n",
       "<p>15083733 rows × 10 columns</p>\n",
       "</div>"
      ],
      "text/plain": [
       "                               customer_id                customer_unique_id  \\\n",
       "0         06b8999e2fba1a1fbc88172c00ba8bc7  861eff4711a542e4b93843c6dd7febb0   \n",
       "1         06b8999e2fba1a1fbc88172c00ba8bc7  861eff4711a542e4b93843c6dd7febb0   \n",
       "2         06b8999e2fba1a1fbc88172c00ba8bc7  861eff4711a542e4b93843c6dd7febb0   \n",
       "3         06b8999e2fba1a1fbc88172c00ba8bc7  861eff4711a542e4b93843c6dd7febb0   \n",
       "4         06b8999e2fba1a1fbc88172c00ba8bc7  861eff4711a542e4b93843c6dd7febb0   \n",
       "...                                    ...                               ...   \n",
       "15083728  274fa6071e5e17fe303b9748641082c8  84732c5050c01db9b23e19ba39899398   \n",
       "15083729  274fa6071e5e17fe303b9748641082c8  84732c5050c01db9b23e19ba39899398   \n",
       "15083730  274fa6071e5e17fe303b9748641082c8  84732c5050c01db9b23e19ba39899398   \n",
       "15083731  274fa6071e5e17fe303b9748641082c8  84732c5050c01db9b23e19ba39899398   \n",
       "15083732  274fa6071e5e17fe303b9748641082c8  84732c5050c01db9b23e19ba39899398   \n",
       "\n",
       "         customer_zip_code_prefix customer_city customer_state  \\\n",
       "0                           14409        franca             SP   \n",
       "1                           14409        franca             SP   \n",
       "2                           14409        franca             SP   \n",
       "3                           14409        franca             SP   \n",
       "4                           14409        franca             SP   \n",
       "...                           ...           ...            ...   \n",
       "15083728                    06703         cotia             SP   \n",
       "15083729                    06703         cotia             SP   \n",
       "15083730                    06703         cotia             SP   \n",
       "15083731                    06703         cotia             SP   \n",
       "15083732                    06703         cotia             SP   \n",
       "\n",
       "          geolocation_lat  geolocation_lng geolocation_city geolocation_state  \\\n",
       "0              -20.509897       -47.397866           franca                SP   \n",
       "1              -20.497396       -47.399241           franca                SP   \n",
       "2              -20.510459       -47.399553           franca                SP   \n",
       "3              -20.480940       -47.394161           franca                SP   \n",
       "4              -20.515413       -47.398194           franca                SP   \n",
       "...                   ...              ...              ...               ...   \n",
       "15083728       -23.599369       -46.905603            cotia                SP   \n",
       "15083729       -23.593577       -46.910112            cotia                SP   \n",
       "15083730       -23.584425       -46.892014            cotia                SP   \n",
       "15083731       -23.595022       -46.918546            cotia                SP   \n",
       "15083732       -23.594067       -46.909609            cotia                SP   \n",
       "\n",
       "         seller_zip_code_prefix  \n",
       "0                         14409  \n",
       "1                         14409  \n",
       "2                         14409  \n",
       "3                         14409  \n",
       "4                         14409  \n",
       "...                         ...  \n",
       "15083728                  06703  \n",
       "15083729                  06703  \n",
       "15083730                  06703  \n",
       "15083731                  06703  \n",
       "15083732                  06703  \n",
       "\n",
       "[15083733 rows x 10 columns]"
      ]
     },
     "execution_count": 72,
     "metadata": {},
     "output_type": "execute_result"
    }
   ],
   "source": [
    "with_customer = pd.merge(customers_copy, geolocation_df_copy, left_on='customer_zip_code_prefix', \n",
    "                         right_on='seller_zip_code_prefix', how='left') #.drop(columns=['customer_zip_code_prefix'])\n",
    "with_customer"
   ]
  },
  {
   "cell_type": "code",
   "execution_count": 66,
   "id": "fed23559",
   "metadata": {},
   "outputs": [
    {
     "data": {
      "text/plain": [
       "3791133"
      ]
     },
     "execution_count": 66,
     "metadata": {},
     "output_type": "execute_result"
    }
   ],
   "source": [
    "with_customer.duplicated().sum()"
   ]
  },
  {
   "cell_type": "code",
   "execution_count": null,
   "id": "4e8625f1",
   "metadata": {},
   "outputs": [],
   "source": []
  }
 ],
 "metadata": {
  "kernelspec": {
   "display_name": "Python 3 (ipykernel)",
   "language": "python",
   "name": "python3"
  },
  "language_info": {
   "codemirror_mode": {
    "name": "ipython",
    "version": 3
   },
   "file_extension": ".py",
   "mimetype": "text/x-python",
   "name": "python",
   "nbconvert_exporter": "python",
   "pygments_lexer": "ipython3",
   "version": "3.9.12"
  }
 },
 "nbformat": 4,
 "nbformat_minor": 5
}
