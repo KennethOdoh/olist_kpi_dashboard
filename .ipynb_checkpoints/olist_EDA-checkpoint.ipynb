{
 "cells": [
  {
   "cell_type": "markdown",
   "id": "39f72415",
   "metadata": {},
   "source": [
    "# Introduction"
   ]
  },
  {
   "cell_type": "code",
   "execution_count": 1,
   "id": "d8382445",
   "metadata": {},
   "outputs": [],
   "source": [
    "#Import required libraries\n",
    "import numpy as np\n",
    "import pandas as pd\n",
    "import seaborn as sb\n",
    "import matplotlib.pyplot as plt\n",
    "# import streamlit as st\n",
    "# import plotly"
   ]
  },
  {
   "cell_type": "code",
   "execution_count": 3,
   "id": "6f776cff",
   "metadata": {},
   "outputs": [
    {
     "name": "stdout",
     "output_type": "stream",
     "text": [
      "<class 'pandas.core.frame.DataFrame'>\n",
      "RangeIndex: 118432 entries, 0 to 118431\n",
      "Data columns (total 26 columns):\n",
      " #   Column                         Non-Null Count   Dtype  \n",
      "---  ------                         --------------   -----  \n",
      " 0   order_id                       118432 non-null  object \n",
      " 1   customer_id                    118432 non-null  object \n",
      " 2   order_status                   118432 non-null  object \n",
      " 3   order_approved_at              118265 non-null  object \n",
      " 4   order_delivered_customer_date  115044 non-null  object \n",
      " 5   review_id                      117438 non-null  object \n",
      " 6   review_score                   117438 non-null  float64\n",
      " 7   payment_type                   118429 non-null  object \n",
      " 8   payment_value                  118429 non-null  float64\n",
      " 9   order_item_id                  117618 non-null  float64\n",
      " 10  product_id                     117618 non-null  object \n",
      " 11  seller_id                      117618 non-null  object \n",
      " 12  price                          117618 non-null  float64\n",
      " 13  freight_value                  117618 non-null  float64\n",
      " 14  product_category_name          115938 non-null  object \n",
      " 15  seller_zip_code_prefix         117618 non-null  float64\n",
      " 16  seller_city                    117618 non-null  object \n",
      " 17  seller_state                   117618 non-null  object \n",
      " 18  seller_lat                     118406 non-null  float64\n",
      " 19  seller_lng                     118406 non-null  float64\n",
      " 20  customer_unique_id             118432 non-null  object \n",
      " 21  customer_zip_code_prefix       118432 non-null  int64  \n",
      " 22  customer_city                  118432 non-null  object \n",
      " 23  customer_state                 118432 non-null  object \n",
      " 24  customer_lat                   118430 non-null  float64\n",
      " 25  customer_lng                   118430 non-null  float64\n",
      "dtypes: float64(10), int64(1), object(15)\n",
      "memory usage: 23.5+ MB\n"
     ]
    }
   ],
   "source": [
    "sales_data = pd.read_csv('dirty_sales_data.csv')\n",
    "sales_data.info()"
   ]
  },
  {
   "cell_type": "code",
   "execution_count": 5,
   "id": "bc2f7ae7",
   "metadata": {},
   "outputs": [
    {
     "name": "stdout",
     "output_type": "stream",
     "text": [
      "hi\n"
     ]
    }
   ],
   "source": [
    "# update datatypes\n",
    "\n",
    "convert_dtype_dict = {\n",
    "    'order_status': 'category',\n",
    "    'order_approved_at': 'datetime64[ns]',\n",
    "    'order_delivered_customer_date': 'datetime64[ns]',\n",
    "    'review_score': 'category',\n",
    "    'payment_type': 'category',\n",
    "    'product_category_name': 'category',\n",
    "    'seller_zip_code_prefix': str,\n",
    "    'seller_city': 'category',\n",
    "    'seller_state': 'category',\n",
    "    'customer_zip_code_prefix': str,\n",
    "    'customer_city': 'category',\n",
    "    'customer_state': 'category',\n",
    "}\n",
    "\n",
    "sales_data = sales_data.astype(convert_dtype_dict)"
   ]
  },
  {
   "cell_type": "markdown",
   "id": "6537a393",
   "metadata": {},
   "source": [
    "# Univariate Analysis"
   ]
  },
  {
   "cell_type": "code",
   "execution_count": null,
   "id": "5ba863b3",
   "metadata": {},
   "outputs": [],
   "source": []
  },
  {
   "cell_type": "markdown",
   "id": "823406a4",
   "metadata": {},
   "source": [
    "# Bivariate Analysis"
   ]
  },
  {
   "cell_type": "code",
   "execution_count": null,
   "id": "1cc0d6ba",
   "metadata": {},
   "outputs": [],
   "source": []
  },
  {
   "cell_type": "markdown",
   "id": "3f99b5f3",
   "metadata": {},
   "source": [
    "# Multivariate Analysis"
   ]
  },
  {
   "cell_type": "code",
   "execution_count": null,
   "id": "b99af1ef",
   "metadata": {},
   "outputs": [],
   "source": []
  }
 ],
 "metadata": {
  "kernelspec": {
   "display_name": "Python 3 (ipykernel)",
   "language": "python",
   "name": "python3"
  },
  "language_info": {
   "codemirror_mode": {
    "name": "ipython",
    "version": 3
   },
   "file_extension": ".py",
   "mimetype": "text/x-python",
   "name": "python",
   "nbconvert_exporter": "python",
   "pygments_lexer": "ipython3",
   "version": "3.9.12"
  }
 },
 "nbformat": 4,
 "nbformat_minor": 5
}
