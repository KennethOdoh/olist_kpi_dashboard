{
 "cells": [
  {
   "cell_type": "markdown",
   "id": "6a47ef9f",
   "metadata": {},
   "source": [
    "## Attention\n",
    "\n",
    "An order might have multiple items.\n",
    "\n",
    "Each item might be fulfiled by a distinct seller"
   ]
  },
  {
   "cell_type": "code",
   "execution_count": 1,
   "id": "8e412424",
   "metadata": {},
   "outputs": [],
   "source": [
    "#Import required libraries\n",
    "import numpy as np\n",
    "import pandas as pd\n",
    "import seaborn as sb\n",
    "import matplotlib.pyplot as plt\n",
    "# import streamlit as st\n",
    "# import plotly"
   ]
  },
  {
   "cell_type": "code",
   "execution_count": null,
   "id": "b9194ea1",
   "metadata": {},
   "outputs": [],
   "source": []
  },
  {
   "cell_type": "code",
   "execution_count": 2,
   "id": "e5d0dbc5",
   "metadata": {},
   "outputs": [],
   "source": [
    "# The datasets were combined into one Excel file with multiple sheets\n",
    "#Load workbook\n",
    "xl = pd.ExcelFile('olist_store_dataset.xlsx', engine='openpyxl')"
   ]
  },
  {
   "cell_type": "code",
   "execution_count": 3,
   "id": "2c816114",
   "metadata": {},
   "outputs": [
    {
     "data": {
      "text/plain": [
       "['customers_data',\n",
       " 'geolocation_data',\n",
       " 'order_items_data',\n",
       " 'order_payments_data',\n",
       " 'order_reviews_data',\n",
       " 'orders_data',\n",
       " 'products_data',\n",
       " 'sellers_data',\n",
       " 'product_categories_data']"
      ]
     },
     "execution_count": 3,
     "metadata": {},
     "output_type": "execute_result"
    }
   ],
   "source": [
    "# list of sheets containing the datasets\n",
    "xl.sheet_names"
   ]
  },
  {
   "cell_type": "markdown",
   "id": "ebcdcdf7",
   "metadata": {},
   "source": [
    "### Load the tables from Excel worksheet to a pandas dataframe"
   ]
  },
  {
   "cell_type": "code",
   "execution_count": 4,
   "id": "f0718a51",
   "metadata": {},
   "outputs": [
    {
     "data": {
      "text/html": [
       "<div>\n",
       "<style scoped>\n",
       "    .dataframe tbody tr th:only-of-type {\n",
       "        vertical-align: middle;\n",
       "    }\n",
       "\n",
       "    .dataframe tbody tr th {\n",
       "        vertical-align: top;\n",
       "    }\n",
       "\n",
       "    .dataframe thead th {\n",
       "        text-align: right;\n",
       "    }\n",
       "</style>\n",
       "<table border=\"1\" class=\"dataframe\">\n",
       "  <thead>\n",
       "    <tr style=\"text-align: right;\">\n",
       "      <th></th>\n",
       "      <th>customer_id</th>\n",
       "      <th>customer_unique_id</th>\n",
       "      <th>customer_zip_code_prefix</th>\n",
       "      <th>customer_city</th>\n",
       "      <th>customer_state</th>\n",
       "    </tr>\n",
       "  </thead>\n",
       "  <tbody>\n",
       "    <tr>\n",
       "      <th>0</th>\n",
       "      <td>06b8999e2fba1a1fbc88172c00ba8bc7</td>\n",
       "      <td>861eff4711a542e4b93843c6dd7febb0</td>\n",
       "      <td>14409</td>\n",
       "      <td>franca</td>\n",
       "      <td>SP</td>\n",
       "    </tr>\n",
       "    <tr>\n",
       "      <th>1</th>\n",
       "      <td>18955e83d337fd6b2def6b18a428ac77</td>\n",
       "      <td>290c77bc529b7ac935b93aa66c333dc3</td>\n",
       "      <td>9790</td>\n",
       "      <td>sao bernardo do campo</td>\n",
       "      <td>SP</td>\n",
       "    </tr>\n",
       "  </tbody>\n",
       "</table>\n",
       "</div>"
      ],
      "text/plain": [
       "                        customer_id                customer_unique_id  \\\n",
       "0  06b8999e2fba1a1fbc88172c00ba8bc7  861eff4711a542e4b93843c6dd7febb0   \n",
       "1  18955e83d337fd6b2def6b18a428ac77  290c77bc529b7ac935b93aa66c333dc3   \n",
       "\n",
       "   customer_zip_code_prefix          customer_city customer_state  \n",
       "0                     14409                 franca             SP  \n",
       "1                      9790  sao bernardo do campo             SP  "
      ]
     },
     "execution_count": 4,
     "metadata": {},
     "output_type": "execute_result"
    }
   ],
   "source": [
    "# Customers data sheet\n",
    "customers_df = pd.read_excel(xl, sheet_name='customers_data')\n",
    "customers_df.head(2)"
   ]
  },
  {
   "cell_type": "code",
   "execution_count": 5,
   "id": "9dd247f1",
   "metadata": {},
   "outputs": [
    {
     "name": "stdout",
     "output_type": "stream",
     "text": [
      "<class 'pandas.core.frame.DataFrame'>\n",
      "RangeIndex: 99441 entries, 0 to 99440\n",
      "Data columns (total 5 columns):\n",
      " #   Column                    Non-Null Count  Dtype \n",
      "---  ------                    --------------  ----- \n",
      " 0   customer_id               99441 non-null  object\n",
      " 1   customer_unique_id        99441 non-null  object\n",
      " 2   customer_zip_code_prefix  99441 non-null  int64 \n",
      " 3   customer_city             99441 non-null  object\n",
      " 4   customer_state            99441 non-null  object\n",
      "dtypes: int64(1), object(4)\n",
      "memory usage: 3.8+ MB\n"
     ]
    }
   ],
   "source": [
    "customers_df.info()"
   ]
  },
  {
   "cell_type": "code",
   "execution_count": 6,
   "id": "13ab0369",
   "metadata": {},
   "outputs": [
    {
     "name": "stdout",
     "output_type": "stream",
     "text": [
      "<class 'pandas.core.frame.DataFrame'>\n",
      "RangeIndex: 99441 entries, 0 to 99440\n",
      "Data columns (total 5 columns):\n",
      " #   Column                    Non-Null Count  Dtype   \n",
      "---  ------                    --------------  -----   \n",
      " 0   customer_id               99441 non-null  object  \n",
      " 1   customer_unique_id        99441 non-null  object  \n",
      " 2   customer_zip_code_prefix  99441 non-null  object  \n",
      " 3   customer_city             99441 non-null  category\n",
      " 4   customer_state            99441 non-null  category\n",
      "dtypes: category(2), object(3)\n",
      "memory usage: 2.7+ MB\n"
     ]
    }
   ],
   "source": [
    "# change column datatypes\n",
    "convert_dict = {\n",
    "    'customer_zip_code_prefix': str,\n",
    "    'customer_city': 'category',\n",
    "    'customer_state': 'category',\n",
    "}\n",
    "customers_df = customers_df.astype(convert_dict)\n",
    "\n",
    "# Let's standardize customer_zip_code_prefix digits to 5 for the column\n",
    "customers_df.customer_zip_code_prefix = customers_df.customer_zip_code_prefix.str.zfill(5)\n",
    "\n",
    "customers_df.info()"
   ]
  },
  {
   "cell_type": "code",
   "execution_count": 7,
   "id": "44bc5773",
   "metadata": {},
   "outputs": [
    {
     "data": {
      "text/plain": [
       "93962    95555\n",
       "72677    12043\n",
       "10819    08141\n",
       "96348    20230\n",
       "92991    88090\n",
       "Name: customer_zip_code_prefix, dtype: object"
      ]
     },
     "execution_count": 7,
     "metadata": {},
     "output_type": "execute_result"
    }
   ],
   "source": [
    "customers_df.customer_zip_code_prefix.sample(5)"
   ]
  },
  {
   "cell_type": "code",
   "execution_count": 8,
   "id": "180eccaa",
   "metadata": {},
   "outputs": [
    {
     "data": {
      "text/html": [
       "<div>\n",
       "<style scoped>\n",
       "    .dataframe tbody tr th:only-of-type {\n",
       "        vertical-align: middle;\n",
       "    }\n",
       "\n",
       "    .dataframe tbody tr th {\n",
       "        vertical-align: top;\n",
       "    }\n",
       "\n",
       "    .dataframe thead th {\n",
       "        text-align: right;\n",
       "    }\n",
       "</style>\n",
       "<table border=\"1\" class=\"dataframe\">\n",
       "  <thead>\n",
       "    <tr style=\"text-align: right;\">\n",
       "      <th></th>\n",
       "      <th>geolocation_zip_code_prefix</th>\n",
       "      <th>geolocation_lat</th>\n",
       "      <th>geolocation_lng</th>\n",
       "      <th>geolocation_city</th>\n",
       "      <th>geolocation_state</th>\n",
       "    </tr>\n",
       "  </thead>\n",
       "  <tbody>\n",
       "    <tr>\n",
       "      <th>0</th>\n",
       "      <td>1037</td>\n",
       "      <td>-23.545621</td>\n",
       "      <td>-46.639292</td>\n",
       "      <td>sao paulo</td>\n",
       "      <td>SP</td>\n",
       "    </tr>\n",
       "    <tr>\n",
       "      <th>1</th>\n",
       "      <td>1046</td>\n",
       "      <td>-23.546081</td>\n",
       "      <td>-46.644820</td>\n",
       "      <td>sao paulo</td>\n",
       "      <td>SP</td>\n",
       "    </tr>\n",
       "    <tr>\n",
       "      <th>2</th>\n",
       "      <td>1046</td>\n",
       "      <td>-23.546129</td>\n",
       "      <td>-46.642951</td>\n",
       "      <td>sao paulo</td>\n",
       "      <td>SP</td>\n",
       "    </tr>\n",
       "    <tr>\n",
       "      <th>3</th>\n",
       "      <td>1041</td>\n",
       "      <td>-23.544392</td>\n",
       "      <td>-46.639499</td>\n",
       "      <td>sao paulo</td>\n",
       "      <td>SP</td>\n",
       "    </tr>\n",
       "    <tr>\n",
       "      <th>4</th>\n",
       "      <td>1035</td>\n",
       "      <td>-23.541578</td>\n",
       "      <td>-46.641607</td>\n",
       "      <td>sao paulo</td>\n",
       "      <td>SP</td>\n",
       "    </tr>\n",
       "    <tr>\n",
       "      <th>...</th>\n",
       "      <td>...</td>\n",
       "      <td>...</td>\n",
       "      <td>...</td>\n",
       "      <td>...</td>\n",
       "      <td>...</td>\n",
       "    </tr>\n",
       "    <tr>\n",
       "      <th>1000158</th>\n",
       "      <td>99950</td>\n",
       "      <td>-28.068639</td>\n",
       "      <td>-52.010705</td>\n",
       "      <td>tapejara</td>\n",
       "      <td>RS</td>\n",
       "    </tr>\n",
       "    <tr>\n",
       "      <th>1000159</th>\n",
       "      <td>99900</td>\n",
       "      <td>-27.877125</td>\n",
       "      <td>-52.224882</td>\n",
       "      <td>getulio vargas</td>\n",
       "      <td>RS</td>\n",
       "    </tr>\n",
       "    <tr>\n",
       "      <th>1000160</th>\n",
       "      <td>99950</td>\n",
       "      <td>-28.071855</td>\n",
       "      <td>-52.014716</td>\n",
       "      <td>tapejara</td>\n",
       "      <td>RS</td>\n",
       "    </tr>\n",
       "    <tr>\n",
       "      <th>1000161</th>\n",
       "      <td>99980</td>\n",
       "      <td>-28.388932</td>\n",
       "      <td>-51.846871</td>\n",
       "      <td>david canabarro</td>\n",
       "      <td>RS</td>\n",
       "    </tr>\n",
       "    <tr>\n",
       "      <th>1000162</th>\n",
       "      <td>99950</td>\n",
       "      <td>-28.070104</td>\n",
       "      <td>-52.018658</td>\n",
       "      <td>tapejara</td>\n",
       "      <td>RS</td>\n",
       "    </tr>\n",
       "  </tbody>\n",
       "</table>\n",
       "<p>1000163 rows × 5 columns</p>\n",
       "</div>"
      ],
      "text/plain": [
       "         geolocation_zip_code_prefix  geolocation_lat  geolocation_lng  \\\n",
       "0                               1037       -23.545621       -46.639292   \n",
       "1                               1046       -23.546081       -46.644820   \n",
       "2                               1046       -23.546129       -46.642951   \n",
       "3                               1041       -23.544392       -46.639499   \n",
       "4                               1035       -23.541578       -46.641607   \n",
       "...                              ...              ...              ...   \n",
       "1000158                        99950       -28.068639       -52.010705   \n",
       "1000159                        99900       -27.877125       -52.224882   \n",
       "1000160                        99950       -28.071855       -52.014716   \n",
       "1000161                        99980       -28.388932       -51.846871   \n",
       "1000162                        99950       -28.070104       -52.018658   \n",
       "\n",
       "        geolocation_city geolocation_state  \n",
       "0              sao paulo                SP  \n",
       "1              sao paulo                SP  \n",
       "2              sao paulo                SP  \n",
       "3              sao paulo                SP  \n",
       "4              sao paulo                SP  \n",
       "...                  ...               ...  \n",
       "1000158         tapejara                RS  \n",
       "1000159   getulio vargas                RS  \n",
       "1000160         tapejara                RS  \n",
       "1000161  david canabarro                RS  \n",
       "1000162         tapejara                RS  \n",
       "\n",
       "[1000163 rows x 5 columns]"
      ]
     },
     "execution_count": 8,
     "metadata": {},
     "output_type": "execute_result"
    }
   ],
   "source": [
    "# geolocation data sheet\n",
    "geolocation_df = pd.read_excel(xl, sheet_name='geolocation_data')\n",
    "geolocation_df"
   ]
  },
  {
   "cell_type": "code",
   "execution_count": 9,
   "id": "a74358df",
   "metadata": {},
   "outputs": [
    {
     "name": "stdout",
     "output_type": "stream",
     "text": [
      "<class 'pandas.core.frame.DataFrame'>\n",
      "RangeIndex: 1000163 entries, 0 to 1000162\n",
      "Data columns (total 5 columns):\n",
      " #   Column                       Non-Null Count    Dtype  \n",
      "---  ------                       --------------    -----  \n",
      " 0   geolocation_zip_code_prefix  1000163 non-null  int64  \n",
      " 1   geolocation_lat              1000163 non-null  float64\n",
      " 2   geolocation_lng              1000163 non-null  float64\n",
      " 3   geolocation_city             1000163 non-null  object \n",
      " 4   geolocation_state            1000163 non-null  object \n",
      "dtypes: float64(2), int64(1), object(2)\n",
      "memory usage: 38.2+ MB\n"
     ]
    }
   ],
   "source": [
    "geolocation_df.info()"
   ]
  },
  {
   "cell_type": "markdown",
   "id": "c052da30",
   "metadata": {},
   "source": [
    "- change datatype for some columns\n",
    "- rename geolocation_zip_code_prefix to seller_zip_code_prefix to merge with sellers_df"
   ]
  },
  {
   "cell_type": "code",
   "execution_count": 76,
   "id": "7db447c3",
   "metadata": {},
   "outputs": [],
   "source": [
    "# Change data types of listed columns\n",
    "convert_dict = {\n",
    "    'geolocation_zip_code_prefix' : str,\n",
    "    'geolocation_city': 'category',\n",
    "    'geolocation_state': 'category',\n",
    "}\n",
    "geolocation_df = geolocation_df.astype(convert_dict)\n",
    "\n",
    "\n",
    "# Let's standardize geolocation_zip_code_prefix digits to 5 for the column\n",
    "geolocation_df.geolocation_zip_code_prefix = geolocation_df.geolocation_zip_code_prefix.str.zfill(5)\n",
    "\n",
    "# Drop all duplicates in the geolocation_zip_code_prefix column and return the dataframe\n",
    "geolocation_df = geolocation_df.drop_duplicates(subset=['geolocation_zip_code_prefix'])"
   ]
  },
  {
   "cell_type": "code",
   "execution_count": 77,
   "id": "1f46dacd",
   "metadata": {
    "scrolled": true
   },
   "outputs": [
    {
     "name": "stdout",
     "output_type": "stream",
     "text": [
      "<class 'pandas.core.frame.DataFrame'>\n",
      "Int64Index: 19015 entries, 0 to 999846\n",
      "Data columns (total 5 columns):\n",
      " #   Column                       Non-Null Count  Dtype   \n",
      "---  ------                       --------------  -----   \n",
      " 0   geolocation_zip_code_prefix  19015 non-null  object  \n",
      " 1   geolocation_lat              19015 non-null  float64 \n",
      " 2   geolocation_lng              19015 non-null  float64 \n",
      " 3   geolocation_city             19015 non-null  category\n",
      " 4   geolocation_state            19015 non-null  category\n",
      "dtypes: category(2), float64(2), object(1)\n",
      "memory usage: 971.8+ KB\n"
     ]
    }
   ],
   "source": [
    "geolocation_df.info()"
   ]
  },
  {
   "cell_type": "code",
   "execution_count": 78,
   "id": "7e9352c3",
   "metadata": {},
   "outputs": [
    {
     "data": {
      "text/plain": [
       "817370    77308\n",
       "753129    64207\n",
       "44726     03183\n",
       "71010     04018\n",
       "709968    50870\n",
       "281685    12830\n",
       "300395    13336\n",
       "808437    75905\n",
       "56138     03442\n",
       "899618    87955\n",
       "Name: geolocation_zip_code_prefix, dtype: object"
      ]
     },
     "execution_count": 78,
     "metadata": {},
     "output_type": "execute_result"
    }
   ],
   "source": [
    "geolocation_df.geolocation_zip_code_prefix.sample(10)"
   ]
  },
  {
   "cell_type": "code",
   "execution_count": 38,
   "id": "24ba7ed7",
   "metadata": {},
   "outputs": [
    {
     "data": {
      "text/html": [
       "<div>\n",
       "<style scoped>\n",
       "    .dataframe tbody tr th:only-of-type {\n",
       "        vertical-align: middle;\n",
       "    }\n",
       "\n",
       "    .dataframe tbody tr th {\n",
       "        vertical-align: top;\n",
       "    }\n",
       "\n",
       "    .dataframe thead th {\n",
       "        text-align: right;\n",
       "    }\n",
       "</style>\n",
       "<table border=\"1\" class=\"dataframe\">\n",
       "  <thead>\n",
       "    <tr style=\"text-align: right;\">\n",
       "      <th></th>\n",
       "      <th>order_id</th>\n",
       "      <th>order_item_id</th>\n",
       "      <th>product_id</th>\n",
       "      <th>seller_id</th>\n",
       "      <th>shipping_limit_date</th>\n",
       "      <th>price</th>\n",
       "      <th>freight_value</th>\n",
       "    </tr>\n",
       "  </thead>\n",
       "  <tbody>\n",
       "    <tr>\n",
       "      <th>0</th>\n",
       "      <td>00010242fe8c5a6d1ba2dd792cb16214</td>\n",
       "      <td>1</td>\n",
       "      <td>4244733e06e7ecb4970a6e2683c13e61</td>\n",
       "      <td>48436dade18ac8b2bce089ec2a041202</td>\n",
       "      <td>2017-09-19 09:45:35</td>\n",
       "      <td>58.9</td>\n",
       "      <td>13.29</td>\n",
       "    </tr>\n",
       "    <tr>\n",
       "      <th>1</th>\n",
       "      <td>00018f77f2f0320c557190d7a144bdd3</td>\n",
       "      <td>1</td>\n",
       "      <td>e5f2d52b802189ee658865ca93d83a8f</td>\n",
       "      <td>dd7ddc04e1b6c2c614352b383efe2d36</td>\n",
       "      <td>2017-05-03 11:05:13</td>\n",
       "      <td>239.9</td>\n",
       "      <td>19.93</td>\n",
       "    </tr>\n",
       "  </tbody>\n",
       "</table>\n",
       "</div>"
      ],
      "text/plain": [
       "                           order_id  order_item_id  \\\n",
       "0  00010242fe8c5a6d1ba2dd792cb16214              1   \n",
       "1  00018f77f2f0320c557190d7a144bdd3              1   \n",
       "\n",
       "                         product_id                         seller_id  \\\n",
       "0  4244733e06e7ecb4970a6e2683c13e61  48436dade18ac8b2bce089ec2a041202   \n",
       "1  e5f2d52b802189ee658865ca93d83a8f  dd7ddc04e1b6c2c614352b383efe2d36   \n",
       "\n",
       "  shipping_limit_date  price  freight_value  \n",
       "0 2017-09-19 09:45:35   58.9          13.29  \n",
       "1 2017-05-03 11:05:13  239.9          19.93  "
      ]
     },
     "execution_count": 38,
     "metadata": {},
     "output_type": "execute_result"
    }
   ],
   "source": [
    "# order_items data sheet\n",
    "order_items_df = pd.read_excel(xl, sheet_name='order_items_data')\n",
    "order_items_df.head(2)"
   ]
  },
  {
   "cell_type": "code",
   "execution_count": 14,
   "id": "0a2fd87e",
   "metadata": {},
   "outputs": [
    {
     "name": "stdout",
     "output_type": "stream",
     "text": [
      "<class 'pandas.core.frame.DataFrame'>\n",
      "RangeIndex: 112650 entries, 0 to 112649\n",
      "Data columns (total 7 columns):\n",
      " #   Column               Non-Null Count   Dtype         \n",
      "---  ------               --------------   -----         \n",
      " 0   order_id             112650 non-null  object        \n",
      " 1   order_item_id        112650 non-null  int64         \n",
      " 2   product_id           112650 non-null  object        \n",
      " 3   seller_id            112650 non-null  object        \n",
      " 4   shipping_limit_date  112650 non-null  datetime64[ns]\n",
      " 5   price                112650 non-null  float64       \n",
      " 6   freight_value        112650 non-null  float64       \n",
      "dtypes: datetime64[ns](1), float64(2), int64(1), object(3)\n",
      "memory usage: 6.0+ MB\n"
     ]
    }
   ],
   "source": [
    "order_items_df.info()"
   ]
  },
  {
   "cell_type": "markdown",
   "id": "fe208aa0",
   "metadata": {},
   "source": [
    "- Change datatypes for some columns\n",
    "- Drop the shipping_limit_date column"
   ]
  },
  {
   "cell_type": "code",
   "execution_count": 15,
   "id": "37cb67b3",
   "metadata": {},
   "outputs": [],
   "source": [
    "convert_dict = {\n",
    "    'order_item_id': str,\n",
    "    'product_id': str,\n",
    "    'seller_id': str,    \n",
    "}\n",
    "\n",
    "order_items_df = order_items_df.astype(convert_dict)\n",
    "order_items_df = order_items_df.drop(columns=['shipping_limit_date'])"
   ]
  },
  {
   "cell_type": "code",
   "execution_count": 16,
   "id": "68b82855",
   "metadata": {},
   "outputs": [
    {
     "name": "stdout",
     "output_type": "stream",
     "text": [
      "<class 'pandas.core.frame.DataFrame'>\n",
      "RangeIndex: 112650 entries, 0 to 112649\n",
      "Data columns (total 6 columns):\n",
      " #   Column         Non-Null Count   Dtype  \n",
      "---  ------         --------------   -----  \n",
      " 0   order_id       112650 non-null  object \n",
      " 1   order_item_id  112650 non-null  object \n",
      " 2   product_id     112650 non-null  object \n",
      " 3   seller_id      112650 non-null  object \n",
      " 4   price          112650 non-null  float64\n",
      " 5   freight_value  112650 non-null  float64\n",
      "dtypes: float64(2), object(4)\n",
      "memory usage: 5.2+ MB\n"
     ]
    }
   ],
   "source": [
    "order_items_df.info()"
   ]
  },
  {
   "cell_type": "code",
   "execution_count": 141,
   "id": "aeba12fc",
   "metadata": {},
   "outputs": [
    {
     "data": {
      "text/html": [
       "<div>\n",
       "<style scoped>\n",
       "    .dataframe tbody tr th:only-of-type {\n",
       "        vertical-align: middle;\n",
       "    }\n",
       "\n",
       "    .dataframe tbody tr th {\n",
       "        vertical-align: top;\n",
       "    }\n",
       "\n",
       "    .dataframe thead th {\n",
       "        text-align: right;\n",
       "    }\n",
       "</style>\n",
       "<table border=\"1\" class=\"dataframe\">\n",
       "  <thead>\n",
       "    <tr style=\"text-align: right;\">\n",
       "      <th></th>\n",
       "      <th>order_id</th>\n",
       "      <th>payment_sequential</th>\n",
       "      <th>payment_type</th>\n",
       "      <th>payment_installments</th>\n",
       "      <th>payment_value</th>\n",
       "    </tr>\n",
       "  </thead>\n",
       "  <tbody>\n",
       "    <tr>\n",
       "      <th>0</th>\n",
       "      <td>b81ef226f3fe1789b1e8b2acac839d17</td>\n",
       "      <td>1</td>\n",
       "      <td>credit_card</td>\n",
       "      <td>8</td>\n",
       "      <td>99.33</td>\n",
       "    </tr>\n",
       "    <tr>\n",
       "      <th>1</th>\n",
       "      <td>a9810da82917af2d9aefd1278f1dcfa0</td>\n",
       "      <td>1</td>\n",
       "      <td>credit_card</td>\n",
       "      <td>1</td>\n",
       "      <td>24.39</td>\n",
       "    </tr>\n",
       "  </tbody>\n",
       "</table>\n",
       "</div>"
      ],
      "text/plain": [
       "                           order_id  payment_sequential payment_type  \\\n",
       "0  b81ef226f3fe1789b1e8b2acac839d17                   1  credit_card   \n",
       "1  a9810da82917af2d9aefd1278f1dcfa0                   1  credit_card   \n",
       "\n",
       "   payment_installments  payment_value  \n",
       "0                     8          99.33  \n",
       "1                     1          24.39  "
      ]
     },
     "execution_count": 141,
     "metadata": {},
     "output_type": "execute_result"
    }
   ],
   "source": [
    "# order_payments data sheet\n",
    "order_payments_df = pd.read_excel(xl, sheet_name='order_payments_data')\n",
    "order_payments_df.head(2)"
   ]
  },
  {
   "cell_type": "code",
   "execution_count": 142,
   "id": "cd0b4ddf",
   "metadata": {},
   "outputs": [
    {
     "name": "stdout",
     "output_type": "stream",
     "text": [
      "<class 'pandas.core.frame.DataFrame'>\n",
      "RangeIndex: 103886 entries, 0 to 103885\n",
      "Data columns (total 5 columns):\n",
      " #   Column                Non-Null Count   Dtype  \n",
      "---  ------                --------------   -----  \n",
      " 0   order_id              103886 non-null  object \n",
      " 1   payment_sequential    103886 non-null  int64  \n",
      " 2   payment_type          103886 non-null  object \n",
      " 3   payment_installments  103886 non-null  int64  \n",
      " 4   payment_value         103886 non-null  float64\n",
      "dtypes: float64(1), int64(2), object(2)\n",
      "memory usage: 4.0+ MB\n"
     ]
    }
   ],
   "source": [
    "order_payments_df.info()"
   ]
  },
  {
   "cell_type": "code",
   "execution_count": 143,
   "id": "4be5ff7b",
   "metadata": {},
   "outputs": [
    {
     "data": {
      "text/plain": [
       "False"
      ]
     },
     "execution_count": 143,
     "metadata": {},
     "output_type": "execute_result"
    }
   ],
   "source": [
    "order_payments_df.duplicated().any()"
   ]
  },
  {
   "cell_type": "code",
   "execution_count": 144,
   "id": "884a6906",
   "metadata": {},
   "outputs": [
    {
     "data": {
      "text/html": [
       "<div>\n",
       "<style scoped>\n",
       "    .dataframe tbody tr th:only-of-type {\n",
       "        vertical-align: middle;\n",
       "    }\n",
       "\n",
       "    .dataframe tbody tr th {\n",
       "        vertical-align: top;\n",
       "    }\n",
       "\n",
       "    .dataframe thead th {\n",
       "        text-align: right;\n",
       "    }\n",
       "</style>\n",
       "<table border=\"1\" class=\"dataframe\">\n",
       "  <thead>\n",
       "    <tr style=\"text-align: right;\">\n",
       "      <th></th>\n",
       "      <th>order_id</th>\n",
       "      <th>payment_sequential</th>\n",
       "      <th>payment_type</th>\n",
       "      <th>payment_installments</th>\n",
       "      <th>payment_value</th>\n",
       "    </tr>\n",
       "  </thead>\n",
       "  <tbody>\n",
       "  </tbody>\n",
       "</table>\n",
       "</div>"
      ],
      "text/plain": [
       "Empty DataFrame\n",
       "Columns: [order_id, payment_sequential, payment_type, payment_installments, payment_value]\n",
       "Index: []"
      ]
     },
     "execution_count": 144,
     "metadata": {},
     "output_type": "execute_result"
    }
   ],
   "source": [
    "# order_payments_df contains duplicate rows\n",
    "order_payments_df[order_payments_df.duplicated()]"
   ]
  },
  {
   "cell_type": "code",
   "execution_count": 145,
   "id": "f6402db0",
   "metadata": {},
   "outputs": [
    {
     "name": "stdout",
     "output_type": "stream",
     "text": [
      "<class 'pandas.core.frame.DataFrame'>\n",
      "RangeIndex: 103886 entries, 0 to 103885\n",
      "Data columns (total 3 columns):\n",
      " #   Column         Non-Null Count   Dtype   \n",
      "---  ------         --------------   -----   \n",
      " 0   order_id       103886 non-null  object  \n",
      " 1   payment_type   103886 non-null  category\n",
      " 2   payment_value  103886 non-null  float64 \n",
      "dtypes: category(1), float64(1), object(1)\n",
      "memory usage: 1.7+ MB\n"
     ]
    }
   ],
   "source": [
    "# Change datatype\n",
    "convert_dict = {\n",
    "    'order_id': str,\n",
    "    'payment_type': 'category', \n",
    "}\n",
    "order_payments_df = order_payments_df.astype(convert_dict)\n",
    "\n",
    "# drop irrelevant columns\n",
    "order_payments_df = order_payments_df.drop(columns=['payment_sequential', 'payment_installments'])\n",
    "order_payments_df.info()\n",
    "\n",
    "# drop duplicates\n",
    "order_payments_df = order_payments_df.drop_duplicates()"
   ]
  },
  {
   "cell_type": "code",
   "execution_count": 146,
   "id": "df885d02",
   "metadata": {},
   "outputs": [
    {
     "data": {
      "text/plain": [
       "False"
      ]
     },
     "execution_count": 146,
     "metadata": {},
     "output_type": "execute_result"
    }
   ],
   "source": [
    "order_payments_df.duplicated().any()"
   ]
  },
  {
   "cell_type": "code",
   "execution_count": 147,
   "id": "b6f636bf",
   "metadata": {},
   "outputs": [
    {
     "data": {
      "text/html": [
       "<div>\n",
       "<style scoped>\n",
       "    .dataframe tbody tr th:only-of-type {\n",
       "        vertical-align: middle;\n",
       "    }\n",
       "\n",
       "    .dataframe tbody tr th {\n",
       "        vertical-align: top;\n",
       "    }\n",
       "\n",
       "    .dataframe thead th {\n",
       "        text-align: right;\n",
       "    }\n",
       "</style>\n",
       "<table border=\"1\" class=\"dataframe\">\n",
       "  <thead>\n",
       "    <tr style=\"text-align: right;\">\n",
       "      <th></th>\n",
       "      <th>review_id</th>\n",
       "      <th>order_id</th>\n",
       "      <th>review_score</th>\n",
       "      <th>review_comment_title</th>\n",
       "      <th>review_comment_message</th>\n",
       "      <th>review_creation_date</th>\n",
       "      <th>review_answer_timestamp</th>\n",
       "    </tr>\n",
       "  </thead>\n",
       "  <tbody>\n",
       "    <tr>\n",
       "      <th>0</th>\n",
       "      <td>7bc2406110b926393aa56f80a40eba40</td>\n",
       "      <td>73fc7af87114b39712e6da79b0a377eb</td>\n",
       "      <td>4</td>\n",
       "      <td>NaN</td>\n",
       "      <td>NaN</td>\n",
       "      <td>2018-01-18</td>\n",
       "      <td>2018-01-18 21:46:59</td>\n",
       "    </tr>\n",
       "    <tr>\n",
       "      <th>1</th>\n",
       "      <td>80e641a11e56f04c1ad469d5645fdfde</td>\n",
       "      <td>a548910a1c6147796b98fdf73dbeba33</td>\n",
       "      <td>5</td>\n",
       "      <td>NaN</td>\n",
       "      <td>NaN</td>\n",
       "      <td>2018-03-10</td>\n",
       "      <td>2018-03-11 03:05:13</td>\n",
       "    </tr>\n",
       "  </tbody>\n",
       "</table>\n",
       "</div>"
      ],
      "text/plain": [
       "                          review_id                          order_id  \\\n",
       "0  7bc2406110b926393aa56f80a40eba40  73fc7af87114b39712e6da79b0a377eb   \n",
       "1  80e641a11e56f04c1ad469d5645fdfde  a548910a1c6147796b98fdf73dbeba33   \n",
       "\n",
       "   review_score review_comment_title review_comment_message  \\\n",
       "0             4                  NaN                    NaN   \n",
       "1             5                  NaN                    NaN   \n",
       "\n",
       "  review_creation_date review_answer_timestamp  \n",
       "0           2018-01-18     2018-01-18 21:46:59  \n",
       "1           2018-03-10     2018-03-11 03:05:13  "
      ]
     },
     "execution_count": 147,
     "metadata": {},
     "output_type": "execute_result"
    }
   ],
   "source": [
    "# order_reviews data sheet\n",
    "order_reviews_df = pd.read_excel(xl, sheet_name='order_reviews_data')\n",
    "order_reviews_df.head(2)"
   ]
  },
  {
   "cell_type": "code",
   "execution_count": 148,
   "id": "84f908f9",
   "metadata": {},
   "outputs": [
    {
     "name": "stdout",
     "output_type": "stream",
     "text": [
      "<class 'pandas.core.frame.DataFrame'>\n",
      "RangeIndex: 99224 entries, 0 to 99223\n",
      "Data columns (total 7 columns):\n",
      " #   Column                   Non-Null Count  Dtype         \n",
      "---  ------                   --------------  -----         \n",
      " 0   review_id                99224 non-null  object        \n",
      " 1   order_id                 99224 non-null  object        \n",
      " 2   review_score             99224 non-null  int64         \n",
      " 3   review_comment_title     11567 non-null  object        \n",
      " 4   review_comment_message   40974 non-null  object        \n",
      " 5   review_creation_date     99224 non-null  datetime64[ns]\n",
      " 6   review_answer_timestamp  99224 non-null  datetime64[ns]\n",
      "dtypes: datetime64[ns](2), int64(1), object(4)\n",
      "memory usage: 5.3+ MB\n"
     ]
    }
   ],
   "source": [
    "order_reviews_df.info()"
   ]
  },
  {
   "cell_type": "code",
   "execution_count": 149,
   "id": "7b6019c7",
   "metadata": {
    "scrolled": true
   },
   "outputs": [
    {
     "name": "stdout",
     "output_type": "stream",
     "text": [
      "<class 'pandas.core.frame.DataFrame'>\n",
      "RangeIndex: 99224 entries, 0 to 99223\n",
      "Data columns (total 3 columns):\n",
      " #   Column        Non-Null Count  Dtype   \n",
      "---  ------        --------------  -----   \n",
      " 0   review_id     99224 non-null  object  \n",
      " 1   order_id      99224 non-null  object  \n",
      " 2   review_score  99224 non-null  category\n",
      "dtypes: category(1), object(2)\n",
      "memory usage: 1.6+ MB\n"
     ]
    }
   ],
   "source": [
    "# change dtype\n",
    "convert_dict = {\n",
    "    'review_score': 'category',\n",
    "}\n",
    "order_reviews_df = order_reviews_df.astype(convert_dict)\n",
    "\n",
    "# drop irrelevant columns\n",
    "order_reviews_df = order_reviews_df.drop(columns=['review_creation_date','review_comment_message',\n",
    "                                                  'review_comment_title','review_answer_timestamp',\n",
    "                                                 ])\n",
    "order_reviews_df.info()"
   ]
  },
  {
   "cell_type": "code",
   "execution_count": 150,
   "id": "03589eb5",
   "metadata": {},
   "outputs": [
    {
     "data": {
      "text/html": [
       "<div>\n",
       "<style scoped>\n",
       "    .dataframe tbody tr th:only-of-type {\n",
       "        vertical-align: middle;\n",
       "    }\n",
       "\n",
       "    .dataframe tbody tr th {\n",
       "        vertical-align: top;\n",
       "    }\n",
       "\n",
       "    .dataframe thead th {\n",
       "        text-align: right;\n",
       "    }\n",
       "</style>\n",
       "<table border=\"1\" class=\"dataframe\">\n",
       "  <thead>\n",
       "    <tr style=\"text-align: right;\">\n",
       "      <th></th>\n",
       "      <th>order_id</th>\n",
       "      <th>customer_id</th>\n",
       "      <th>order_status</th>\n",
       "      <th>order_purchase_timestamp</th>\n",
       "      <th>order_approved_at</th>\n",
       "      <th>order_delivered_carrier_date</th>\n",
       "      <th>order_delivered_customer_date</th>\n",
       "      <th>order_estimated_delivery_date</th>\n",
       "    </tr>\n",
       "  </thead>\n",
       "  <tbody>\n",
       "    <tr>\n",
       "      <th>0</th>\n",
       "      <td>e481f51cbdc54678b7cc49136f2d6af7</td>\n",
       "      <td>9ef432eb6251297304e76186b10a928d</td>\n",
       "      <td>delivered</td>\n",
       "      <td>2017-10-02 10:56:33</td>\n",
       "      <td>2017-10-02 11:07:15</td>\n",
       "      <td>2017-10-04 19:55:00</td>\n",
       "      <td>2017-10-10 21:25:13</td>\n",
       "      <td>2017-10-18</td>\n",
       "    </tr>\n",
       "    <tr>\n",
       "      <th>1</th>\n",
       "      <td>53cdb2fc8bc7dce0b6741e2150273451</td>\n",
       "      <td>b0830fb4747a6c6d20dea0b8c802d7ef</td>\n",
       "      <td>delivered</td>\n",
       "      <td>2018-07-24 20:41:37</td>\n",
       "      <td>2018-07-26 03:24:27</td>\n",
       "      <td>2018-07-26 14:31:00</td>\n",
       "      <td>2018-08-07 15:27:45</td>\n",
       "      <td>2018-08-13</td>\n",
       "    </tr>\n",
       "  </tbody>\n",
       "</table>\n",
       "</div>"
      ],
      "text/plain": [
       "                           order_id                       customer_id  \\\n",
       "0  e481f51cbdc54678b7cc49136f2d6af7  9ef432eb6251297304e76186b10a928d   \n",
       "1  53cdb2fc8bc7dce0b6741e2150273451  b0830fb4747a6c6d20dea0b8c802d7ef   \n",
       "\n",
       "  order_status order_purchase_timestamp   order_approved_at  \\\n",
       "0    delivered      2017-10-02 10:56:33 2017-10-02 11:07:15   \n",
       "1    delivered      2018-07-24 20:41:37 2018-07-26 03:24:27   \n",
       "\n",
       "  order_delivered_carrier_date order_delivered_customer_date  \\\n",
       "0          2017-10-04 19:55:00           2017-10-10 21:25:13   \n",
       "1          2018-07-26 14:31:00           2018-08-07 15:27:45   \n",
       "\n",
       "  order_estimated_delivery_date  \n",
       "0                    2017-10-18  \n",
       "1                    2018-08-13  "
      ]
     },
     "execution_count": 150,
     "metadata": {},
     "output_type": "execute_result"
    }
   ],
   "source": [
    "# orders data sheet\n",
    "orders_df = pd.read_excel(xl, sheet_name='orders_data')\n",
    "orders_df.head(2)"
   ]
  },
  {
   "cell_type": "code",
   "execution_count": 151,
   "id": "96eaa1c7",
   "metadata": {},
   "outputs": [
    {
     "name": "stdout",
     "output_type": "stream",
     "text": [
      "<class 'pandas.core.frame.DataFrame'>\n",
      "RangeIndex: 99441 entries, 0 to 99440\n",
      "Data columns (total 8 columns):\n",
      " #   Column                         Non-Null Count  Dtype         \n",
      "---  ------                         --------------  -----         \n",
      " 0   order_id                       99441 non-null  object        \n",
      " 1   customer_id                    99441 non-null  object        \n",
      " 2   order_status                   99441 non-null  object        \n",
      " 3   order_purchase_timestamp       99441 non-null  datetime64[ns]\n",
      " 4   order_approved_at              99281 non-null  datetime64[ns]\n",
      " 5   order_delivered_carrier_date   97658 non-null  datetime64[ns]\n",
      " 6   order_delivered_customer_date  96476 non-null  datetime64[ns]\n",
      " 7   order_estimated_delivery_date  99441 non-null  datetime64[ns]\n",
      "dtypes: datetime64[ns](5), object(3)\n",
      "memory usage: 6.1+ MB\n"
     ]
    }
   ],
   "source": [
    "orders_df.info()"
   ]
  },
  {
   "cell_type": "code",
   "execution_count": 152,
   "id": "dbe206e6",
   "metadata": {},
   "outputs": [
    {
     "name": "stdout",
     "output_type": "stream",
     "text": [
      "<class 'pandas.core.frame.DataFrame'>\n",
      "RangeIndex: 99441 entries, 0 to 99440\n",
      "Data columns (total 5 columns):\n",
      " #   Column                         Non-Null Count  Dtype         \n",
      "---  ------                         --------------  -----         \n",
      " 0   order_id                       99441 non-null  object        \n",
      " 1   customer_id                    99441 non-null  object        \n",
      " 2   order_status                   99441 non-null  category      \n",
      " 3   order_approved_at              99281 non-null  datetime64[ns]\n",
      " 4   order_delivered_customer_date  96476 non-null  datetime64[ns]\n",
      "dtypes: category(1), datetime64[ns](2), object(2)\n",
      "memory usage: 3.1+ MB\n"
     ]
    }
   ],
   "source": [
    "# change dtype\n",
    "orders_df.order_status = orders_df.order_status.astype('category')\n",
    "\n",
    "# drop irrelevant columns\n",
    "orders_df = orders_df.drop(columns = ['order_purchase_timestamp','order_delivered_carrier_date', \n",
    "                                      'order_estimated_delivery_date'\n",
    "                                     ])\n",
    "orders_df.info()"
   ]
  },
  {
   "cell_type": "code",
   "execution_count": 153,
   "id": "8ae3b5fc",
   "metadata": {},
   "outputs": [
    {
     "data": {
      "text/html": [
       "<div>\n",
       "<style scoped>\n",
       "    .dataframe tbody tr th:only-of-type {\n",
       "        vertical-align: middle;\n",
       "    }\n",
       "\n",
       "    .dataframe tbody tr th {\n",
       "        vertical-align: top;\n",
       "    }\n",
       "\n",
       "    .dataframe thead th {\n",
       "        text-align: right;\n",
       "    }\n",
       "</style>\n",
       "<table border=\"1\" class=\"dataframe\">\n",
       "  <thead>\n",
       "    <tr style=\"text-align: right;\">\n",
       "      <th></th>\n",
       "      <th>product_id</th>\n",
       "      <th>product_category_name</th>\n",
       "      <th>product_name_lenght</th>\n",
       "      <th>product_description_lenght</th>\n",
       "      <th>product_photos_qty</th>\n",
       "      <th>product_weight_g</th>\n",
       "      <th>product_length_cm</th>\n",
       "      <th>product_height_cm</th>\n",
       "      <th>product_width_cm</th>\n",
       "    </tr>\n",
       "  </thead>\n",
       "  <tbody>\n",
       "    <tr>\n",
       "      <th>0</th>\n",
       "      <td>1e9e8ef04dbcff4541ed26657ea517e5</td>\n",
       "      <td>perfumaria</td>\n",
       "      <td>40.0</td>\n",
       "      <td>287.0</td>\n",
       "      <td>1.0</td>\n",
       "      <td>225.0</td>\n",
       "      <td>16.0</td>\n",
       "      <td>10.0</td>\n",
       "      <td>14.0</td>\n",
       "    </tr>\n",
       "    <tr>\n",
       "      <th>1</th>\n",
       "      <td>3aa071139cb16b67ca9e5dea641aaa2f</td>\n",
       "      <td>artes</td>\n",
       "      <td>44.0</td>\n",
       "      <td>276.0</td>\n",
       "      <td>1.0</td>\n",
       "      <td>1000.0</td>\n",
       "      <td>30.0</td>\n",
       "      <td>18.0</td>\n",
       "      <td>20.0</td>\n",
       "    </tr>\n",
       "  </tbody>\n",
       "</table>\n",
       "</div>"
      ],
      "text/plain": [
       "                         product_id product_category_name  \\\n",
       "0  1e9e8ef04dbcff4541ed26657ea517e5            perfumaria   \n",
       "1  3aa071139cb16b67ca9e5dea641aaa2f                 artes   \n",
       "\n",
       "   product_name_lenght  product_description_lenght  product_photos_qty  \\\n",
       "0                 40.0                       287.0                 1.0   \n",
       "1                 44.0                       276.0                 1.0   \n",
       "\n",
       "   product_weight_g  product_length_cm  product_height_cm  product_width_cm  \n",
       "0             225.0               16.0               10.0              14.0  \n",
       "1            1000.0               30.0               18.0              20.0  "
      ]
     },
     "execution_count": 153,
     "metadata": {},
     "output_type": "execute_result"
    }
   ],
   "source": [
    "# products data sheet\n",
    "products_df = pd.read_excel(xl, sheet_name='products_data')\n",
    "products_df.head(2)"
   ]
  },
  {
   "cell_type": "code",
   "execution_count": 154,
   "id": "834b065e",
   "metadata": {},
   "outputs": [
    {
     "name": "stdout",
     "output_type": "stream",
     "text": [
      "<class 'pandas.core.frame.DataFrame'>\n",
      "RangeIndex: 32951 entries, 0 to 32950\n",
      "Data columns (total 9 columns):\n",
      " #   Column                      Non-Null Count  Dtype  \n",
      "---  ------                      --------------  -----  \n",
      " 0   product_id                  32951 non-null  object \n",
      " 1   product_category_name       32341 non-null  object \n",
      " 2   product_name_lenght         32341 non-null  float64\n",
      " 3   product_description_lenght  32341 non-null  float64\n",
      " 4   product_photos_qty          32341 non-null  float64\n",
      " 5   product_weight_g            32949 non-null  float64\n",
      " 6   product_length_cm           32949 non-null  float64\n",
      " 7   product_height_cm           32949 non-null  float64\n",
      " 8   product_width_cm            32949 non-null  float64\n",
      "dtypes: float64(7), object(2)\n",
      "memory usage: 2.3+ MB\n"
     ]
    }
   ],
   "source": [
    "products_df.info()"
   ]
  },
  {
   "cell_type": "code",
   "execution_count": 155,
   "id": "34204981",
   "metadata": {},
   "outputs": [
    {
     "name": "stdout",
     "output_type": "stream",
     "text": [
      "<class 'pandas.core.frame.DataFrame'>\n",
      "RangeIndex: 32951 entries, 0 to 32950\n",
      "Data columns (total 2 columns):\n",
      " #   Column                 Non-Null Count  Dtype \n",
      "---  ------                 --------------  ----- \n",
      " 0   product_id             32951 non-null  object\n",
      " 1   product_category_name  32341 non-null  object\n",
      "dtypes: object(2)\n",
      "memory usage: 515.0+ KB\n"
     ]
    }
   ],
   "source": [
    "# drop irrelevant columns\n",
    "products_df = products_df.drop(columns=['product_name_lenght',\n",
    "       'product_description_lenght', 'product_photos_qty', 'product_weight_g',\n",
    "       'product_length_cm', 'product_height_cm', 'product_width_cm'])\n",
    "products_df.info()"
   ]
  },
  {
   "cell_type": "code",
   "execution_count": 156,
   "id": "94900d57",
   "metadata": {},
   "outputs": [
    {
     "data": {
      "text/html": [
       "<div>\n",
       "<style scoped>\n",
       "    .dataframe tbody tr th:only-of-type {\n",
       "        vertical-align: middle;\n",
       "    }\n",
       "\n",
       "    .dataframe tbody tr th {\n",
       "        vertical-align: top;\n",
       "    }\n",
       "\n",
       "    .dataframe thead th {\n",
       "        text-align: right;\n",
       "    }\n",
       "</style>\n",
       "<table border=\"1\" class=\"dataframe\">\n",
       "  <thead>\n",
       "    <tr style=\"text-align: right;\">\n",
       "      <th></th>\n",
       "      <th>seller_id</th>\n",
       "      <th>seller_zip_code_prefix</th>\n",
       "      <th>seller_city</th>\n",
       "      <th>seller_state</th>\n",
       "    </tr>\n",
       "  </thead>\n",
       "  <tbody>\n",
       "    <tr>\n",
       "      <th>2623</th>\n",
       "      <td>1746c1ae87ac63d530c7c943d0ac42e2</td>\n",
       "      <td>6501</td>\n",
       "      <td>santana de parnaiba</td>\n",
       "      <td>SP</td>\n",
       "    </tr>\n",
       "    <tr>\n",
       "      <th>1610</th>\n",
       "      <td>20cb7c2fde3e5bf10f0bbe7394e1c6a9</td>\n",
       "      <td>86385</td>\n",
       "      <td>andira-pr</td>\n",
       "      <td>PR</td>\n",
       "    </tr>\n",
       "    <tr>\n",
       "      <th>2693</th>\n",
       "      <td>57e632711dec9ec14ca7546769483e7e</td>\n",
       "      <td>88372</td>\n",
       "      <td>navegantes</td>\n",
       "      <td>SC</td>\n",
       "    </tr>\n",
       "    <tr>\n",
       "      <th>3079</th>\n",
       "      <td>4e2627090e6e5b9fabba883a37897683</td>\n",
       "      <td>31565</td>\n",
       "      <td>belo horizonte</td>\n",
       "      <td>MG</td>\n",
       "    </tr>\n",
       "    <tr>\n",
       "      <th>1631</th>\n",
       "      <td>34f563c82a85b99ae9e6d60db5fc2e28</td>\n",
       "      <td>93700</td>\n",
       "      <td>campo bom</td>\n",
       "      <td>RS</td>\n",
       "    </tr>\n",
       "    <tr>\n",
       "      <th>659</th>\n",
       "      <td>6426d21aca402a131fc0a5d0960a3c90</td>\n",
       "      <td>14091</td>\n",
       "      <td>ribeirao preto</td>\n",
       "      <td>SP</td>\n",
       "    </tr>\n",
       "    <tr>\n",
       "      <th>165</th>\n",
       "      <td>d6cd01c59123df02fc226eadbadb5f89</td>\n",
       "      <td>1207</td>\n",
       "      <td>sao paulo</td>\n",
       "      <td>SP</td>\n",
       "    </tr>\n",
       "    <tr>\n",
       "      <th>992</th>\n",
       "      <td>c2bda99904207edd1834f03e0022b007</td>\n",
       "      <td>8280</td>\n",
       "      <td>sao paulo</td>\n",
       "      <td>SP</td>\n",
       "    </tr>\n",
       "    <tr>\n",
       "      <th>3070</th>\n",
       "      <td>db6a4d4b5f1f5f98820ce6ce2619e2de</td>\n",
       "      <td>2968</td>\n",
       "      <td>sao paulo</td>\n",
       "      <td>SP</td>\n",
       "    </tr>\n",
       "    <tr>\n",
       "      <th>1650</th>\n",
       "      <td>458d868c9642f55f18f04e951a3fdde6</td>\n",
       "      <td>90670</td>\n",
       "      <td>porto alegre</td>\n",
       "      <td>RS</td>\n",
       "    </tr>\n",
       "  </tbody>\n",
       "</table>\n",
       "</div>"
      ],
      "text/plain": [
       "                             seller_id  seller_zip_code_prefix  \\\n",
       "2623  1746c1ae87ac63d530c7c943d0ac42e2                    6501   \n",
       "1610  20cb7c2fde3e5bf10f0bbe7394e1c6a9                   86385   \n",
       "2693  57e632711dec9ec14ca7546769483e7e                   88372   \n",
       "3079  4e2627090e6e5b9fabba883a37897683                   31565   \n",
       "1631  34f563c82a85b99ae9e6d60db5fc2e28                   93700   \n",
       "659   6426d21aca402a131fc0a5d0960a3c90                   14091   \n",
       "165   d6cd01c59123df02fc226eadbadb5f89                    1207   \n",
       "992   c2bda99904207edd1834f03e0022b007                    8280   \n",
       "3070  db6a4d4b5f1f5f98820ce6ce2619e2de                    2968   \n",
       "1650  458d868c9642f55f18f04e951a3fdde6                   90670   \n",
       "\n",
       "              seller_city seller_state  \n",
       "2623  santana de parnaiba           SP  \n",
       "1610            andira-pr           PR  \n",
       "2693           navegantes           SC  \n",
       "3079       belo horizonte           MG  \n",
       "1631            campo bom           RS  \n",
       "659        ribeirao preto           SP  \n",
       "165             sao paulo           SP  \n",
       "992             sao paulo           SP  \n",
       "3070            sao paulo           SP  \n",
       "1650         porto alegre           RS  "
      ]
     },
     "execution_count": 156,
     "metadata": {},
     "output_type": "execute_result"
    }
   ],
   "source": [
    "# sellers data sheet\n",
    "sellers_df = pd.read_excel(xl, sheet_name='sellers_data')\n",
    "sellers_df.sample(10)"
   ]
  },
  {
   "cell_type": "code",
   "execution_count": 157,
   "id": "b5e4025a",
   "metadata": {},
   "outputs": [
    {
     "name": "stdout",
     "output_type": "stream",
     "text": [
      "<class 'pandas.core.frame.DataFrame'>\n",
      "RangeIndex: 3095 entries, 0 to 3094\n",
      "Data columns (total 4 columns):\n",
      " #   Column                  Non-Null Count  Dtype \n",
      "---  ------                  --------------  ----- \n",
      " 0   seller_id               3095 non-null   object\n",
      " 1   seller_zip_code_prefix  3095 non-null   int64 \n",
      " 2   seller_city             3095 non-null   object\n",
      " 3   seller_state            3095 non-null   object\n",
      "dtypes: int64(1), object(3)\n",
      "memory usage: 96.8+ KB\n"
     ]
    }
   ],
   "source": [
    "sellers_df.info()"
   ]
  },
  {
   "cell_type": "code",
   "execution_count": 158,
   "id": "632af1ae",
   "metadata": {},
   "outputs": [
    {
     "name": "stdout",
     "output_type": "stream",
     "text": [
      "<class 'pandas.core.frame.DataFrame'>\n",
      "RangeIndex: 3095 entries, 0 to 3094\n",
      "Data columns (total 4 columns):\n",
      " #   Column                  Non-Null Count  Dtype   \n",
      "---  ------                  --------------  -----   \n",
      " 0   seller_id               3095 non-null   object  \n",
      " 1   seller_zip_code_prefix  3095 non-null   object  \n",
      " 2   seller_city             3095 non-null   category\n",
      " 3   seller_state            3095 non-null   category\n",
      "dtypes: category(2), object(2)\n",
      "memory usage: 79.2+ KB\n"
     ]
    }
   ],
   "source": [
    "# change data types of columns\n",
    "convert_dict = {\n",
    "    'seller_zip_code_prefix': str,\n",
    "    'seller_id': str,\n",
    "    'seller_city': 'category',\n",
    "    'seller_state': 'category',\n",
    "}\n",
    "sellers_df = sellers_df.astype(convert_dict)\n",
    "\n",
    "# Let's standardize seller_zip_code_prefix digits to 5 for the column\n",
    "sellers_df.seller_zip_code_prefix = sellers_df.seller_zip_code_prefix.str.zfill(5)\n",
    "\n",
    "sellers_df.info()"
   ]
  },
  {
   "cell_type": "code",
   "execution_count": 159,
   "id": "296780f6",
   "metadata": {},
   "outputs": [
    {
     "name": "stdout",
     "output_type": "stream",
     "text": [
      "<class 'pandas.core.frame.DataFrame'>\n",
      "RangeIndex: 71 entries, 0 to 70\n",
      "Data columns (total 2 columns):\n",
      " #   Column                         Non-Null Count  Dtype \n",
      "---  ------                         --------------  ----- \n",
      " 0   product_category_name          71 non-null     object\n",
      " 1   product_category_name_english  71 non-null     object\n",
      "dtypes: object(2)\n",
      "memory usage: 1.2+ KB\n"
     ]
    }
   ],
   "source": [
    "# product_categories data sheet\n",
    "product_categories_df = pd.read_excel(xl, sheet_name='product_categories_data')\n",
    "product_categories_df.info()"
   ]
  },
  {
   "cell_type": "markdown",
   "id": "869b605e",
   "metadata": {},
   "source": [
    "## Using the schema below, let's merge the tables.\n",
    "\n",
    ">1.\tAn order might have multiple items.\n",
    "2.\tEach item might be fulfilled by a distinct seller.\n",
    "3.\tAll text identifying stores and partners were replaced by the names of Game of Thrones great houses.\n"
   ]
  },
  {
   "cell_type": "markdown",
   "id": "ab374c66",
   "metadata": {},
   "source": [
    "<img src='schema.png' alt='Table schema' width='750px'>"
   ]
  },
  {
   "cell_type": "code",
   "execution_count": 160,
   "id": "995ac156",
   "metadata": {},
   "outputs": [
    {
     "name": "stdout",
     "output_type": "stream",
     "text": [
      "<class 'pandas.core.frame.DataFrame'>\n",
      "Int64Index: 99992 entries, 0 to 99991\n",
      "Data columns (total 7 columns):\n",
      " #   Column                         Non-Null Count  Dtype         \n",
      "---  ------                         --------------  -----         \n",
      " 0   order_id                       99992 non-null  object        \n",
      " 1   customer_id                    99992 non-null  object        \n",
      " 2   order_status                   99992 non-null  category      \n",
      " 3   order_approved_at              99831 non-null  datetime64[ns]\n",
      " 4   order_delivered_customer_date  97005 non-null  datetime64[ns]\n",
      " 5   review_id                      99224 non-null  object        \n",
      " 6   review_score                   99224 non-null  category      \n",
      "dtypes: category(2), datetime64[ns](2), object(3)\n",
      "memory usage: 4.8+ MB\n"
     ]
    }
   ],
   "source": [
    "#  orders_df + order_reviews = orders\n",
    "orders = pd.merge(orders_df, order_reviews_df, on='order_id', how='left')\n",
    "orders.info()"
   ]
  },
  {
   "cell_type": "code",
   "execution_count": 161,
   "id": "d9f270ac",
   "metadata": {},
   "outputs": [
    {
     "data": {
      "text/plain": [
       "False"
      ]
     },
     "execution_count": 161,
     "metadata": {},
     "output_type": "execute_result"
    }
   ],
   "source": [
    "orders.duplicated().any()"
   ]
  },
  {
   "cell_type": "code",
   "execution_count": 162,
   "id": "1deb9373",
   "metadata": {},
   "outputs": [
    {
     "name": "stdout",
     "output_type": "stream",
     "text": [
      "<class 'pandas.core.frame.DataFrame'>\n",
      "Int64Index: 103857 entries, 0 to 103856\n",
      "Data columns (total 9 columns):\n",
      " #   Column                         Non-Null Count   Dtype         \n",
      "---  ------                         --------------   -----         \n",
      " 0   order_id                       103857 non-null  object        \n",
      " 1   customer_id                    103857 non-null  object        \n",
      " 2   order_status                   103857 non-null  category      \n",
      " 3   order_approved_at              103691 non-null  datetime64[ns]\n",
      " 4   order_delivered_customer_date  100736 non-null  datetime64[ns]\n",
      " 5   review_id                      103060 non-null  object        \n",
      " 6   review_score                   103060 non-null  category      \n",
      " 7   payment_type                   103856 non-null  category      \n",
      " 8   payment_value                  103856 non-null  float64       \n",
      "dtypes: category(3), datetime64[ns](2), float64(1), object(3)\n",
      "memory usage: 5.8+ MB\n"
     ]
    }
   ],
   "source": [
    "# orders + order_payments_df = orders\n",
    "orders = pd.merge(orders, order_payments_df, on='order_id', how='left')\n",
    "orders.info()"
   ]
  },
  {
   "cell_type": "code",
   "execution_count": 163,
   "id": "a02d9ece",
   "metadata": {},
   "outputs": [
    {
     "data": {
      "text/html": [
       "<div>\n",
       "<style scoped>\n",
       "    .dataframe tbody tr th:only-of-type {\n",
       "        vertical-align: middle;\n",
       "    }\n",
       "\n",
       "    .dataframe tbody tr th {\n",
       "        vertical-align: top;\n",
       "    }\n",
       "\n",
       "    .dataframe thead th {\n",
       "        text-align: right;\n",
       "    }\n",
       "</style>\n",
       "<table border=\"1\" class=\"dataframe\">\n",
       "  <thead>\n",
       "    <tr style=\"text-align: right;\">\n",
       "      <th></th>\n",
       "      <th>order_id</th>\n",
       "      <th>payment_type</th>\n",
       "      <th>payment_value</th>\n",
       "    </tr>\n",
       "  </thead>\n",
       "  <tbody>\n",
       "    <tr>\n",
       "      <th>752</th>\n",
       "      <td>8ca5bdac5ebe8f2d6fc9171d5ebc906a</td>\n",
       "      <td>voucher</td>\n",
       "      <td>15.00</td>\n",
       "    </tr>\n",
       "    <tr>\n",
       "      <th>37465</th>\n",
       "      <td>8ca5bdac5ebe8f2d6fc9171d5ebc906a</td>\n",
       "      <td>credit_card</td>\n",
       "      <td>59.08</td>\n",
       "    </tr>\n",
       "    <tr>\n",
       "      <th>83047</th>\n",
       "      <td>8ca5bdac5ebe8f2d6fc9171d5ebc906a</td>\n",
       "      <td>voucher</td>\n",
       "      <td>25.00</td>\n",
       "    </tr>\n",
       "  </tbody>\n",
       "</table>\n",
       "</div>"
      ],
      "text/plain": [
       "                               order_id payment_type  payment_value\n",
       "752    8ca5bdac5ebe8f2d6fc9171d5ebc906a      voucher          15.00\n",
       "37465  8ca5bdac5ebe8f2d6fc9171d5ebc906a  credit_card          59.08\n",
       "83047  8ca5bdac5ebe8f2d6fc9171d5ebc906a      voucher          25.00"
      ]
     },
     "execution_count": 163,
     "metadata": {},
     "output_type": "execute_result"
    }
   ],
   "source": [
    "order_payments_df.query(\"order_id == '8ca5bdac5ebe8f2d6fc9171d5ebc906a'\")"
   ]
  },
  {
   "cell_type": "code",
   "execution_count": 164,
   "id": "4623a435",
   "metadata": {},
   "outputs": [
    {
     "name": "stdout",
     "output_type": "stream",
     "text": [
      "<class 'pandas.core.frame.DataFrame'>\n",
      "Int64Index: 118432 entries, 0 to 118431\n",
      "Data columns (total 15 columns):\n",
      " #   Column                         Non-Null Count   Dtype         \n",
      "---  ------                         --------------   -----         \n",
      " 0   order_id                       118432 non-null  object        \n",
      " 1   customer_id                    118432 non-null  object        \n",
      " 2   order_status                   118432 non-null  category      \n",
      " 3   order_approved_at              118265 non-null  datetime64[ns]\n",
      " 4   order_delivered_customer_date  115044 non-null  datetime64[ns]\n",
      " 5   review_id                      117438 non-null  object        \n",
      " 6   review_score                   117438 non-null  category      \n",
      " 7   payment_type                   118429 non-null  category      \n",
      " 8   payment_value                  118429 non-null  float64       \n",
      " 9   order_item_id                  117618 non-null  float64       \n",
      " 10  product_id                     117618 non-null  object        \n",
      " 11  seller_id                      117618 non-null  object        \n",
      " 12  shipping_limit_date            117618 non-null  datetime64[ns]\n",
      " 13  price                          117618 non-null  float64       \n",
      " 14  freight_value                  117618 non-null  float64       \n",
      "dtypes: category(3), datetime64[ns](3), float64(4), object(5)\n",
      "memory usage: 12.1+ MB\n"
     ]
    }
   ],
   "source": [
    "# orders + order_items_df = orders\n",
    "orders = pd.merge(orders, order_items_df, on='order_id', how='left')\n",
    "orders.info()"
   ]
  },
  {
   "cell_type": "code",
   "execution_count": 165,
   "id": "f01f427a",
   "metadata": {},
   "outputs": [
    {
     "name": "stdout",
     "output_type": "stream",
     "text": [
      "<class 'pandas.core.frame.DataFrame'>\n",
      "Int64Index: 118432 entries, 0 to 118431\n",
      "Data columns (total 16 columns):\n",
      " #   Column                         Non-Null Count   Dtype         \n",
      "---  ------                         --------------   -----         \n",
      " 0   order_id                       118432 non-null  object        \n",
      " 1   customer_id                    118432 non-null  object        \n",
      " 2   order_status                   118432 non-null  category      \n",
      " 3   order_approved_at              118265 non-null  datetime64[ns]\n",
      " 4   order_delivered_customer_date  115044 non-null  datetime64[ns]\n",
      " 5   review_id                      117438 non-null  object        \n",
      " 6   review_score                   117438 non-null  category      \n",
      " 7   payment_type                   118429 non-null  category      \n",
      " 8   payment_value                  118429 non-null  float64       \n",
      " 9   order_item_id                  117618 non-null  float64       \n",
      " 10  product_id                     117618 non-null  object        \n",
      " 11  seller_id                      117618 non-null  object        \n",
      " 12  shipping_limit_date            117618 non-null  datetime64[ns]\n",
      " 13  price                          117618 non-null  float64       \n",
      " 14  freight_value                  117618 non-null  float64       \n",
      " 15  product_category_name          115938 non-null  object        \n",
      "dtypes: category(3), datetime64[ns](3), float64(4), object(6)\n",
      "memory usage: 13.0+ MB\n"
     ]
    }
   ],
   "source": [
    "# orders + products = orders\n",
    "orders = pd.merge(orders, products_df, on='product_id', how='left')\n",
    "orders.info()"
   ]
  },
  {
   "cell_type": "code",
   "execution_count": 166,
   "id": "49b334b8",
   "metadata": {},
   "outputs": [
    {
     "name": "stdout",
     "output_type": "stream",
     "text": [
      "<class 'pandas.core.frame.DataFrame'>\n",
      "Int64Index: 118432 entries, 0 to 118431\n",
      "Data columns (total 19 columns):\n",
      " #   Column                         Non-Null Count   Dtype         \n",
      "---  ------                         --------------   -----         \n",
      " 0   order_id                       118432 non-null  object        \n",
      " 1   customer_id                    118432 non-null  object        \n",
      " 2   order_status                   118432 non-null  category      \n",
      " 3   order_approved_at              118265 non-null  datetime64[ns]\n",
      " 4   order_delivered_customer_date  115044 non-null  datetime64[ns]\n",
      " 5   review_id                      117438 non-null  object        \n",
      " 6   review_score                   117438 non-null  category      \n",
      " 7   payment_type                   118429 non-null  category      \n",
      " 8   payment_value                  118429 non-null  float64       \n",
      " 9   order_item_id                  117618 non-null  float64       \n",
      " 10  product_id                     117618 non-null  object        \n",
      " 11  seller_id                      117618 non-null  object        \n",
      " 12  shipping_limit_date            117618 non-null  datetime64[ns]\n",
      " 13  price                          117618 non-null  float64       \n",
      " 14  freight_value                  117618 non-null  float64       \n",
      " 15  product_category_name          115938 non-null  object        \n",
      " 16  seller_zip_code_prefix         117618 non-null  object        \n",
      " 17  seller_city                    117618 non-null  category      \n",
      " 18  seller_state                   117618 non-null  category      \n",
      "dtypes: category(5), datetime64[ns](3), float64(4), object(7)\n",
      "memory usage: 14.3+ MB\n"
     ]
    }
   ],
   "source": [
    "# orders + sellers_df = orders\n",
    "orders = pd.merge(orders, sellers_df, on='seller_id', how='left')\n",
    "orders.info()"
   ]
  },
  {
   "cell_type": "code",
   "execution_count": 167,
   "id": "a047c3c8",
   "metadata": {},
   "outputs": [
    {
     "name": "stdout",
     "output_type": "stream",
     "text": [
      "<class 'pandas.core.frame.DataFrame'>\n",
      "Int64Index: 118432 entries, 0 to 118431\n",
      "Data columns (total 24 columns):\n",
      " #   Column                         Non-Null Count   Dtype         \n",
      "---  ------                         --------------   -----         \n",
      " 0   order_id                       118432 non-null  object        \n",
      " 1   customer_id                    118432 non-null  object        \n",
      " 2   order_status                   118432 non-null  category      \n",
      " 3   order_approved_at              118265 non-null  datetime64[ns]\n",
      " 4   order_delivered_customer_date  115044 non-null  datetime64[ns]\n",
      " 5   review_id                      117438 non-null  object        \n",
      " 6   review_score                   117438 non-null  category      \n",
      " 7   payment_type                   118429 non-null  category      \n",
      " 8   payment_value                  118429 non-null  float64       \n",
      " 9   order_item_id                  117618 non-null  float64       \n",
      " 10  product_id                     117618 non-null  object        \n",
      " 11  seller_id                      117618 non-null  object        \n",
      " 12  shipping_limit_date            117618 non-null  datetime64[ns]\n",
      " 13  price                          117618 non-null  float64       \n",
      " 14  freight_value                  117618 non-null  float64       \n",
      " 15  product_category_name          115938 non-null  object        \n",
      " 16  seller_zip_code_prefix         117618 non-null  object        \n",
      " 17  seller_city                    117618 non-null  category      \n",
      " 18  seller_state                   117618 non-null  category      \n",
      " 19  geolocation_zip_code_prefix    117353 non-null  object        \n",
      " 20  geolocation_lat                117353 non-null  float64       \n",
      " 21  geolocation_lng                117353 non-null  float64       \n",
      " 22  geolocation_city               117353 non-null  category      \n",
      " 23  geolocation_state              117353 non-null  category      \n",
      "dtypes: category(7), datetime64[ns](3), float64(6), object(8)\n",
      "memory usage: 17.6+ MB\n"
     ]
    }
   ],
   "source": [
    "# orders + geolocations_df = orders\n",
    "orders = pd.merge(orders, geolocation_df, left_on = 'seller_zip_code_prefix', right_on = 'geolocation_zip_code_prefix', how='left')\n",
    "orders.info()"
   ]
  },
  {
   "cell_type": "code",
   "execution_count": 171,
   "id": "feff69b7",
   "metadata": {},
   "outputs": [
    {
     "name": "stdout",
     "output_type": "stream",
     "text": [
      "<class 'pandas.core.frame.DataFrame'>\n",
      "Int64Index: 118432 entries, 0 to 118431\n",
      "Data columns (total 28 columns):\n",
      " #   Column                         Non-Null Count   Dtype         \n",
      "---  ------                         --------------   -----         \n",
      " 0   order_id                       118432 non-null  object        \n",
      " 1   customer_id                    118432 non-null  object        \n",
      " 2   order_status                   118432 non-null  category      \n",
      " 3   order_approved_at              118265 non-null  datetime64[ns]\n",
      " 4   order_delivered_customer_date  115044 non-null  datetime64[ns]\n",
      " 5   review_id                      117438 non-null  object        \n",
      " 6   review_score                   117438 non-null  category      \n",
      " 7   payment_type                   118429 non-null  category      \n",
      " 8   payment_value                  118429 non-null  float64       \n",
      " 9   order_item_id                  117618 non-null  float64       \n",
      " 10  product_id                     117618 non-null  object        \n",
      " 11  seller_id                      117618 non-null  object        \n",
      " 12  shipping_limit_date            117618 non-null  datetime64[ns]\n",
      " 13  price                          117618 non-null  float64       \n",
      " 14  freight_value                  117618 non-null  float64       \n",
      " 15  product_category_name          115938 non-null  object        \n",
      " 16  seller_zip_code_prefix         117618 non-null  object        \n",
      " 17  seller_city                    117618 non-null  category      \n",
      " 18  seller_state                   117618 non-null  category      \n",
      " 19  geolocation_zip_code_prefix    117353 non-null  object        \n",
      " 20  geolocation_lat                117353 non-null  float64       \n",
      " 21  geolocation_lng                117353 non-null  float64       \n",
      " 22  geolocation_city               117353 non-null  category      \n",
      " 23  geolocation_state              117353 non-null  category      \n",
      " 24  customer_unique_id             118432 non-null  object        \n",
      " 25  customer_zip_code_prefix       118432 non-null  object        \n",
      " 26  customer_city                  118432 non-null  category      \n",
      " 27  customer_state                 118432 non-null  category      \n",
      "dtypes: category(9), datetime64[ns](3), float64(6), object(10)\n",
      "memory usage: 19.9+ MB\n"
     ]
    }
   ],
   "source": [
    "# orders + customers_df = orders\n",
    "orders = pd.merge(orders, customers_df, on='customer_id', how='left')\n",
    "orders.info()"
   ]
  },
  {
   "cell_type": "markdown",
   "id": "f44a4548",
   "metadata": {},
   "source": [
    "### Finally, let's rename our combined table to sales_data"
   ]
  },
  {
   "cell_type": "code",
   "execution_count": 172,
   "id": "8cb846af",
   "metadata": {},
   "outputs": [
    {
     "data": {
      "text/html": [
       "<div>\n",
       "<style scoped>\n",
       "    .dataframe tbody tr th:only-of-type {\n",
       "        vertical-align: middle;\n",
       "    }\n",
       "\n",
       "    .dataframe tbody tr th {\n",
       "        vertical-align: top;\n",
       "    }\n",
       "\n",
       "    .dataframe thead th {\n",
       "        text-align: right;\n",
       "    }\n",
       "</style>\n",
       "<table border=\"1\" class=\"dataframe\">\n",
       "  <thead>\n",
       "    <tr style=\"text-align: right;\">\n",
       "      <th></th>\n",
       "      <th>order_id</th>\n",
       "      <th>customer_id</th>\n",
       "      <th>order_status</th>\n",
       "      <th>order_approved_at</th>\n",
       "      <th>order_delivered_customer_date</th>\n",
       "      <th>review_id</th>\n",
       "      <th>review_score</th>\n",
       "      <th>payment_type</th>\n",
       "      <th>payment_value</th>\n",
       "      <th>order_item_id</th>\n",
       "      <th>...</th>\n",
       "      <th>seller_state</th>\n",
       "      <th>geolocation_zip_code_prefix</th>\n",
       "      <th>geolocation_lat</th>\n",
       "      <th>geolocation_lng</th>\n",
       "      <th>geolocation_city</th>\n",
       "      <th>geolocation_state</th>\n",
       "      <th>customer_unique_id</th>\n",
       "      <th>customer_zip_code_prefix</th>\n",
       "      <th>customer_city</th>\n",
       "      <th>customer_state</th>\n",
       "    </tr>\n",
       "  </thead>\n",
       "  <tbody>\n",
       "    <tr>\n",
       "      <th>0</th>\n",
       "      <td>e481f51cbdc54678b7cc49136f2d6af7</td>\n",
       "      <td>9ef432eb6251297304e76186b10a928d</td>\n",
       "      <td>delivered</td>\n",
       "      <td>2017-10-02 11:07:15</td>\n",
       "      <td>2017-10-10 21:25:13</td>\n",
       "      <td>a54f0611adc9ed256b57ede6b6eb5114</td>\n",
       "      <td>4</td>\n",
       "      <td>credit_card</td>\n",
       "      <td>18.12</td>\n",
       "      <td>1.0</td>\n",
       "      <td>...</td>\n",
       "      <td>SP</td>\n",
       "      <td>09350</td>\n",
       "      <td>-23.680114</td>\n",
       "      <td>-46.452454</td>\n",
       "      <td>maua</td>\n",
       "      <td>SP</td>\n",
       "      <td>7c396fd4830fd04220f754e42b4e5bff</td>\n",
       "      <td>03149</td>\n",
       "      <td>sao paulo</td>\n",
       "      <td>SP</td>\n",
       "    </tr>\n",
       "    <tr>\n",
       "      <th>1</th>\n",
       "      <td>e481f51cbdc54678b7cc49136f2d6af7</td>\n",
       "      <td>9ef432eb6251297304e76186b10a928d</td>\n",
       "      <td>delivered</td>\n",
       "      <td>2017-10-02 11:07:15</td>\n",
       "      <td>2017-10-10 21:25:13</td>\n",
       "      <td>a54f0611adc9ed256b57ede6b6eb5114</td>\n",
       "      <td>4</td>\n",
       "      <td>voucher</td>\n",
       "      <td>2.00</td>\n",
       "      <td>1.0</td>\n",
       "      <td>...</td>\n",
       "      <td>SP</td>\n",
       "      <td>09350</td>\n",
       "      <td>-23.680114</td>\n",
       "      <td>-46.452454</td>\n",
       "      <td>maua</td>\n",
       "      <td>SP</td>\n",
       "      <td>7c396fd4830fd04220f754e42b4e5bff</td>\n",
       "      <td>03149</td>\n",
       "      <td>sao paulo</td>\n",
       "      <td>SP</td>\n",
       "    </tr>\n",
       "    <tr>\n",
       "      <th>2</th>\n",
       "      <td>e481f51cbdc54678b7cc49136f2d6af7</td>\n",
       "      <td>9ef432eb6251297304e76186b10a928d</td>\n",
       "      <td>delivered</td>\n",
       "      <td>2017-10-02 11:07:15</td>\n",
       "      <td>2017-10-10 21:25:13</td>\n",
       "      <td>a54f0611adc9ed256b57ede6b6eb5114</td>\n",
       "      <td>4</td>\n",
       "      <td>voucher</td>\n",
       "      <td>18.59</td>\n",
       "      <td>1.0</td>\n",
       "      <td>...</td>\n",
       "      <td>SP</td>\n",
       "      <td>09350</td>\n",
       "      <td>-23.680114</td>\n",
       "      <td>-46.452454</td>\n",
       "      <td>maua</td>\n",
       "      <td>SP</td>\n",
       "      <td>7c396fd4830fd04220f754e42b4e5bff</td>\n",
       "      <td>03149</td>\n",
       "      <td>sao paulo</td>\n",
       "      <td>SP</td>\n",
       "    </tr>\n",
       "    <tr>\n",
       "      <th>3</th>\n",
       "      <td>53cdb2fc8bc7dce0b6741e2150273451</td>\n",
       "      <td>b0830fb4747a6c6d20dea0b8c802d7ef</td>\n",
       "      <td>delivered</td>\n",
       "      <td>2018-07-26 03:24:27</td>\n",
       "      <td>2018-08-07 15:27:45</td>\n",
       "      <td>8d5266042046a06655c8db133d120ba5</td>\n",
       "      <td>4</td>\n",
       "      <td>boleto</td>\n",
       "      <td>141.46</td>\n",
       "      <td>1.0</td>\n",
       "      <td>...</td>\n",
       "      <td>SP</td>\n",
       "      <td>31570</td>\n",
       "      <td>-19.810119</td>\n",
       "      <td>-43.984727</td>\n",
       "      <td>belo horizonte</td>\n",
       "      <td>MG</td>\n",
       "      <td>af07308b275d755c9edb36a90c618231</td>\n",
       "      <td>47813</td>\n",
       "      <td>barreiras</td>\n",
       "      <td>BA</td>\n",
       "    </tr>\n",
       "    <tr>\n",
       "      <th>4</th>\n",
       "      <td>47770eb9100c2d0c44946d9cf07ec65d</td>\n",
       "      <td>41ce2a54c0b03bf3443c3d931a367089</td>\n",
       "      <td>delivered</td>\n",
       "      <td>2018-08-08 08:55:23</td>\n",
       "      <td>2018-08-17 18:06:29</td>\n",
       "      <td>e73b67b67587f7644d5bd1a52deb1b01</td>\n",
       "      <td>5</td>\n",
       "      <td>credit_card</td>\n",
       "      <td>179.12</td>\n",
       "      <td>1.0</td>\n",
       "      <td>...</td>\n",
       "      <td>SP</td>\n",
       "      <td>14840</td>\n",
       "      <td>-21.362358</td>\n",
       "      <td>-48.232976</td>\n",
       "      <td>guariba</td>\n",
       "      <td>SP</td>\n",
       "      <td>3a653a41f6f9fc3d2a113cf8398680e8</td>\n",
       "      <td>75265</td>\n",
       "      <td>vianopolis</td>\n",
       "      <td>GO</td>\n",
       "    </tr>\n",
       "    <tr>\n",
       "      <th>...</th>\n",
       "      <td>...</td>\n",
       "      <td>...</td>\n",
       "      <td>...</td>\n",
       "      <td>...</td>\n",
       "      <td>...</td>\n",
       "      <td>...</td>\n",
       "      <td>...</td>\n",
       "      <td>...</td>\n",
       "      <td>...</td>\n",
       "      <td>...</td>\n",
       "      <td>...</td>\n",
       "      <td>...</td>\n",
       "      <td>...</td>\n",
       "      <td>...</td>\n",
       "      <td>...</td>\n",
       "      <td>...</td>\n",
       "      <td>...</td>\n",
       "      <td>...</td>\n",
       "      <td>...</td>\n",
       "      <td>...</td>\n",
       "      <td>...</td>\n",
       "    </tr>\n",
       "    <tr>\n",
       "      <th>118427</th>\n",
       "      <td>63943bddc261676b46f01ca7ac2f7bd8</td>\n",
       "      <td>1fca14ff2861355f6e5f14306ff977a7</td>\n",
       "      <td>delivered</td>\n",
       "      <td>2018-02-06 13:10:37</td>\n",
       "      <td>2018-02-28 17:37:56</td>\n",
       "      <td>29bb71b2760d0f876dfa178a76bc4734</td>\n",
       "      <td>4</td>\n",
       "      <td>credit_card</td>\n",
       "      <td>195.00</td>\n",
       "      <td>1.0</td>\n",
       "      <td>...</td>\n",
       "      <td>SP</td>\n",
       "      <td>17602</td>\n",
       "      <td>-21.935321</td>\n",
       "      <td>-50.497562</td>\n",
       "      <td>tupa</td>\n",
       "      <td>SP</td>\n",
       "      <td>da62f9e57a76d978d02ab5362c509660</td>\n",
       "      <td>11722</td>\n",
       "      <td>praia grande</td>\n",
       "      <td>SP</td>\n",
       "    </tr>\n",
       "    <tr>\n",
       "      <th>118428</th>\n",
       "      <td>83c1379a015df1e13d02aae0204711ab</td>\n",
       "      <td>1aa71eb042121263aafbe80c1b562c9c</td>\n",
       "      <td>delivered</td>\n",
       "      <td>2017-08-27 15:04:16</td>\n",
       "      <td>2017-09-21 11:24:17</td>\n",
       "      <td>371579771219f6db2d830d50805977bb</td>\n",
       "      <td>5</td>\n",
       "      <td>credit_card</td>\n",
       "      <td>271.01</td>\n",
       "      <td>1.0</td>\n",
       "      <td>...</td>\n",
       "      <td>SP</td>\n",
       "      <td>08290</td>\n",
       "      <td>-23.551013</td>\n",
       "      <td>-46.448489</td>\n",
       "      <td>sao paulo</td>\n",
       "      <td>SP</td>\n",
       "      <td>737520a9aad80b3fbbdad19b66b37b30</td>\n",
       "      <td>45920</td>\n",
       "      <td>nova vicosa</td>\n",
       "      <td>BA</td>\n",
       "    </tr>\n",
       "    <tr>\n",
       "      <th>118429</th>\n",
       "      <td>11c177c8e97725db2631073c19f07b62</td>\n",
       "      <td>b331b74b18dc79bcdf6532d51e1637c1</td>\n",
       "      <td>delivered</td>\n",
       "      <td>2018-01-08 21:36:21</td>\n",
       "      <td>2018-01-25 23:32:54</td>\n",
       "      <td>8ab6855b9fe9b812cd03a480a25058a1</td>\n",
       "      <td>2</td>\n",
       "      <td>credit_card</td>\n",
       "      <td>441.16</td>\n",
       "      <td>1.0</td>\n",
       "      <td>...</td>\n",
       "      <td>MG</td>\n",
       "      <td>37175</td>\n",
       "      <td>-20.944706</td>\n",
       "      <td>-45.827098</td>\n",
       "      <td>ilicinea</td>\n",
       "      <td>MG</td>\n",
       "      <td>5097a5312c8b157bb7be58ae360ef43c</td>\n",
       "      <td>28685</td>\n",
       "      <td>japuiba</td>\n",
       "      <td>RJ</td>\n",
       "    </tr>\n",
       "    <tr>\n",
       "      <th>118430</th>\n",
       "      <td>11c177c8e97725db2631073c19f07b62</td>\n",
       "      <td>b331b74b18dc79bcdf6532d51e1637c1</td>\n",
       "      <td>delivered</td>\n",
       "      <td>2018-01-08 21:36:21</td>\n",
       "      <td>2018-01-25 23:32:54</td>\n",
       "      <td>8ab6855b9fe9b812cd03a480a25058a1</td>\n",
       "      <td>2</td>\n",
       "      <td>credit_card</td>\n",
       "      <td>441.16</td>\n",
       "      <td>2.0</td>\n",
       "      <td>...</td>\n",
       "      <td>MG</td>\n",
       "      <td>37175</td>\n",
       "      <td>-20.944706</td>\n",
       "      <td>-45.827098</td>\n",
       "      <td>ilicinea</td>\n",
       "      <td>MG</td>\n",
       "      <td>5097a5312c8b157bb7be58ae360ef43c</td>\n",
       "      <td>28685</td>\n",
       "      <td>japuiba</td>\n",
       "      <td>RJ</td>\n",
       "    </tr>\n",
       "    <tr>\n",
       "      <th>118431</th>\n",
       "      <td>66dea50a8b16d9b4dee7af250b4be1a5</td>\n",
       "      <td>edb027a75a1449115f6b43211ae02a24</td>\n",
       "      <td>delivered</td>\n",
       "      <td>2018-03-09 11:20:28</td>\n",
       "      <td>2018-03-16 13:08:30</td>\n",
       "      <td>dc9c59b4688062c25758c2be4cafc523</td>\n",
       "      <td>5</td>\n",
       "      <td>debit_card</td>\n",
       "      <td>86.86</td>\n",
       "      <td>1.0</td>\n",
       "      <td>...</td>\n",
       "      <td>SP</td>\n",
       "      <td>14407</td>\n",
       "      <td>-20.502342</td>\n",
       "      <td>-47.421590</td>\n",
       "      <td>franca</td>\n",
       "      <td>SP</td>\n",
       "      <td>60350aa974b26ff12caad89e55993bd6</td>\n",
       "      <td>83750</td>\n",
       "      <td>lapa</td>\n",
       "      <td>PR</td>\n",
       "    </tr>\n",
       "  </tbody>\n",
       "</table>\n",
       "<p>118432 rows × 28 columns</p>\n",
       "</div>"
      ],
      "text/plain": [
       "                                order_id                       customer_id  \\\n",
       "0       e481f51cbdc54678b7cc49136f2d6af7  9ef432eb6251297304e76186b10a928d   \n",
       "1       e481f51cbdc54678b7cc49136f2d6af7  9ef432eb6251297304e76186b10a928d   \n",
       "2       e481f51cbdc54678b7cc49136f2d6af7  9ef432eb6251297304e76186b10a928d   \n",
       "3       53cdb2fc8bc7dce0b6741e2150273451  b0830fb4747a6c6d20dea0b8c802d7ef   \n",
       "4       47770eb9100c2d0c44946d9cf07ec65d  41ce2a54c0b03bf3443c3d931a367089   \n",
       "...                                  ...                               ...   \n",
       "118427  63943bddc261676b46f01ca7ac2f7bd8  1fca14ff2861355f6e5f14306ff977a7   \n",
       "118428  83c1379a015df1e13d02aae0204711ab  1aa71eb042121263aafbe80c1b562c9c   \n",
       "118429  11c177c8e97725db2631073c19f07b62  b331b74b18dc79bcdf6532d51e1637c1   \n",
       "118430  11c177c8e97725db2631073c19f07b62  b331b74b18dc79bcdf6532d51e1637c1   \n",
       "118431  66dea50a8b16d9b4dee7af250b4be1a5  edb027a75a1449115f6b43211ae02a24   \n",
       "\n",
       "       order_status   order_approved_at order_delivered_customer_date  \\\n",
       "0         delivered 2017-10-02 11:07:15           2017-10-10 21:25:13   \n",
       "1         delivered 2017-10-02 11:07:15           2017-10-10 21:25:13   \n",
       "2         delivered 2017-10-02 11:07:15           2017-10-10 21:25:13   \n",
       "3         delivered 2018-07-26 03:24:27           2018-08-07 15:27:45   \n",
       "4         delivered 2018-08-08 08:55:23           2018-08-17 18:06:29   \n",
       "...             ...                 ...                           ...   \n",
       "118427    delivered 2018-02-06 13:10:37           2018-02-28 17:37:56   \n",
       "118428    delivered 2017-08-27 15:04:16           2017-09-21 11:24:17   \n",
       "118429    delivered 2018-01-08 21:36:21           2018-01-25 23:32:54   \n",
       "118430    delivered 2018-01-08 21:36:21           2018-01-25 23:32:54   \n",
       "118431    delivered 2018-03-09 11:20:28           2018-03-16 13:08:30   \n",
       "\n",
       "                               review_id review_score payment_type  \\\n",
       "0       a54f0611adc9ed256b57ede6b6eb5114            4  credit_card   \n",
       "1       a54f0611adc9ed256b57ede6b6eb5114            4      voucher   \n",
       "2       a54f0611adc9ed256b57ede6b6eb5114            4      voucher   \n",
       "3       8d5266042046a06655c8db133d120ba5            4       boleto   \n",
       "4       e73b67b67587f7644d5bd1a52deb1b01            5  credit_card   \n",
       "...                                  ...          ...          ...   \n",
       "118427  29bb71b2760d0f876dfa178a76bc4734            4  credit_card   \n",
       "118428  371579771219f6db2d830d50805977bb            5  credit_card   \n",
       "118429  8ab6855b9fe9b812cd03a480a25058a1            2  credit_card   \n",
       "118430  8ab6855b9fe9b812cd03a480a25058a1            2  credit_card   \n",
       "118431  dc9c59b4688062c25758c2be4cafc523            5   debit_card   \n",
       "\n",
       "        payment_value  order_item_id  ... seller_state  \\\n",
       "0               18.12            1.0  ...           SP   \n",
       "1                2.00            1.0  ...           SP   \n",
       "2               18.59            1.0  ...           SP   \n",
       "3              141.46            1.0  ...           SP   \n",
       "4              179.12            1.0  ...           SP   \n",
       "...               ...            ...  ...          ...   \n",
       "118427         195.00            1.0  ...           SP   \n",
       "118428         271.01            1.0  ...           SP   \n",
       "118429         441.16            1.0  ...           MG   \n",
       "118430         441.16            2.0  ...           MG   \n",
       "118431          86.86            1.0  ...           SP   \n",
       "\n",
       "       geolocation_zip_code_prefix geolocation_lat  geolocation_lng  \\\n",
       "0                            09350      -23.680114       -46.452454   \n",
       "1                            09350      -23.680114       -46.452454   \n",
       "2                            09350      -23.680114       -46.452454   \n",
       "3                            31570      -19.810119       -43.984727   \n",
       "4                            14840      -21.362358       -48.232976   \n",
       "...                            ...             ...              ...   \n",
       "118427                       17602      -21.935321       -50.497562   \n",
       "118428                       08290      -23.551013       -46.448489   \n",
       "118429                       37175      -20.944706       -45.827098   \n",
       "118430                       37175      -20.944706       -45.827098   \n",
       "118431                       14407      -20.502342       -47.421590   \n",
       "\n",
       "        geolocation_city geolocation_state                customer_unique_id  \\\n",
       "0                   maua                SP  7c396fd4830fd04220f754e42b4e5bff   \n",
       "1                   maua                SP  7c396fd4830fd04220f754e42b4e5bff   \n",
       "2                   maua                SP  7c396fd4830fd04220f754e42b4e5bff   \n",
       "3         belo horizonte                MG  af07308b275d755c9edb36a90c618231   \n",
       "4                guariba                SP  3a653a41f6f9fc3d2a113cf8398680e8   \n",
       "...                  ...               ...                               ...   \n",
       "118427              tupa                SP  da62f9e57a76d978d02ab5362c509660   \n",
       "118428         sao paulo                SP  737520a9aad80b3fbbdad19b66b37b30   \n",
       "118429          ilicinea                MG  5097a5312c8b157bb7be58ae360ef43c   \n",
       "118430          ilicinea                MG  5097a5312c8b157bb7be58ae360ef43c   \n",
       "118431            franca                SP  60350aa974b26ff12caad89e55993bd6   \n",
       "\n",
       "       customer_zip_code_prefix customer_city customer_state  \n",
       "0                         03149     sao paulo             SP  \n",
       "1                         03149     sao paulo             SP  \n",
       "2                         03149     sao paulo             SP  \n",
       "3                         47813     barreiras             BA  \n",
       "4                         75265    vianopolis             GO  \n",
       "...                         ...           ...            ...  \n",
       "118427                    11722  praia grande             SP  \n",
       "118428                    45920   nova vicosa             BA  \n",
       "118429                    28685       japuiba             RJ  \n",
       "118430                    28685       japuiba             RJ  \n",
       "118431                    83750          lapa             PR  \n",
       "\n",
       "[118432 rows x 28 columns]"
      ]
     },
     "execution_count": 172,
     "metadata": {},
     "output_type": "execute_result"
    }
   ],
   "source": [
    "# order\n",
    "sales_data = orders.copy()\n",
    "sales_data"
   ]
  },
  {
   "cell_type": "markdown",
   "id": "f4b07fc8",
   "metadata": {},
   "source": [
    "## Clean the combined table data"
   ]
  },
  {
   "cell_type": "code",
   "execution_count": 177,
   "id": "562011a7",
   "metadata": {},
   "outputs": [],
   "source": [
    "# Export to csv for visual cleaning\n",
    "to_csv = sales_data.to_csv('dirty_sales_data.csv', index=False)"
   ]
  },
  {
   "cell_type": "markdown",
   "id": "14825113",
   "metadata": {},
   "source": [
    "### Data Quality Issues\n",
    "- Product category column not in English\n",
    "- Replace '_' with ' ' in category names\n",
    "- City names are in lower case\n",
    "- wrong datatype: review_score, payment_sequential, payment_installments, payment_type, customer_unique_id, geolocation_zip_code_prefix, geolocation_state, geolocation_city,\n",
    "- Inconsistent customer zipcode prefix format. 4 digits sometimes, 5 digits other times\n",
    "- non-ascii characters: geolocation city\n",
    "- Inconsistent spelling formats. e.g 'sÃ£o paulo', 'sao paulo'; getÃºlio vargas, getulio vargas; etc.\n",
    "- Certain columns are of type float instead of int\n",
    "- wrong datatype: order_item_id\n",
    "- Wrong datatype: payment_type,  payment_sequential, payment_installments\n",
    "- wrong datatype: customer_city, customer_state, customer_zip_code_prefix\n",
    "- Inconsistent customer zipcode prefix format. 4 digits sometimes, 5 digits other times\n",
    "- City name in lower case"
   ]
  },
  {
   "cell_type": "code",
   "execution_count": null,
   "id": "c43ab090",
   "metadata": {},
   "outputs": [],
   "source": []
  }
 ],
 "metadata": {
  "kernelspec": {
   "display_name": "Python 3 (ipykernel)",
   "language": "python",
   "name": "python3"
  },
  "language_info": {
   "codemirror_mode": {
    "name": "ipython",
    "version": 3
   },
   "file_extension": ".py",
   "mimetype": "text/x-python",
   "name": "python",
   "nbconvert_exporter": "python",
   "pygments_lexer": "ipython3",
   "version": "3.9.12"
  }
 },
 "nbformat": 4,
 "nbformat_minor": 5
}
